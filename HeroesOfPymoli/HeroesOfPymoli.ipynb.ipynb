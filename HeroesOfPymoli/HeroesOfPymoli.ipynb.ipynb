{
 "cells": [
  {
   "cell_type": "code",
   "execution_count": null,
   "id": "b82d0f8f",
   "metadata": {},
   "outputs": [],
   "source": [
    "#Heroes of Pymoli analysis\n",
    "\n",
    "The data collected shows that 84% of players are male. Females represent only 14.06% of the total players. However, the average total purchase per person shows females at the first position with $4.47, while the average male purchase per person is $4.06.\n",
    "Concerning the age range, the 20-24 age range represents the 44.79% of players, which is the highest, followed by the 15-19 age range far, with 18.58% of players.\n",
    "The most popular item is Final Critic, with 13 purchases, followed by Oathbreaker, Last Hope of the Breaking Storm."
   ]
  },
  {
   "cell_type": "code",
   "execution_count": null,
   "id": "1a7eb7f8",
   "metadata": {},
   "outputs": [],
   "source": []
  },
  {
   "cell_type": "code",
   "execution_count": 12,
   "id": "c63922e6",
   "metadata": {},
   "outputs": [],
   "source": [
    "import pandas as pd"
   ]
  },
  {
   "cell_type": "code",
   "execution_count": 13,
   "id": "b1cf8401",
   "metadata": {},
   "outputs": [],
   "source": [
    "file_to_load = \"Resources/purchase_data.csv\""
   ]
  },
  {
   "cell_type": "code",
   "execution_count": 14,
   "id": "212ec359",
   "metadata": {},
   "outputs": [],
   "source": [
    "purchase_data = pd.read_csv(file_to_load)"
   ]
  },
  {
   "cell_type": "code",
   "execution_count": 15,
   "id": "5eddf9ac",
   "metadata": {},
   "outputs": [
    {
     "data": {
      "text/html": [
       "<div>\n",
       "<style scoped>\n",
       "    .dataframe tbody tr th:only-of-type {\n",
       "        vertical-align: middle;\n",
       "    }\n",
       "\n",
       "    .dataframe tbody tr th {\n",
       "        vertical-align: top;\n",
       "    }\n",
       "\n",
       "    .dataframe thead th {\n",
       "        text-align: right;\n",
       "    }\n",
       "</style>\n",
       "<table border=\"1\" class=\"dataframe\">\n",
       "  <thead>\n",
       "    <tr style=\"text-align: right;\">\n",
       "      <th></th>\n",
       "      <th>Purchase ID</th>\n",
       "      <th>SN</th>\n",
       "      <th>Age</th>\n",
       "      <th>Gender</th>\n",
       "      <th>Item ID</th>\n",
       "      <th>Item Name</th>\n",
       "      <th>Price</th>\n",
       "    </tr>\n",
       "  </thead>\n",
       "  <tbody>\n",
       "    <tr>\n",
       "      <th>0</th>\n",
       "      <td>0</td>\n",
       "      <td>Lisim78</td>\n",
       "      <td>20</td>\n",
       "      <td>Male</td>\n",
       "      <td>108</td>\n",
       "      <td>Extraction, Quickblade Of Trembling Hands</td>\n",
       "      <td>3.53</td>\n",
       "    </tr>\n",
       "    <tr>\n",
       "      <th>1</th>\n",
       "      <td>1</td>\n",
       "      <td>Lisovynya38</td>\n",
       "      <td>40</td>\n",
       "      <td>Male</td>\n",
       "      <td>143</td>\n",
       "      <td>Frenzied Scimitar</td>\n",
       "      <td>1.56</td>\n",
       "    </tr>\n",
       "    <tr>\n",
       "      <th>2</th>\n",
       "      <td>2</td>\n",
       "      <td>Ithergue48</td>\n",
       "      <td>24</td>\n",
       "      <td>Male</td>\n",
       "      <td>92</td>\n",
       "      <td>Final Critic</td>\n",
       "      <td>4.88</td>\n",
       "    </tr>\n",
       "    <tr>\n",
       "      <th>3</th>\n",
       "      <td>3</td>\n",
       "      <td>Chamassasya86</td>\n",
       "      <td>24</td>\n",
       "      <td>Male</td>\n",
       "      <td>100</td>\n",
       "      <td>Blindscythe</td>\n",
       "      <td>3.27</td>\n",
       "    </tr>\n",
       "    <tr>\n",
       "      <th>4</th>\n",
       "      <td>4</td>\n",
       "      <td>Iskosia90</td>\n",
       "      <td>23</td>\n",
       "      <td>Male</td>\n",
       "      <td>131</td>\n",
       "      <td>Fury</td>\n",
       "      <td>1.44</td>\n",
       "    </tr>\n",
       "    <tr>\n",
       "      <th>...</th>\n",
       "      <td>...</td>\n",
       "      <td>...</td>\n",
       "      <td>...</td>\n",
       "      <td>...</td>\n",
       "      <td>...</td>\n",
       "      <td>...</td>\n",
       "      <td>...</td>\n",
       "    </tr>\n",
       "    <tr>\n",
       "      <th>775</th>\n",
       "      <td>775</td>\n",
       "      <td>Aethedru70</td>\n",
       "      <td>21</td>\n",
       "      <td>Female</td>\n",
       "      <td>60</td>\n",
       "      <td>Wolf</td>\n",
       "      <td>3.54</td>\n",
       "    </tr>\n",
       "    <tr>\n",
       "      <th>776</th>\n",
       "      <td>776</td>\n",
       "      <td>Iral74</td>\n",
       "      <td>21</td>\n",
       "      <td>Male</td>\n",
       "      <td>164</td>\n",
       "      <td>Exiled Doomblade</td>\n",
       "      <td>1.63</td>\n",
       "    </tr>\n",
       "    <tr>\n",
       "      <th>777</th>\n",
       "      <td>777</td>\n",
       "      <td>Yathecal72</td>\n",
       "      <td>20</td>\n",
       "      <td>Male</td>\n",
       "      <td>67</td>\n",
       "      <td>Celeste, Incarnation of the Corrupted</td>\n",
       "      <td>3.46</td>\n",
       "    </tr>\n",
       "    <tr>\n",
       "      <th>778</th>\n",
       "      <td>778</td>\n",
       "      <td>Sisur91</td>\n",
       "      <td>7</td>\n",
       "      <td>Male</td>\n",
       "      <td>92</td>\n",
       "      <td>Final Critic</td>\n",
       "      <td>4.19</td>\n",
       "    </tr>\n",
       "    <tr>\n",
       "      <th>779</th>\n",
       "      <td>779</td>\n",
       "      <td>Ennrian78</td>\n",
       "      <td>24</td>\n",
       "      <td>Male</td>\n",
       "      <td>50</td>\n",
       "      <td>Dawn</td>\n",
       "      <td>4.60</td>\n",
       "    </tr>\n",
       "  </tbody>\n",
       "</table>\n",
       "<p>780 rows × 7 columns</p>\n",
       "</div>"
      ],
      "text/plain": [
       "     Purchase ID             SN  Age  Gender  Item ID  \\\n",
       "0              0        Lisim78   20    Male      108   \n",
       "1              1    Lisovynya38   40    Male      143   \n",
       "2              2     Ithergue48   24    Male       92   \n",
       "3              3  Chamassasya86   24    Male      100   \n",
       "4              4      Iskosia90   23    Male      131   \n",
       "..           ...            ...  ...     ...      ...   \n",
       "775          775     Aethedru70   21  Female       60   \n",
       "776          776         Iral74   21    Male      164   \n",
       "777          777     Yathecal72   20    Male       67   \n",
       "778          778        Sisur91    7    Male       92   \n",
       "779          779      Ennrian78   24    Male       50   \n",
       "\n",
       "                                     Item Name  Price  \n",
       "0    Extraction, Quickblade Of Trembling Hands   3.53  \n",
       "1                            Frenzied Scimitar   1.56  \n",
       "2                                 Final Critic   4.88  \n",
       "3                                  Blindscythe   3.27  \n",
       "4                                         Fury   1.44  \n",
       "..                                         ...    ...  \n",
       "775                                       Wolf   3.54  \n",
       "776                           Exiled Doomblade   1.63  \n",
       "777      Celeste, Incarnation of the Corrupted   3.46  \n",
       "778                               Final Critic   4.19  \n",
       "779                                       Dawn   4.60  \n",
       "\n",
       "[780 rows x 7 columns]"
      ]
     },
     "execution_count": 15,
     "metadata": {},
     "output_type": "execute_result"
    }
   ],
   "source": [
    "purchase_data"
   ]
  },
  {
   "cell_type": "code",
   "execution_count": 16,
   "id": "ed1f7cad",
   "metadata": {},
   "outputs": [],
   "source": [
    "#Player Count"
   ]
  },
  {
   "cell_type": "code",
   "execution_count": 17,
   "id": "2183b0ab",
   "metadata": {},
   "outputs": [
    {
     "data": {
      "text/plain": [
       "576"
      ]
     },
     "execution_count": 17,
     "metadata": {},
     "output_type": "execute_result"
    }
   ],
   "source": [
    "total_players = purchase_data[\"SN\"].nunique()\n",
    "total_players"
   ]
  },
  {
   "cell_type": "code",
   "execution_count": 18,
   "id": "e4e14a0c",
   "metadata": {},
   "outputs": [
    {
     "data": {
      "text/html": [
       "<style  type=\"text/css\" >\n",
       "    #T_49d0d1e8_f5bc_11ec_8318_fa9776767f0d td {\n",
       "          text-align: left;\n",
       "    }    #T_49d0d1e8_f5bc_11ec_8318_fa9776767f0d .col_heading {\n",
       "          text-align: center;\n",
       "    }    #T_49d0d1e8_f5bc_11ec_8318_fa9776767f0d .row_heading {\n",
       "          text-align: center;\n",
       "    }</style><table id=\"T_49d0d1e8_f5bc_11ec_8318_fa9776767f0d\" ><thead>    <tr>        <th class=\"blank level0\" ></th>        <th class=\"col_heading level0 col0\" >Total Players</th>    </tr></thead><tbody>\n",
       "                <tr>\n",
       "                        <th id=\"T_49d0d1e8_f5bc_11ec_8318_fa9776767f0dlevel0_row0\" class=\"row_heading level0 row0\" >0</th>\n",
       "                        <td id=\"T_49d0d1e8_f5bc_11ec_8318_fa9776767f0drow0_col0\" class=\"data row0 col0\" >576</td>\n",
       "            </tr>\n",
       "    </tbody></table>"
      ],
      "text/plain": [
       "<pandas.io.formats.style.Styler at 0x28a6a7f4f08>"
      ]
     },
     "execution_count": 18,
     "metadata": {},
     "output_type": "execute_result"
    }
   ],
   "source": [
    "pd.DataFrame({\"Total Players\" :[total_players]}).style.set_table_styles([{'selector': 'td', 'props': [('text-align', 'left')]},\n",
    "                           {'selector': '.col_heading', 'props': [('text-align', 'center')]},\n",
    "                           {'selector': '.row_heading', 'props': [('text-align', 'center')]}])"
   ]
  },
  {
   "cell_type": "code",
   "execution_count": 19,
   "id": "863669c3",
   "metadata": {},
   "outputs": [],
   "source": [
    "#Purchasing Analysis (Total)"
   ]
  },
  {
   "cell_type": "code",
   "execution_count": 20,
   "id": "a88118c0",
   "metadata": {},
   "outputs": [
    {
     "data": {
      "text/plain": [
       "179"
      ]
     },
     "execution_count": 20,
     "metadata": {},
     "output_type": "execute_result"
    }
   ],
   "source": [
    "unique_items_number = purchase_data[\"Item ID\"].nunique()\n",
    "unique_items_number"
   ]
  },
  {
   "cell_type": "code",
   "execution_count": 21,
   "id": "7ad6f23c",
   "metadata": {},
   "outputs": [
    {
     "data": {
      "text/plain": [
       "3.0509871794871795"
      ]
     },
     "execution_count": 21,
     "metadata": {},
     "output_type": "execute_result"
    }
   ],
   "source": [
    "average_price = purchase_data[\"Price\"].mean()\n",
    "average_price"
   ]
  },
  {
   "cell_type": "code",
   "execution_count": 22,
   "id": "945e379e",
   "metadata": {},
   "outputs": [
    {
     "data": {
      "text/plain": [
       "780"
      ]
     },
     "execution_count": 22,
     "metadata": {},
     "output_type": "execute_result"
    }
   ],
   "source": [
    "number_purchases = purchase_data[\"Purchase ID\"].count()\n",
    "number_purchases"
   ]
  },
  {
   "cell_type": "code",
   "execution_count": 23,
   "id": "af72fb09",
   "metadata": {
    "scrolled": true
   },
   "outputs": [
    {
     "data": {
      "text/plain": [
       "2379.77"
      ]
     },
     "execution_count": 23,
     "metadata": {},
     "output_type": "execute_result"
    }
   ],
   "source": [
    "total_revenue = purchase_data[\"Price\"].sum()\n",
    "total_revenue"
   ]
  },
  {
   "cell_type": "code",
   "execution_count": 24,
   "id": "4218b7e3",
   "metadata": {},
   "outputs": [],
   "source": [
    "Data_Summary_df = pd.DataFrame({\n",
    "    \"Number of Unique Items\" : [unique_items_number],\n",
    "    \"Average Price\" : [average_price],\n",
    "    \"Number of Purchases\" : [number_purchases],\n",
    "    \"Total Revenue\" : [total_revenue]\n",
    "})"
   ]
  },
  {
   "cell_type": "code",
   "execution_count": 25,
   "id": "ff96101e",
   "metadata": {},
   "outputs": [],
   "source": [
    "Data_Summary_df[\"Average Price\"] = Data_Summary_df[\"Average Price\"].map(\"${:,.2f}\".format)\n",
    "Data_Summary_df[\"Total Revenue\"] = Data_Summary_df[\"Total Revenue\"].map(\"${:,.2f}\".format)"
   ]
  },
  {
   "cell_type": "code",
   "execution_count": 26,
   "id": "68902d1a",
   "metadata": {},
   "outputs": [
    {
     "data": {
      "text/html": [
       "<style  type=\"text/css\" >\n",
       "    #T_51c89e76_f5bc_11ec_9bef_fa9776767f0d td {\n",
       "          text-align: left;\n",
       "    }    #T_51c89e76_f5bc_11ec_9bef_fa9776767f0d .col_heading {\n",
       "          text-align: center;\n",
       "    }    #T_51c89e76_f5bc_11ec_9bef_fa9776767f0d .row_heading {\n",
       "          text-align: center;\n",
       "    }</style><table id=\"T_51c89e76_f5bc_11ec_9bef_fa9776767f0d\" ><thead>    <tr>        <th class=\"blank level0\" ></th>        <th class=\"col_heading level0 col0\" >Number of Unique Items</th>        <th class=\"col_heading level0 col1\" >Average Price</th>        <th class=\"col_heading level0 col2\" >Number of Purchases</th>        <th class=\"col_heading level0 col3\" >Total Revenue</th>    </tr></thead><tbody>\n",
       "                <tr>\n",
       "                        <th id=\"T_51c89e76_f5bc_11ec_9bef_fa9776767f0dlevel0_row0\" class=\"row_heading level0 row0\" >0</th>\n",
       "                        <td id=\"T_51c89e76_f5bc_11ec_9bef_fa9776767f0drow0_col0\" class=\"data row0 col0\" >179</td>\n",
       "                        <td id=\"T_51c89e76_f5bc_11ec_9bef_fa9776767f0drow0_col1\" class=\"data row0 col1\" >$3.05</td>\n",
       "                        <td id=\"T_51c89e76_f5bc_11ec_9bef_fa9776767f0drow0_col2\" class=\"data row0 col2\" >780</td>\n",
       "                        <td id=\"T_51c89e76_f5bc_11ec_9bef_fa9776767f0drow0_col3\" class=\"data row0 col3\" >$2,379.77</td>\n",
       "            </tr>\n",
       "    </tbody></table>"
      ],
      "text/plain": [
       "<pandas.io.formats.style.Styler at 0x28a6b4fcc88>"
      ]
     },
     "execution_count": 26,
     "metadata": {},
     "output_type": "execute_result"
    }
   ],
   "source": [
    "Data_Summary_df[[\"Number of Unique Items\",\"Average Price\",\"Number of Purchases\",\"Total Revenue\"]].style.set_table_styles([{'selector': 'td', 'props': [('text-align', 'left')]},\n",
    "                           {'selector': '.col_heading', 'props': [('text-align', 'center')]},\n",
    "                           {'selector': '.row_heading', 'props': [('text-align', 'center')]}])"
   ]
  },
  {
   "cell_type": "code",
   "execution_count": 27,
   "id": "986d8a1f",
   "metadata": {},
   "outputs": [],
   "source": [
    "#Gender Demographics"
   ]
  },
  {
   "cell_type": "code",
   "execution_count": 28,
   "id": "af77e2df",
   "metadata": {},
   "outputs": [],
   "source": [
    "gender_group = purchase_data.groupby([\"Gender\"])"
   ]
  },
  {
   "cell_type": "code",
   "execution_count": 29,
   "id": "91f85644",
   "metadata": {},
   "outputs": [],
   "source": [
    "male_gender_df = purchase_data[purchase_data[\"Gender\"] == \"Male\"]"
   ]
  },
  {
   "cell_type": "code",
   "execution_count": 30,
   "id": "f3f30be6",
   "metadata": {},
   "outputs": [
    {
     "data": {
      "text/plain": [
       "484"
      ]
     },
     "execution_count": 30,
     "metadata": {},
     "output_type": "execute_result"
    }
   ],
   "source": [
    "count_male = male_gender_df[\"SN\"].nunique()\n",
    "count_male"
   ]
  },
  {
   "cell_type": "code",
   "execution_count": 31,
   "id": "f7254e8e",
   "metadata": {},
   "outputs": [
    {
     "data": {
      "text/plain": [
       "84.02777777777779"
      ]
     },
     "execution_count": 31,
     "metadata": {},
     "output_type": "execute_result"
    }
   ],
   "source": [
    "male_percentage = (count_male/total_players)*100\n",
    "male_percentage"
   ]
  },
  {
   "cell_type": "code",
   "execution_count": 32,
   "id": "5f1d2732",
   "metadata": {},
   "outputs": [],
   "source": [
    "female_gender_df = purchase_data[purchase_data[\"Gender\"] == \"Female\"]"
   ]
  },
  {
   "cell_type": "code",
   "execution_count": 33,
   "id": "cd346e0f",
   "metadata": {},
   "outputs": [
    {
     "data": {
      "text/plain": [
       "81"
      ]
     },
     "execution_count": 33,
     "metadata": {},
     "output_type": "execute_result"
    }
   ],
   "source": [
    "count_female = female_gender_df[\"SN\"].nunique()\n",
    "count_female"
   ]
  },
  {
   "cell_type": "code",
   "execution_count": 34,
   "id": "12add740",
   "metadata": {},
   "outputs": [
    {
     "data": {
      "text/plain": [
       "14.0625"
      ]
     },
     "execution_count": 34,
     "metadata": {},
     "output_type": "execute_result"
    }
   ],
   "source": [
    "female_percentage = (count_female/total_players)*100\n",
    "female_percentage"
   ]
  },
  {
   "cell_type": "code",
   "execution_count": 35,
   "id": "b2f65dda",
   "metadata": {},
   "outputs": [],
   "source": [
    "other_gender_df = purchase_data[purchase_data[\"Gender\"] == \"Other / Non-Disclosed\"]"
   ]
  },
  {
   "cell_type": "code",
   "execution_count": 36,
   "id": "616513f3",
   "metadata": {},
   "outputs": [
    {
     "data": {
      "text/plain": [
       "11"
      ]
     },
     "execution_count": 36,
     "metadata": {},
     "output_type": "execute_result"
    }
   ],
   "source": [
    "count_other = other_gender_df[\"SN\"].nunique()\n",
    "count_other"
   ]
  },
  {
   "cell_type": "code",
   "execution_count": 37,
   "id": "3cb786e8",
   "metadata": {},
   "outputs": [
    {
     "data": {
      "text/plain": [
       "1.9097222222222223"
      ]
     },
     "execution_count": 37,
     "metadata": {},
     "output_type": "execute_result"
    }
   ],
   "source": [
    "other_percentage = (count_other/total_players)*100\n",
    "other_percentage"
   ]
  },
  {
   "cell_type": "code",
   "execution_count": 38,
   "id": "db7835b6",
   "metadata": {},
   "outputs": [],
   "source": [
    "Gender_demographics_df = pd.DataFrame({\n",
    "    \"Tota Count\":[count_male,count_female,count_other],\n",
    "    \"Percentage of Players\":[male_percentage,female_percentage,other_percentage]\n",
    "})"
   ]
  },
  {
   "cell_type": "code",
   "execution_count": 39,
   "id": "b0e26aaa",
   "metadata": {},
   "outputs": [],
   "source": [
    "Gender_demographics_df.rename(index={0:\"Male\",1:\"Female\",2:\"Other / Non-Disclosed\"}, inplace = True)\n"
   ]
  },
  {
   "cell_type": "code",
   "execution_count": 40,
   "id": "bfd263aa",
   "metadata": {},
   "outputs": [],
   "source": [
    "Gender_demographics_df[\"Percentage of Players\"] = Gender_demographics_df[\"Percentage of Players\"].map(\"{:,.2f}%\".format)"
   ]
  },
  {
   "cell_type": "code",
   "execution_count": 41,
   "id": "66796468",
   "metadata": {},
   "outputs": [
    {
     "data": {
      "text/html": [
       "<style  type=\"text/css\" >\n",
       "    #T_5b46f4dc_f5bc_11ec_bf2e_fa9776767f0d td {\n",
       "          text-align: left;\n",
       "    }    #T_5b46f4dc_f5bc_11ec_bf2e_fa9776767f0d .col_heading {\n",
       "          text-align: center;\n",
       "    }    #T_5b46f4dc_f5bc_11ec_bf2e_fa9776767f0d .row_heading {\n",
       "          text-align: left;\n",
       "    }</style><table id=\"T_5b46f4dc_f5bc_11ec_bf2e_fa9776767f0d\" ><thead>    <tr>        <th class=\"blank level0\" ></th>        <th class=\"col_heading level0 col0\" >Tota Count</th>        <th class=\"col_heading level0 col1\" >Percentage of Players</th>    </tr></thead><tbody>\n",
       "                <tr>\n",
       "                        <th id=\"T_5b46f4dc_f5bc_11ec_bf2e_fa9776767f0dlevel0_row0\" class=\"row_heading level0 row0\" >Male</th>\n",
       "                        <td id=\"T_5b46f4dc_f5bc_11ec_bf2e_fa9776767f0drow0_col0\" class=\"data row0 col0\" >484</td>\n",
       "                        <td id=\"T_5b46f4dc_f5bc_11ec_bf2e_fa9776767f0drow0_col1\" class=\"data row0 col1\" >84.03%</td>\n",
       "            </tr>\n",
       "            <tr>\n",
       "                        <th id=\"T_5b46f4dc_f5bc_11ec_bf2e_fa9776767f0dlevel0_row1\" class=\"row_heading level0 row1\" >Female</th>\n",
       "                        <td id=\"T_5b46f4dc_f5bc_11ec_bf2e_fa9776767f0drow1_col0\" class=\"data row1 col0\" >81</td>\n",
       "                        <td id=\"T_5b46f4dc_f5bc_11ec_bf2e_fa9776767f0drow1_col1\" class=\"data row1 col1\" >14.06%</td>\n",
       "            </tr>\n",
       "            <tr>\n",
       "                        <th id=\"T_5b46f4dc_f5bc_11ec_bf2e_fa9776767f0dlevel0_row2\" class=\"row_heading level0 row2\" >Other / Non-Disclosed</th>\n",
       "                        <td id=\"T_5b46f4dc_f5bc_11ec_bf2e_fa9776767f0drow2_col0\" class=\"data row2 col0\" >11</td>\n",
       "                        <td id=\"T_5b46f4dc_f5bc_11ec_bf2e_fa9776767f0drow2_col1\" class=\"data row2 col1\" >1.91%</td>\n",
       "            </tr>\n",
       "    </tbody></table>"
      ],
      "text/plain": [
       "<pandas.io.formats.style.Styler at 0x28a6b5322c8>"
      ]
     },
     "execution_count": 41,
     "metadata": {},
     "output_type": "execute_result"
    }
   ],
   "source": [
    "Gender_demographics_df.style.set_table_styles([{'selector': 'td', 'props': [('text-align', 'left')]},\n",
    "                           {'selector': '.col_heading', 'props': [('text-align', 'center')]},\n",
    "                           {'selector': '.row_heading', 'props': [('text-align', 'left')]}])\n",
    "                            \n",
    "                                                                  "
   ]
  },
  {
   "cell_type": "code",
   "execution_count": 42,
   "id": "4802aa9c",
   "metadata": {},
   "outputs": [],
   "source": [
    "#Purchasing Analysis (Gender)"
   ]
  },
  {
   "cell_type": "code",
   "execution_count": 43,
   "id": "366bbd75",
   "metadata": {},
   "outputs": [
    {
     "data": {
      "text/plain": [
       "Gender\n",
       "Female                   113\n",
       "Male                     652\n",
       "Other / Non-Disclosed     15\n",
       "Name: Purchase ID, dtype: int64"
      ]
     },
     "execution_count": 43,
     "metadata": {},
     "output_type": "execute_result"
    }
   ],
   "source": [
    "purchase_count = gender_group[\"Purchase ID\"].count()\n",
    "purchase_count"
   ]
  },
  {
   "cell_type": "code",
   "execution_count": 44,
   "id": "fd253763",
   "metadata": {},
   "outputs": [
    {
     "data": {
      "text/plain": [
       "Gender\n",
       "Female                   3.203009\n",
       "Male                     3.017853\n",
       "Other / Non-Disclosed    3.346000\n",
       "Name: Price, dtype: float64"
      ]
     },
     "execution_count": 44,
     "metadata": {},
     "output_type": "execute_result"
    }
   ],
   "source": [
    "avg_purchase_price = gender_group[\"Price\"].mean()\n",
    "avg_purchase_price"
   ]
  },
  {
   "cell_type": "code",
   "execution_count": 45,
   "id": "6c5ad477",
   "metadata": {},
   "outputs": [
    {
     "data": {
      "text/plain": [
       "Gender\n",
       "Female                    361.94\n",
       "Male                     1967.64\n",
       "Other / Non-Disclosed      50.19\n",
       "Name: Price, dtype: float64"
      ]
     },
     "execution_count": 45,
     "metadata": {},
     "output_type": "execute_result"
    }
   ],
   "source": [
    "total_purchase = gender_group[\"Price\"].sum()\n",
    "total_purchase"
   ]
  },
  {
   "cell_type": "code",
   "execution_count": 46,
   "id": "dcc7b4f9",
   "metadata": {},
   "outputs": [
    {
     "data": {
      "text/plain": [
       "Gender\n",
       "Female                    81\n",
       "Male                     484\n",
       "Other / Non-Disclosed     11\n",
       "Name: SN, dtype: int64"
      ]
     },
     "execution_count": 46,
     "metadata": {},
     "output_type": "execute_result"
    }
   ],
   "source": [
    "total_gender = gender_group[\"SN\"].nunique()\n",
    "total_gender"
   ]
  },
  {
   "cell_type": "code",
   "execution_count": 47,
   "id": "b9651682",
   "metadata": {},
   "outputs": [
    {
     "data": {
      "text/plain": [
       "Gender\n",
       "Female                   4.468395\n",
       "Male                     4.065372\n",
       "Other / Non-Disclosed    4.562727\n",
       "dtype: float64"
      ]
     },
     "execution_count": 47,
     "metadata": {},
     "output_type": "execute_result"
    }
   ],
   "source": [
    "avg_total_purchase_person = total_purchase/total_gender\n",
    "avg_total_purchase_person"
   ]
  },
  {
   "cell_type": "code",
   "execution_count": 48,
   "id": "9eec3598",
   "metadata": {},
   "outputs": [],
   "source": [
    "gender_Purchase_df = pd.DataFrame({\"Purchase Count\":purchase_count,\n",
    "                                  \"Average Purchase Price\":avg_purchase_price,\n",
    "                                  \"Total Purchase Value\":total_purchase,\n",
    "                                  \"Avg Total Purchase per Person\":avg_total_purchase_person})"
   ]
  },
  {
   "cell_type": "code",
   "execution_count": 49,
   "id": "d009cc86",
   "metadata": {},
   "outputs": [],
   "source": [
    "gender_Purchase_df[\"Average Purchase Price\"] = gender_Purchase_df[\"Average Purchase Price\"].map(\"${:,.2f}\".format)\n",
    "gender_Purchase_df[\"Total Purchase Value\"] = gender_Purchase_df[\"Total Purchase Value\"].map(\"${:,.2f}\".format)\n",
    "gender_Purchase_df[\"Avg Total Purchase per Person\"] = gender_Purchase_df[\"Avg Total Purchase per Person\"].map(\"${:,.2f}\".format)\n"
   ]
  },
  {
   "cell_type": "code",
   "execution_count": 50,
   "id": "79b3ab0c",
   "metadata": {},
   "outputs": [
    {
     "data": {
      "text/html": [
       "<style  type=\"text/css\" >\n",
       "    #T_a74827b8_f5bc_11ec_8e23_fa9776767f0d td {\n",
       "          text-align: left;\n",
       "    }    #T_a74827b8_f5bc_11ec_8e23_fa9776767f0d .col_heading {\n",
       "          text-align: center;\n",
       "    }    #T_a74827b8_f5bc_11ec_8e23_fa9776767f0d .row_heading {\n",
       "          text-align: left;\n",
       "    }</style><table id=\"T_a74827b8_f5bc_11ec_8e23_fa9776767f0d\" ><thead>    <tr>        <th class=\"blank level0\" ></th>        <th class=\"col_heading level0 col0\" >Purchase Count</th>        <th class=\"col_heading level0 col1\" >Average Purchase Price</th>        <th class=\"col_heading level0 col2\" >Total Purchase Value</th>        <th class=\"col_heading level0 col3\" >Avg Total Purchase per Person</th>    </tr>    <tr>        <th class=\"index_name level0\" >Gender</th>        <th class=\"blank\" ></th>        <th class=\"blank\" ></th>        <th class=\"blank\" ></th>        <th class=\"blank\" ></th>    </tr></thead><tbody>\n",
       "                <tr>\n",
       "                        <th id=\"T_a74827b8_f5bc_11ec_8e23_fa9776767f0dlevel0_row0\" class=\"row_heading level0 row0\" >Female</th>\n",
       "                        <td id=\"T_a74827b8_f5bc_11ec_8e23_fa9776767f0drow0_col0\" class=\"data row0 col0\" >113</td>\n",
       "                        <td id=\"T_a74827b8_f5bc_11ec_8e23_fa9776767f0drow0_col1\" class=\"data row0 col1\" >$3.20</td>\n",
       "                        <td id=\"T_a74827b8_f5bc_11ec_8e23_fa9776767f0drow0_col2\" class=\"data row0 col2\" >$361.94</td>\n",
       "                        <td id=\"T_a74827b8_f5bc_11ec_8e23_fa9776767f0drow0_col3\" class=\"data row0 col3\" >$4.47</td>\n",
       "            </tr>\n",
       "            <tr>\n",
       "                        <th id=\"T_a74827b8_f5bc_11ec_8e23_fa9776767f0dlevel0_row1\" class=\"row_heading level0 row1\" >Male</th>\n",
       "                        <td id=\"T_a74827b8_f5bc_11ec_8e23_fa9776767f0drow1_col0\" class=\"data row1 col0\" >652</td>\n",
       "                        <td id=\"T_a74827b8_f5bc_11ec_8e23_fa9776767f0drow1_col1\" class=\"data row1 col1\" >$3.02</td>\n",
       "                        <td id=\"T_a74827b8_f5bc_11ec_8e23_fa9776767f0drow1_col2\" class=\"data row1 col2\" >$1,967.64</td>\n",
       "                        <td id=\"T_a74827b8_f5bc_11ec_8e23_fa9776767f0drow1_col3\" class=\"data row1 col3\" >$4.07</td>\n",
       "            </tr>\n",
       "            <tr>\n",
       "                        <th id=\"T_a74827b8_f5bc_11ec_8e23_fa9776767f0dlevel0_row2\" class=\"row_heading level0 row2\" >Other / Non-Disclosed</th>\n",
       "                        <td id=\"T_a74827b8_f5bc_11ec_8e23_fa9776767f0drow2_col0\" class=\"data row2 col0\" >15</td>\n",
       "                        <td id=\"T_a74827b8_f5bc_11ec_8e23_fa9776767f0drow2_col1\" class=\"data row2 col1\" >$3.35</td>\n",
       "                        <td id=\"T_a74827b8_f5bc_11ec_8e23_fa9776767f0drow2_col2\" class=\"data row2 col2\" >$50.19</td>\n",
       "                        <td id=\"T_a74827b8_f5bc_11ec_8e23_fa9776767f0drow2_col3\" class=\"data row2 col3\" >$4.56</td>\n",
       "            </tr>\n",
       "    </tbody></table>"
      ],
      "text/plain": [
       "<pandas.io.formats.style.Styler at 0x28a6b4fc988>"
      ]
     },
     "execution_count": 50,
     "metadata": {},
     "output_type": "execute_result"
    }
   ],
   "source": [
    "gender_Purchase_df.style.set_table_styles([{'selector': 'td', 'props': [('text-align', 'left')]},\n",
    "                           {'selector': '.col_heading', 'props': [('text-align', 'center')]},\n",
    "                           {'selector': '.row_heading', 'props': [('text-align', 'left')]}])"
   ]
  },
  {
   "cell_type": "code",
   "execution_count": 51,
   "id": "4be953b2",
   "metadata": {},
   "outputs": [],
   "source": [
    "#Age Demographics"
   ]
  },
  {
   "cell_type": "code",
   "execution_count": 52,
   "id": "ddf03ab8",
   "metadata": {},
   "outputs": [],
   "source": [
    "age_bins = [0,9,14,19,24,29,34,39,100]"
   ]
  },
  {
   "cell_type": "code",
   "execution_count": 53,
   "id": "204cf93d",
   "metadata": {},
   "outputs": [],
   "source": [
    "age_groups = [\"<10\",\"10-14\",\"15-19\",\"20-24\",\"25-29\",\"30-34\",\"35-39\",\"40+\"]"
   ]
  },
  {
   "cell_type": "code",
   "execution_count": 54,
   "id": "971af841",
   "metadata": {
    "scrolled": true
   },
   "outputs": [],
   "source": [
    "purchase_data[\" \"] = pd.cut(purchase_data[\"Age\"], age_bins, labels=age_groups)"
   ]
  },
  {
   "cell_type": "code",
   "execution_count": 55,
   "id": "55c34f25",
   "metadata": {},
   "outputs": [],
   "source": [
    "grouped_age_df = purchase_data.groupby([\" \"])"
   ]
  },
  {
   "cell_type": "code",
   "execution_count": 56,
   "id": "d932aeef",
   "metadata": {},
   "outputs": [
    {
     "data": {
      "text/plain": [
       " \n",
       "<10       17\n",
       "10-14     22\n",
       "15-19    107\n",
       "20-24    258\n",
       "25-29     77\n",
       "30-34     52\n",
       "35-39     31\n",
       "40+       12\n",
       "Name: SN, dtype: int64"
      ]
     },
     "execution_count": 56,
     "metadata": {},
     "output_type": "execute_result"
    }
   ],
   "source": [
    "age_group_count = grouped_age_df[\"SN\"].nunique()\n",
    "age_group_count"
   ]
  },
  {
   "cell_type": "code",
   "execution_count": 57,
   "id": "9cdf4993",
   "metadata": {},
   "outputs": [
    {
     "data": {
      "text/plain": [
       " \n",
       "<10       2.951389\n",
       "10-14     3.819444\n",
       "15-19    18.576389\n",
       "20-24    44.791667\n",
       "25-29    13.368056\n",
       "30-34     9.027778\n",
       "35-39     5.381944\n",
       "40+       2.083333\n",
       "Name: SN, dtype: float64"
      ]
     },
     "execution_count": 57,
     "metadata": {},
     "output_type": "execute_result"
    }
   ],
   "source": [
    "age_group_percentage = (age_group_count/total_players)*100\n",
    "age_group_percentage"
   ]
  },
  {
   "cell_type": "code",
   "execution_count": 59,
   "id": "a854285e",
   "metadata": {},
   "outputs": [],
   "source": [
    "Age_Demographics_df = pd.DataFrame({\"Total Count\":age_group_count, \"Percentage of Players\":age_group_percentage})"
   ]
  },
  {
   "cell_type": "code",
   "execution_count": 60,
   "id": "4d4f9ffb",
   "metadata": {},
   "outputs": [],
   "source": [
    "Age_Demographics_df[\"Percentage of Players\"] = Age_Demographics_df[\"Percentage of Players\"].map(\"{:,.2f}%\".format)"
   ]
  },
  {
   "cell_type": "code",
   "execution_count": 61,
   "id": "546ad00f",
   "metadata": {},
   "outputs": [
    {
     "data": {
      "text/html": [
       "<style  type=\"text/css\" >\n",
       "    #T_d846cfe8_f5bc_11ec_9baf_fa9776767f0d td {\n",
       "          text-align: left;\n",
       "    }    #T_d846cfe8_f5bc_11ec_9baf_fa9776767f0d .col_heading {\n",
       "          text-align: center;\n",
       "    }    #T_d846cfe8_f5bc_11ec_9baf_fa9776767f0d .row_heading {\n",
       "          text-align: center;\n",
       "    }</style><table id=\"T_d846cfe8_f5bc_11ec_9baf_fa9776767f0d\" ><thead>    <tr>        <th class=\"blank level0\" ></th>        <th class=\"col_heading level0 col0\" >Total Count</th>        <th class=\"col_heading level0 col1\" >Percentage of Players</th>    </tr>    <tr>        <th class=\"index_name level0\" > </th>        <th class=\"blank\" ></th>        <th class=\"blank\" ></th>    </tr></thead><tbody>\n",
       "                <tr>\n",
       "                        <th id=\"T_d846cfe8_f5bc_11ec_9baf_fa9776767f0dlevel0_row0\" class=\"row_heading level0 row0\" ><10</th>\n",
       "                        <td id=\"T_d846cfe8_f5bc_11ec_9baf_fa9776767f0drow0_col0\" class=\"data row0 col0\" >17</td>\n",
       "                        <td id=\"T_d846cfe8_f5bc_11ec_9baf_fa9776767f0drow0_col1\" class=\"data row0 col1\" >2.95%</td>\n",
       "            </tr>\n",
       "            <tr>\n",
       "                        <th id=\"T_d846cfe8_f5bc_11ec_9baf_fa9776767f0dlevel0_row1\" class=\"row_heading level0 row1\" >10-14</th>\n",
       "                        <td id=\"T_d846cfe8_f5bc_11ec_9baf_fa9776767f0drow1_col0\" class=\"data row1 col0\" >22</td>\n",
       "                        <td id=\"T_d846cfe8_f5bc_11ec_9baf_fa9776767f0drow1_col1\" class=\"data row1 col1\" >3.82%</td>\n",
       "            </tr>\n",
       "            <tr>\n",
       "                        <th id=\"T_d846cfe8_f5bc_11ec_9baf_fa9776767f0dlevel0_row2\" class=\"row_heading level0 row2\" >15-19</th>\n",
       "                        <td id=\"T_d846cfe8_f5bc_11ec_9baf_fa9776767f0drow2_col0\" class=\"data row2 col0\" >107</td>\n",
       "                        <td id=\"T_d846cfe8_f5bc_11ec_9baf_fa9776767f0drow2_col1\" class=\"data row2 col1\" >18.58%</td>\n",
       "            </tr>\n",
       "            <tr>\n",
       "                        <th id=\"T_d846cfe8_f5bc_11ec_9baf_fa9776767f0dlevel0_row3\" class=\"row_heading level0 row3\" >20-24</th>\n",
       "                        <td id=\"T_d846cfe8_f5bc_11ec_9baf_fa9776767f0drow3_col0\" class=\"data row3 col0\" >258</td>\n",
       "                        <td id=\"T_d846cfe8_f5bc_11ec_9baf_fa9776767f0drow3_col1\" class=\"data row3 col1\" >44.79%</td>\n",
       "            </tr>\n",
       "            <tr>\n",
       "                        <th id=\"T_d846cfe8_f5bc_11ec_9baf_fa9776767f0dlevel0_row4\" class=\"row_heading level0 row4\" >25-29</th>\n",
       "                        <td id=\"T_d846cfe8_f5bc_11ec_9baf_fa9776767f0drow4_col0\" class=\"data row4 col0\" >77</td>\n",
       "                        <td id=\"T_d846cfe8_f5bc_11ec_9baf_fa9776767f0drow4_col1\" class=\"data row4 col1\" >13.37%</td>\n",
       "            </tr>\n",
       "            <tr>\n",
       "                        <th id=\"T_d846cfe8_f5bc_11ec_9baf_fa9776767f0dlevel0_row5\" class=\"row_heading level0 row5\" >30-34</th>\n",
       "                        <td id=\"T_d846cfe8_f5bc_11ec_9baf_fa9776767f0drow5_col0\" class=\"data row5 col0\" >52</td>\n",
       "                        <td id=\"T_d846cfe8_f5bc_11ec_9baf_fa9776767f0drow5_col1\" class=\"data row5 col1\" >9.03%</td>\n",
       "            </tr>\n",
       "            <tr>\n",
       "                        <th id=\"T_d846cfe8_f5bc_11ec_9baf_fa9776767f0dlevel0_row6\" class=\"row_heading level0 row6\" >35-39</th>\n",
       "                        <td id=\"T_d846cfe8_f5bc_11ec_9baf_fa9776767f0drow6_col0\" class=\"data row6 col0\" >31</td>\n",
       "                        <td id=\"T_d846cfe8_f5bc_11ec_9baf_fa9776767f0drow6_col1\" class=\"data row6 col1\" >5.38%</td>\n",
       "            </tr>\n",
       "            <tr>\n",
       "                        <th id=\"T_d846cfe8_f5bc_11ec_9baf_fa9776767f0dlevel0_row7\" class=\"row_heading level0 row7\" >40+</th>\n",
       "                        <td id=\"T_d846cfe8_f5bc_11ec_9baf_fa9776767f0drow7_col0\" class=\"data row7 col0\" >12</td>\n",
       "                        <td id=\"T_d846cfe8_f5bc_11ec_9baf_fa9776767f0drow7_col1\" class=\"data row7 col1\" >2.08%</td>\n",
       "            </tr>\n",
       "    </tbody></table>"
      ],
      "text/plain": [
       "<pandas.io.formats.style.Styler at 0x28a6a777ac8>"
      ]
     },
     "execution_count": 61,
     "metadata": {},
     "output_type": "execute_result"
    }
   ],
   "source": [
    "Age_Demographics_df.style.set_table_styles([{'selector': 'td', 'props': [('text-align', 'left')]},\n",
    "                           {'selector': '.col_heading', 'props': [('text-align', 'center')]},\n",
    "                           {'selector': '.row_heading', 'props': [('text-align', 'center')]}])"
   ]
  },
  {
   "cell_type": "code",
   "execution_count": 62,
   "id": "a3c77e3d",
   "metadata": {},
   "outputs": [],
   "source": [
    "#Purchasing Analysis (Age)"
   ]
  },
  {
   "cell_type": "code",
   "execution_count": 63,
   "id": "64ad28bb",
   "metadata": {},
   "outputs": [],
   "source": [
    "age_bins = [0,9,14,19,24,29,34,39,100]"
   ]
  },
  {
   "cell_type": "code",
   "execution_count": 64,
   "id": "6cdc9a1d",
   "metadata": {},
   "outputs": [],
   "source": [
    "age_groups = [\"<10\",\"10-14\",\"15-19\",\"20-24\",\"25-29\",\"30-34\",\"35-39\",\"40+\"]"
   ]
  },
  {
   "cell_type": "code",
   "execution_count": 65,
   "id": "15a5b102",
   "metadata": {},
   "outputs": [],
   "source": [
    "purchase_data[\"Age Ranges\"] = pd.cut(purchase_data[\"Age\"], age_bins, labels=age_groups)"
   ]
  },
  {
   "cell_type": "code",
   "execution_count": 66,
   "id": "fad0a7ab",
   "metadata": {},
   "outputs": [],
   "source": [
    "grouped_age_df = purchase_data.groupby([\"Age Ranges\"])"
   ]
  },
  {
   "cell_type": "code",
   "execution_count": 67,
   "id": "7c3dc506",
   "metadata": {},
   "outputs": [
    {
     "data": {
      "text/plain": [
       "Age Ranges\n",
       "<10       23\n",
       "10-14     28\n",
       "15-19    136\n",
       "20-24    365\n",
       "25-29    101\n",
       "30-34     73\n",
       "35-39     41\n",
       "40+       13\n",
       "Name: Purchase ID, dtype: int64"
      ]
     },
     "execution_count": 67,
     "metadata": {},
     "output_type": "execute_result"
    }
   ],
   "source": [
    "purchase_count = grouped_age_df[\"Purchase ID\"].count()\n",
    "purchase_count"
   ]
  },
  {
   "cell_type": "code",
   "execution_count": 68,
   "id": "8f7397d8",
   "metadata": {},
   "outputs": [
    {
     "data": {
      "text/plain": [
       "Age Ranges\n",
       "<10      3.353478\n",
       "10-14    2.956429\n",
       "15-19    3.035956\n",
       "20-24    3.052219\n",
       "25-29    2.900990\n",
       "30-34    2.931507\n",
       "35-39    3.601707\n",
       "40+      2.941538\n",
       "Name: Price, dtype: float64"
      ]
     },
     "execution_count": 68,
     "metadata": {},
     "output_type": "execute_result"
    }
   ],
   "source": [
    "avg_purchase_price = grouped_age_df[\"Price\"].mean()\n",
    "avg_purchase_price"
   ]
  },
  {
   "cell_type": "code",
   "execution_count": 69,
   "id": "8768833e",
   "metadata": {},
   "outputs": [
    {
     "data": {
      "text/plain": [
       "Age Ranges\n",
       "<10        77.13\n",
       "10-14      82.78\n",
       "15-19     412.89\n",
       "20-24    1114.06\n",
       "25-29     293.00\n",
       "30-34     214.00\n",
       "35-39     147.67\n",
       "40+        38.24\n",
       "Name: Price, dtype: float64"
      ]
     },
     "execution_count": 69,
     "metadata": {},
     "output_type": "execute_result"
    }
   ],
   "source": [
    "total_purchase_price = grouped_age_df[\"Price\"].sum()\n",
    "total_purchase_price"
   ]
  },
  {
   "cell_type": "code",
   "execution_count": 70,
   "id": "f8926185",
   "metadata": {},
   "outputs": [
    {
     "data": {
      "text/plain": [
       "Age Ranges\n",
       "<10      4.537059\n",
       "10-14    3.762727\n",
       "15-19    3.858785\n",
       "20-24    4.318062\n",
       "25-29    3.805195\n",
       "30-34    4.115385\n",
       "35-39    4.763548\n",
       "40+      3.186667\n",
       "dtype: float64"
      ]
     },
     "execution_count": 70,
     "metadata": {},
     "output_type": "execute_result"
    }
   ],
   "source": [
    "avg_total_purchase_per_person = total_purchase_price/age_group_count\n",
    "avg_total_purchase_per_person"
   ]
  },
  {
   "cell_type": "code",
   "execution_count": 71,
   "id": "ec72bd14",
   "metadata": {},
   "outputs": [],
   "source": [
    "Purchasing_Analysis_Age_df = pd.DataFrame({\"Purchase Count\":purchase_count,\n",
    "                                          \"Average Purchase Price\":avg_purchase_price,\n",
    "                                          \"Total Purchase Value\":total_purchase_price,\n",
    "                                          \"Avg Total Purchase per Person\":avg_total_purchase_per_person})"
   ]
  },
  {
   "cell_type": "code",
   "execution_count": 72,
   "id": "9d0533c0",
   "metadata": {},
   "outputs": [],
   "source": [
    "Purchasing_Analysis_Age_df[\"Average Purchase Price\"] = Purchasing_Analysis_Age_df[\"Average Purchase Price\"].map(\"${:,.2f}\".format)\n",
    "Purchasing_Analysis_Age_df[\"Total Purchase Value\"] = Purchasing_Analysis_Age_df[\"Total Purchase Value\"].map(\"${:,.2f}\".format)\n",
    "Purchasing_Analysis_Age_df[\"Avg Total Purchase per Person\"] = Purchasing_Analysis_Age_df[\"Avg Total Purchase per Person\"].map(\"${:,.2f}\".format)"
   ]
  },
  {
   "cell_type": "code",
   "execution_count": 73,
   "id": "3fa5c01a",
   "metadata": {},
   "outputs": [
    {
     "data": {
      "text/html": [
       "<style  type=\"text/css\" >\n",
       "    #T_f2bb29b8_f5bc_11ec_b8e7_fa9776767f0d td {\n",
       "          text-align: left;\n",
       "    }    #T_f2bb29b8_f5bc_11ec_b8e7_fa9776767f0d .col_heading {\n",
       "          text-align: left;\n",
       "    }    #T_f2bb29b8_f5bc_11ec_b8e7_fa9776767f0d .row_heading {\n",
       "          text-align: left;\n",
       "    }</style><table id=\"T_f2bb29b8_f5bc_11ec_b8e7_fa9776767f0d\" ><thead>    <tr>        <th class=\"blank level0\" ></th>        <th class=\"col_heading level0 col0\" >Purchase Count</th>        <th class=\"col_heading level0 col1\" >Average Purchase Price</th>        <th class=\"col_heading level0 col2\" >Total Purchase Value</th>        <th class=\"col_heading level0 col3\" >Avg Total Purchase per Person</th>    </tr>    <tr>        <th class=\"index_name level0\" >Age Ranges</th>        <th class=\"blank\" ></th>        <th class=\"blank\" ></th>        <th class=\"blank\" ></th>        <th class=\"blank\" ></th>    </tr></thead><tbody>\n",
       "                <tr>\n",
       "                        <th id=\"T_f2bb29b8_f5bc_11ec_b8e7_fa9776767f0dlevel0_row0\" class=\"row_heading level0 row0\" ><10</th>\n",
       "                        <td id=\"T_f2bb29b8_f5bc_11ec_b8e7_fa9776767f0drow0_col0\" class=\"data row0 col0\" >23</td>\n",
       "                        <td id=\"T_f2bb29b8_f5bc_11ec_b8e7_fa9776767f0drow0_col1\" class=\"data row0 col1\" >$3.35</td>\n",
       "                        <td id=\"T_f2bb29b8_f5bc_11ec_b8e7_fa9776767f0drow0_col2\" class=\"data row0 col2\" >$77.13</td>\n",
       "                        <td id=\"T_f2bb29b8_f5bc_11ec_b8e7_fa9776767f0drow0_col3\" class=\"data row0 col3\" >$4.54</td>\n",
       "            </tr>\n",
       "            <tr>\n",
       "                        <th id=\"T_f2bb29b8_f5bc_11ec_b8e7_fa9776767f0dlevel0_row1\" class=\"row_heading level0 row1\" >10-14</th>\n",
       "                        <td id=\"T_f2bb29b8_f5bc_11ec_b8e7_fa9776767f0drow1_col0\" class=\"data row1 col0\" >28</td>\n",
       "                        <td id=\"T_f2bb29b8_f5bc_11ec_b8e7_fa9776767f0drow1_col1\" class=\"data row1 col1\" >$2.96</td>\n",
       "                        <td id=\"T_f2bb29b8_f5bc_11ec_b8e7_fa9776767f0drow1_col2\" class=\"data row1 col2\" >$82.78</td>\n",
       "                        <td id=\"T_f2bb29b8_f5bc_11ec_b8e7_fa9776767f0drow1_col3\" class=\"data row1 col3\" >$3.76</td>\n",
       "            </tr>\n",
       "            <tr>\n",
       "                        <th id=\"T_f2bb29b8_f5bc_11ec_b8e7_fa9776767f0dlevel0_row2\" class=\"row_heading level0 row2\" >15-19</th>\n",
       "                        <td id=\"T_f2bb29b8_f5bc_11ec_b8e7_fa9776767f0drow2_col0\" class=\"data row2 col0\" >136</td>\n",
       "                        <td id=\"T_f2bb29b8_f5bc_11ec_b8e7_fa9776767f0drow2_col1\" class=\"data row2 col1\" >$3.04</td>\n",
       "                        <td id=\"T_f2bb29b8_f5bc_11ec_b8e7_fa9776767f0drow2_col2\" class=\"data row2 col2\" >$412.89</td>\n",
       "                        <td id=\"T_f2bb29b8_f5bc_11ec_b8e7_fa9776767f0drow2_col3\" class=\"data row2 col3\" >$3.86</td>\n",
       "            </tr>\n",
       "            <tr>\n",
       "                        <th id=\"T_f2bb29b8_f5bc_11ec_b8e7_fa9776767f0dlevel0_row3\" class=\"row_heading level0 row3\" >20-24</th>\n",
       "                        <td id=\"T_f2bb29b8_f5bc_11ec_b8e7_fa9776767f0drow3_col0\" class=\"data row3 col0\" >365</td>\n",
       "                        <td id=\"T_f2bb29b8_f5bc_11ec_b8e7_fa9776767f0drow3_col1\" class=\"data row3 col1\" >$3.05</td>\n",
       "                        <td id=\"T_f2bb29b8_f5bc_11ec_b8e7_fa9776767f0drow3_col2\" class=\"data row3 col2\" >$1,114.06</td>\n",
       "                        <td id=\"T_f2bb29b8_f5bc_11ec_b8e7_fa9776767f0drow3_col3\" class=\"data row3 col3\" >$4.32</td>\n",
       "            </tr>\n",
       "            <tr>\n",
       "                        <th id=\"T_f2bb29b8_f5bc_11ec_b8e7_fa9776767f0dlevel0_row4\" class=\"row_heading level0 row4\" >25-29</th>\n",
       "                        <td id=\"T_f2bb29b8_f5bc_11ec_b8e7_fa9776767f0drow4_col0\" class=\"data row4 col0\" >101</td>\n",
       "                        <td id=\"T_f2bb29b8_f5bc_11ec_b8e7_fa9776767f0drow4_col1\" class=\"data row4 col1\" >$2.90</td>\n",
       "                        <td id=\"T_f2bb29b8_f5bc_11ec_b8e7_fa9776767f0drow4_col2\" class=\"data row4 col2\" >$293.00</td>\n",
       "                        <td id=\"T_f2bb29b8_f5bc_11ec_b8e7_fa9776767f0drow4_col3\" class=\"data row4 col3\" >$3.81</td>\n",
       "            </tr>\n",
       "            <tr>\n",
       "                        <th id=\"T_f2bb29b8_f5bc_11ec_b8e7_fa9776767f0dlevel0_row5\" class=\"row_heading level0 row5\" >30-34</th>\n",
       "                        <td id=\"T_f2bb29b8_f5bc_11ec_b8e7_fa9776767f0drow5_col0\" class=\"data row5 col0\" >73</td>\n",
       "                        <td id=\"T_f2bb29b8_f5bc_11ec_b8e7_fa9776767f0drow5_col1\" class=\"data row5 col1\" >$2.93</td>\n",
       "                        <td id=\"T_f2bb29b8_f5bc_11ec_b8e7_fa9776767f0drow5_col2\" class=\"data row5 col2\" >$214.00</td>\n",
       "                        <td id=\"T_f2bb29b8_f5bc_11ec_b8e7_fa9776767f0drow5_col3\" class=\"data row5 col3\" >$4.12</td>\n",
       "            </tr>\n",
       "            <tr>\n",
       "                        <th id=\"T_f2bb29b8_f5bc_11ec_b8e7_fa9776767f0dlevel0_row6\" class=\"row_heading level0 row6\" >35-39</th>\n",
       "                        <td id=\"T_f2bb29b8_f5bc_11ec_b8e7_fa9776767f0drow6_col0\" class=\"data row6 col0\" >41</td>\n",
       "                        <td id=\"T_f2bb29b8_f5bc_11ec_b8e7_fa9776767f0drow6_col1\" class=\"data row6 col1\" >$3.60</td>\n",
       "                        <td id=\"T_f2bb29b8_f5bc_11ec_b8e7_fa9776767f0drow6_col2\" class=\"data row6 col2\" >$147.67</td>\n",
       "                        <td id=\"T_f2bb29b8_f5bc_11ec_b8e7_fa9776767f0drow6_col3\" class=\"data row6 col3\" >$4.76</td>\n",
       "            </tr>\n",
       "            <tr>\n",
       "                        <th id=\"T_f2bb29b8_f5bc_11ec_b8e7_fa9776767f0dlevel0_row7\" class=\"row_heading level0 row7\" >40+</th>\n",
       "                        <td id=\"T_f2bb29b8_f5bc_11ec_b8e7_fa9776767f0drow7_col0\" class=\"data row7 col0\" >13</td>\n",
       "                        <td id=\"T_f2bb29b8_f5bc_11ec_b8e7_fa9776767f0drow7_col1\" class=\"data row7 col1\" >$2.94</td>\n",
       "                        <td id=\"T_f2bb29b8_f5bc_11ec_b8e7_fa9776767f0drow7_col2\" class=\"data row7 col2\" >$38.24</td>\n",
       "                        <td id=\"T_f2bb29b8_f5bc_11ec_b8e7_fa9776767f0drow7_col3\" class=\"data row7 col3\" >$3.19</td>\n",
       "            </tr>\n",
       "    </tbody></table>"
      ],
      "text/plain": [
       "<pandas.io.formats.style.Styler at 0x28a6b565888>"
      ]
     },
     "execution_count": 73,
     "metadata": {},
     "output_type": "execute_result"
    }
   ],
   "source": [
    "Purchasing_Analysis_Age_df[[\"Purchase Count\",\"Average Purchase Price\",\"Total Purchase Value\",\"Avg Total Purchase per Person\"]]\n",
    "Purchasing_Analysis_Age_df.style.set_table_styles([{'selector': 'td', 'props': [('text-align', 'left')]},\n",
    "                           {'selector': '.col_heading', 'props': [('text-align', 'left')]},\n",
    "                           {'selector': '.row_heading', 'props': [('text-align', 'left')]}])"
   ]
  },
  {
   "cell_type": "code",
   "execution_count": 74,
   "id": "7d61d507",
   "metadata": {},
   "outputs": [],
   "source": [
    "#Top Spenders"
   ]
  },
  {
   "cell_type": "code",
   "execution_count": 75,
   "id": "3d5f8f7e",
   "metadata": {},
   "outputs": [],
   "source": [
    "grouped_top_spenders_df = purchase_data.groupby([\"SN\"])"
   ]
  },
  {
   "cell_type": "code",
   "execution_count": 76,
   "id": "ea651202",
   "metadata": {},
   "outputs": [
    {
     "data": {
      "text/plain": [
       "SN\n",
       "Adairialis76     1\n",
       "Adastirin33      1\n",
       "Aeda94           1\n",
       "Aela59           1\n",
       "Aelaria33        1\n",
       "                ..\n",
       "Yathecal82       3\n",
       "Yathedeu43       2\n",
       "Yoishirrala98    1\n",
       "Zhisrisu83       2\n",
       "Zontibe81        3\n",
       "Name: Purchase ID, Length: 576, dtype: int64"
      ]
     },
     "execution_count": 76,
     "metadata": {},
     "output_type": "execute_result"
    }
   ],
   "source": [
    "purchase_count = grouped_top_spenders_df[\"Purchase ID\"].count()\n",
    "purchase_count"
   ]
  },
  {
   "cell_type": "code",
   "execution_count": 77,
   "id": "b97f6cc8",
   "metadata": {},
   "outputs": [
    {
     "data": {
      "text/plain": [
       "SN\n",
       "Adairialis76     2.280000\n",
       "Adastirin33      4.480000\n",
       "Aeda94           4.910000\n",
       "Aela59           4.320000\n",
       "Aelaria33        1.790000\n",
       "                   ...   \n",
       "Yathecal82       2.073333\n",
       "Yathedeu43       3.010000\n",
       "Yoishirrala98    4.580000\n",
       "Zhisrisu83       3.945000\n",
       "Zontibe81        2.676667\n",
       "Name: Price, Length: 576, dtype: float64"
      ]
     },
     "execution_count": 77,
     "metadata": {},
     "output_type": "execute_result"
    }
   ],
   "source": [
    "avg_purchase_price = grouped_top_spenders_df[\"Price\"].mean()\n",
    "avg_purchase_price"
   ]
  },
  {
   "cell_type": "code",
   "execution_count": 78,
   "id": "e5ee5eda",
   "metadata": {},
   "outputs": [
    {
     "data": {
      "text/plain": [
       "SN\n",
       "Adairialis76     2.28\n",
       "Adastirin33      4.48\n",
       "Aeda94           4.91\n",
       "Aela59           4.32\n",
       "Aelaria33        1.79\n",
       "                 ... \n",
       "Yathecal82       6.22\n",
       "Yathedeu43       6.02\n",
       "Yoishirrala98    4.58\n",
       "Zhisrisu83       7.89\n",
       "Zontibe81        8.03\n",
       "Name: Price, Length: 576, dtype: float64"
      ]
     },
     "execution_count": 78,
     "metadata": {},
     "output_type": "execute_result"
    }
   ],
   "source": [
    "total_purchase_value = grouped_top_spenders_df[\"Price\"].sum()\n",
    "total_purchase_value"
   ]
  },
  {
   "cell_type": "code",
   "execution_count": 79,
   "id": "e361a292",
   "metadata": {},
   "outputs": [],
   "source": [
    "Top_spenders_df = pd.DataFrame({\"Purchase Count\": purchase_count,\n",
    "                            \"Average Purchase Price\": avg_purchase_price,\n",
    "                            \"Total Purchase Value\": total_purchase_value})"
   ]
  },
  {
   "cell_type": "code",
   "execution_count": 80,
   "id": "09156c5a",
   "metadata": {},
   "outputs": [],
   "source": [
    "Top_spenders_df = Top_spenders_df.sort_values([\"Total Purchase Value\"], ascending=False)"
   ]
  },
  {
   "cell_type": "code",
   "execution_count": 81,
   "id": "2e478db8",
   "metadata": {},
   "outputs": [],
   "source": [
    "Top_spenders_df[\"Average Purchase Price\"] = Top_spenders_df[\"Average Purchase Price\"].map(\"${:,.2f}\".format)\n",
    "Top_spenders_df[\"Total Purchase Value\"] = Top_spenders_df[\"Total Purchase Value\"].map(\"${:,.2f}\".format)"
   ]
  },
  {
   "cell_type": "code",
   "execution_count": 82,
   "id": "97300d31",
   "metadata": {},
   "outputs": [
    {
     "data": {
      "text/html": [
       "<style  type=\"text/css\" >\n",
       "    #T_1abc298c_f5bd_11ec_a1ae_fa9776767f0d td {\n",
       "          text-align: left;\n",
       "    }    #T_1abc298c_f5bd_11ec_a1ae_fa9776767f0d .col_heading {\n",
       "          text-align: left;\n",
       "    }    #T_1abc298c_f5bd_11ec_a1ae_fa9776767f0d .row_heading {\n",
       "          text-align: center;\n",
       "    }</style><table id=\"T_1abc298c_f5bd_11ec_a1ae_fa9776767f0d\" ><thead>    <tr>        <th class=\"blank level0\" ></th>        <th class=\"col_heading level0 col0\" >Purchase Count</th>        <th class=\"col_heading level0 col1\" >Average Purchase Price</th>        <th class=\"col_heading level0 col2\" >Total Purchase Value</th>    </tr>    <tr>        <th class=\"index_name level0\" >SN</th>        <th class=\"blank\" ></th>        <th class=\"blank\" ></th>        <th class=\"blank\" ></th>    </tr></thead><tbody>\n",
       "                <tr>\n",
       "                        <th id=\"T_1abc298c_f5bd_11ec_a1ae_fa9776767f0dlevel0_row0\" class=\"row_heading level0 row0\" >Lisosia93</th>\n",
       "                        <td id=\"T_1abc298c_f5bd_11ec_a1ae_fa9776767f0drow0_col0\" class=\"data row0 col0\" >5</td>\n",
       "                        <td id=\"T_1abc298c_f5bd_11ec_a1ae_fa9776767f0drow0_col1\" class=\"data row0 col1\" >$3.79</td>\n",
       "                        <td id=\"T_1abc298c_f5bd_11ec_a1ae_fa9776767f0drow0_col2\" class=\"data row0 col2\" >$18.96</td>\n",
       "            </tr>\n",
       "            <tr>\n",
       "                        <th id=\"T_1abc298c_f5bd_11ec_a1ae_fa9776767f0dlevel0_row1\" class=\"row_heading level0 row1\" >Idastidru52</th>\n",
       "                        <td id=\"T_1abc298c_f5bd_11ec_a1ae_fa9776767f0drow1_col0\" class=\"data row1 col0\" >4</td>\n",
       "                        <td id=\"T_1abc298c_f5bd_11ec_a1ae_fa9776767f0drow1_col1\" class=\"data row1 col1\" >$3.86</td>\n",
       "                        <td id=\"T_1abc298c_f5bd_11ec_a1ae_fa9776767f0drow1_col2\" class=\"data row1 col2\" >$15.45</td>\n",
       "            </tr>\n",
       "            <tr>\n",
       "                        <th id=\"T_1abc298c_f5bd_11ec_a1ae_fa9776767f0dlevel0_row2\" class=\"row_heading level0 row2\" >Chamjask73</th>\n",
       "                        <td id=\"T_1abc298c_f5bd_11ec_a1ae_fa9776767f0drow2_col0\" class=\"data row2 col0\" >3</td>\n",
       "                        <td id=\"T_1abc298c_f5bd_11ec_a1ae_fa9776767f0drow2_col1\" class=\"data row2 col1\" >$4.61</td>\n",
       "                        <td id=\"T_1abc298c_f5bd_11ec_a1ae_fa9776767f0drow2_col2\" class=\"data row2 col2\" >$13.83</td>\n",
       "            </tr>\n",
       "            <tr>\n",
       "                        <th id=\"T_1abc298c_f5bd_11ec_a1ae_fa9776767f0dlevel0_row3\" class=\"row_heading level0 row3\" >Iral74</th>\n",
       "                        <td id=\"T_1abc298c_f5bd_11ec_a1ae_fa9776767f0drow3_col0\" class=\"data row3 col0\" >4</td>\n",
       "                        <td id=\"T_1abc298c_f5bd_11ec_a1ae_fa9776767f0drow3_col1\" class=\"data row3 col1\" >$3.40</td>\n",
       "                        <td id=\"T_1abc298c_f5bd_11ec_a1ae_fa9776767f0drow3_col2\" class=\"data row3 col2\" >$13.62</td>\n",
       "            </tr>\n",
       "            <tr>\n",
       "                        <th id=\"T_1abc298c_f5bd_11ec_a1ae_fa9776767f0dlevel0_row4\" class=\"row_heading level0 row4\" >Iskadarya95</th>\n",
       "                        <td id=\"T_1abc298c_f5bd_11ec_a1ae_fa9776767f0drow4_col0\" class=\"data row4 col0\" >3</td>\n",
       "                        <td id=\"T_1abc298c_f5bd_11ec_a1ae_fa9776767f0drow4_col1\" class=\"data row4 col1\" >$4.37</td>\n",
       "                        <td id=\"T_1abc298c_f5bd_11ec_a1ae_fa9776767f0drow4_col2\" class=\"data row4 col2\" >$13.10</td>\n",
       "            </tr>\n",
       "    </tbody></table>"
      ],
      "text/plain": [
       "<pandas.io.formats.style.Styler at 0x28a6b578388>"
      ]
     },
     "execution_count": 82,
     "metadata": {},
     "output_type": "execute_result"
    }
   ],
   "source": [
    "Top_spenders_df.head(5).style.set_table_styles([{'selector': 'td', 'props': [('text-align', 'left')]},\n",
    "                           {'selector': '.col_heading', 'props': [('text-align', 'left')]},\n",
    "                           {'selector': '.row_heading', 'props': [('text-align', 'center')]}])"
   ]
  },
  {
   "cell_type": "code",
   "execution_count": 83,
   "id": "1f6b0492",
   "metadata": {},
   "outputs": [],
   "source": [
    "#Most Popular Items"
   ]
  },
  {
   "cell_type": "code",
   "execution_count": 84,
   "id": "bbb9f50f",
   "metadata": {},
   "outputs": [],
   "source": [
    "items_df = purchase_data[[\"Item ID\", \"Item Name\", \"Price\"]]"
   ]
  },
  {
   "cell_type": "code",
   "execution_count": 85,
   "id": "9f18c9cf",
   "metadata": {},
   "outputs": [],
   "source": [
    "grouped_items_df = items_df.groupby([\"Item ID\", \"Item Name\"])"
   ]
  },
  {
   "cell_type": "code",
   "execution_count": 87,
   "id": "5fb33c94",
   "metadata": {},
   "outputs": [],
   "source": [
    "purchase_count = grouped_items_df[\"Item ID\"].count()"
   ]
  },
  {
   "cell_type": "code",
   "execution_count": 88,
   "id": "e908a01b",
   "metadata": {},
   "outputs": [],
   "source": [
    "avg_item_price = grouped_items_df[\"Price\"].mean()"
   ]
  },
  {
   "cell_type": "code",
   "execution_count": 89,
   "id": "a9531206",
   "metadata": {},
   "outputs": [],
   "source": [
    "total_purchase_value = grouped_items_df[\"Price\"].sum()"
   ]
  },
  {
   "cell_type": "code",
   "execution_count": 90,
   "id": "a1f4698f",
   "metadata": {},
   "outputs": [],
   "source": [
    " Most_Popular_Items_df = pd.DataFrame({\"Purchase Count\": purchase_count,\n",
    "                         \"Item Price\": avg_item_price,\n",
    "                         \"Total Purchase Value\": total_purchase_value})"
   ]
  },
  {
   "cell_type": "code",
   "execution_count": 91,
   "id": "dddcf789",
   "metadata": {},
   "outputs": [],
   "source": [
    "Most_Popular_Items_df = Most_Popular_Items_df.sort_values([\"Purchase Count\"], ascending=False) "
   ]
  },
  {
   "cell_type": "code",
   "execution_count": 92,
   "id": "942f561b",
   "metadata": {},
   "outputs": [],
   "source": [
    "Most_Popular_Items_df[\"Item Price\"] = Most_Popular_Items_df[\"Item Price\"].map(\"${:,.2f}\".format)\n",
    "Most_Popular_Items_df[\"Total Purchase Value\"] = Most_Popular_Items_df[\"Total Purchase Value\"].map(\"${:,.2f}\".format)"
   ]
  },
  {
   "cell_type": "code",
   "execution_count": 93,
   "id": "21d4d5a1",
   "metadata": {
    "scrolled": true
   },
   "outputs": [
    {
     "data": {
      "text/html": [
       "<style  type=\"text/css\" >\n",
       "    #T_776ca3b6_f5bd_11ec_9a64_fa9776767f0d td {\n",
       "          text-align: left;\n",
       "    }    #T_776ca3b6_f5bd_11ec_9a64_fa9776767f0d .col_heading {\n",
       "          text-align: left;\n",
       "    }    #T_776ca3b6_f5bd_11ec_9a64_fa9776767f0d .row_heading {\n",
       "          text-align: left;\n",
       "    }</style><table id=\"T_776ca3b6_f5bd_11ec_9a64_fa9776767f0d\" ><thead>    <tr>        <th class=\"blank\" ></th>        <th class=\"blank level0\" ></th>        <th class=\"col_heading level0 col0\" >Purchase Count</th>        <th class=\"col_heading level0 col1\" >Item Price</th>        <th class=\"col_heading level0 col2\" >Total Purchase Value</th>    </tr>    <tr>        <th class=\"index_name level0\" >Item ID</th>        <th class=\"index_name level1\" >Item Name</th>        <th class=\"blank\" ></th>        <th class=\"blank\" ></th>        <th class=\"blank\" ></th>    </tr></thead><tbody>\n",
       "                <tr>\n",
       "                        <th id=\"T_776ca3b6_f5bd_11ec_9a64_fa9776767f0dlevel0_row0\" class=\"row_heading level0 row0\" >92</th>\n",
       "                        <th id=\"T_776ca3b6_f5bd_11ec_9a64_fa9776767f0dlevel1_row0\" class=\"row_heading level1 row0\" >Final Critic</th>\n",
       "                        <td id=\"T_776ca3b6_f5bd_11ec_9a64_fa9776767f0drow0_col0\" class=\"data row0 col0\" >13</td>\n",
       "                        <td id=\"T_776ca3b6_f5bd_11ec_9a64_fa9776767f0drow0_col1\" class=\"data row0 col1\" >$4.61</td>\n",
       "                        <td id=\"T_776ca3b6_f5bd_11ec_9a64_fa9776767f0drow0_col2\" class=\"data row0 col2\" >$59.99</td>\n",
       "            </tr>\n",
       "            <tr>\n",
       "                        <th id=\"T_776ca3b6_f5bd_11ec_9a64_fa9776767f0dlevel0_row1\" class=\"row_heading level0 row1\" >178</th>\n",
       "                        <th id=\"T_776ca3b6_f5bd_11ec_9a64_fa9776767f0dlevel1_row1\" class=\"row_heading level1 row1\" >Oathbreaker, Last Hope of the Breaking Storm</th>\n",
       "                        <td id=\"T_776ca3b6_f5bd_11ec_9a64_fa9776767f0drow1_col0\" class=\"data row1 col0\" >12</td>\n",
       "                        <td id=\"T_776ca3b6_f5bd_11ec_9a64_fa9776767f0drow1_col1\" class=\"data row1 col1\" >$4.23</td>\n",
       "                        <td id=\"T_776ca3b6_f5bd_11ec_9a64_fa9776767f0drow1_col2\" class=\"data row1 col2\" >$50.76</td>\n",
       "            </tr>\n",
       "            <tr>\n",
       "                        <th id=\"T_776ca3b6_f5bd_11ec_9a64_fa9776767f0dlevel0_row2\" class=\"row_heading level0 row2\" >145</th>\n",
       "                        <th id=\"T_776ca3b6_f5bd_11ec_9a64_fa9776767f0dlevel1_row2\" class=\"row_heading level1 row2\" >Fiery Glass Crusader</th>\n",
       "                        <td id=\"T_776ca3b6_f5bd_11ec_9a64_fa9776767f0drow2_col0\" class=\"data row2 col0\" >9</td>\n",
       "                        <td id=\"T_776ca3b6_f5bd_11ec_9a64_fa9776767f0drow2_col1\" class=\"data row2 col1\" >$4.58</td>\n",
       "                        <td id=\"T_776ca3b6_f5bd_11ec_9a64_fa9776767f0drow2_col2\" class=\"data row2 col2\" >$41.22</td>\n",
       "            </tr>\n",
       "            <tr>\n",
       "                        <th id=\"T_776ca3b6_f5bd_11ec_9a64_fa9776767f0dlevel0_row3\" class=\"row_heading level0 row3\" >132</th>\n",
       "                        <th id=\"T_776ca3b6_f5bd_11ec_9a64_fa9776767f0dlevel1_row3\" class=\"row_heading level1 row3\" >Persuasion</th>\n",
       "                        <td id=\"T_776ca3b6_f5bd_11ec_9a64_fa9776767f0drow3_col0\" class=\"data row3 col0\" >9</td>\n",
       "                        <td id=\"T_776ca3b6_f5bd_11ec_9a64_fa9776767f0drow3_col1\" class=\"data row3 col1\" >$3.22</td>\n",
       "                        <td id=\"T_776ca3b6_f5bd_11ec_9a64_fa9776767f0drow3_col2\" class=\"data row3 col2\" >$28.99</td>\n",
       "            </tr>\n",
       "            <tr>\n",
       "                        <th id=\"T_776ca3b6_f5bd_11ec_9a64_fa9776767f0dlevel0_row4\" class=\"row_heading level0 row4\" >108</th>\n",
       "                        <th id=\"T_776ca3b6_f5bd_11ec_9a64_fa9776767f0dlevel1_row4\" class=\"row_heading level1 row4\" >Extraction, Quickblade Of Trembling Hands</th>\n",
       "                        <td id=\"T_776ca3b6_f5bd_11ec_9a64_fa9776767f0drow4_col0\" class=\"data row4 col0\" >9</td>\n",
       "                        <td id=\"T_776ca3b6_f5bd_11ec_9a64_fa9776767f0drow4_col1\" class=\"data row4 col1\" >$3.53</td>\n",
       "                        <td id=\"T_776ca3b6_f5bd_11ec_9a64_fa9776767f0drow4_col2\" class=\"data row4 col2\" >$31.77</td>\n",
       "            </tr>\n",
       "    </tbody></table>"
      ],
      "text/plain": [
       "<pandas.io.formats.style.Styler at 0x28a6b566a88>"
      ]
     },
     "execution_count": 93,
     "metadata": {},
     "output_type": "execute_result"
    }
   ],
   "source": [
    "Most_Popular_Items_df.head(5).style.set_table_styles([{'selector': 'td', 'props': [('text-align', 'left')]},\n",
    "                           {'selector': '.col_heading', 'props': [('text-align', 'left')]},\n",
    "                           {'selector': '.row_heading', 'props': [('text-align', 'left')]}])"
   ]
  },
  {
   "cell_type": "code",
   "execution_count": 94,
   "id": "1b95e488",
   "metadata": {},
   "outputs": [],
   "source": [
    "#Most Profitable Items"
   ]
  },
  {
   "cell_type": "code",
   "execution_count": 95,
   "id": "5b54c77a",
   "metadata": {},
   "outputs": [],
   "source": [
    "Most_Popular_Items_df[\"Total Purchase Value\"] = Most_Popular_Items_df[\"Total Purchase Value\"].apply(lambda x: x.replace('$', '').replace(',', '')).astype('float')"
   ]
  },
  {
   "cell_type": "code",
   "execution_count": 97,
   "id": "cf09de95",
   "metadata": {},
   "outputs": [],
   "source": [
    "Most_Popular_Items_df = Most_Popular_Items_df.sort_values([\"Total Purchase Value\"], ascending=False)"
   ]
  },
  {
   "cell_type": "code",
   "execution_count": 98,
   "id": "f4a48cf0",
   "metadata": {},
   "outputs": [
    {
     "data": {
      "text/html": [
       "<style  type=\"text/css\" >\n",
       "    #T_9265ad74_f5bd_11ec_9048_fa9776767f0d td {\n",
       "          text-align: left;\n",
       "    }    #T_9265ad74_f5bd_11ec_9048_fa9776767f0d .col_heading {\n",
       "          text-align: left;\n",
       "    }    #T_9265ad74_f5bd_11ec_9048_fa9776767f0d .row_heading {\n",
       "          text-align: left;\n",
       "    }</style><table id=\"T_9265ad74_f5bd_11ec_9048_fa9776767f0d\" ><thead>    <tr>        <th class=\"blank\" ></th>        <th class=\"blank level0\" ></th>        <th class=\"col_heading level0 col0\" >Purchase Count</th>        <th class=\"col_heading level0 col1\" >Item Price</th>        <th class=\"col_heading level0 col2\" >Total Purchase Value</th>    </tr>    <tr>        <th class=\"index_name level0\" >Item ID</th>        <th class=\"index_name level1\" >Item Name</th>        <th class=\"blank\" ></th>        <th class=\"blank\" ></th>        <th class=\"blank\" ></th>    </tr></thead><tbody>\n",
       "                <tr>\n",
       "                        <th id=\"T_9265ad74_f5bd_11ec_9048_fa9776767f0dlevel0_row0\" class=\"row_heading level0 row0\" >92</th>\n",
       "                        <th id=\"T_9265ad74_f5bd_11ec_9048_fa9776767f0dlevel1_row0\" class=\"row_heading level1 row0\" >Final Critic</th>\n",
       "                        <td id=\"T_9265ad74_f5bd_11ec_9048_fa9776767f0drow0_col0\" class=\"data row0 col0\" >13</td>\n",
       "                        <td id=\"T_9265ad74_f5bd_11ec_9048_fa9776767f0drow0_col1\" class=\"data row0 col1\" >$4.61</td>\n",
       "                        <td id=\"T_9265ad74_f5bd_11ec_9048_fa9776767f0drow0_col2\" class=\"data row0 col2\" >$59.99</td>\n",
       "            </tr>\n",
       "            <tr>\n",
       "                        <th id=\"T_9265ad74_f5bd_11ec_9048_fa9776767f0dlevel0_row1\" class=\"row_heading level0 row1\" >178</th>\n",
       "                        <th id=\"T_9265ad74_f5bd_11ec_9048_fa9776767f0dlevel1_row1\" class=\"row_heading level1 row1\" >Oathbreaker, Last Hope of the Breaking Storm</th>\n",
       "                        <td id=\"T_9265ad74_f5bd_11ec_9048_fa9776767f0drow1_col0\" class=\"data row1 col0\" >12</td>\n",
       "                        <td id=\"T_9265ad74_f5bd_11ec_9048_fa9776767f0drow1_col1\" class=\"data row1 col1\" >$4.23</td>\n",
       "                        <td id=\"T_9265ad74_f5bd_11ec_9048_fa9776767f0drow1_col2\" class=\"data row1 col2\" >$50.76</td>\n",
       "            </tr>\n",
       "            <tr>\n",
       "                        <th id=\"T_9265ad74_f5bd_11ec_9048_fa9776767f0dlevel0_row2\" class=\"row_heading level0 row2\" >82</th>\n",
       "                        <th id=\"T_9265ad74_f5bd_11ec_9048_fa9776767f0dlevel1_row2\" class=\"row_heading level1 row2\" >Nirvana</th>\n",
       "                        <td id=\"T_9265ad74_f5bd_11ec_9048_fa9776767f0drow2_col0\" class=\"data row2 col0\" >9</td>\n",
       "                        <td id=\"T_9265ad74_f5bd_11ec_9048_fa9776767f0drow2_col1\" class=\"data row2 col1\" >$4.90</td>\n",
       "                        <td id=\"T_9265ad74_f5bd_11ec_9048_fa9776767f0drow2_col2\" class=\"data row2 col2\" >$44.10</td>\n",
       "            </tr>\n",
       "            <tr>\n",
       "                        <th id=\"T_9265ad74_f5bd_11ec_9048_fa9776767f0dlevel0_row3\" class=\"row_heading level0 row3\" >145</th>\n",
       "                        <th id=\"T_9265ad74_f5bd_11ec_9048_fa9776767f0dlevel1_row3\" class=\"row_heading level1 row3\" >Fiery Glass Crusader</th>\n",
       "                        <td id=\"T_9265ad74_f5bd_11ec_9048_fa9776767f0drow3_col0\" class=\"data row3 col0\" >9</td>\n",
       "                        <td id=\"T_9265ad74_f5bd_11ec_9048_fa9776767f0drow3_col1\" class=\"data row3 col1\" >$4.58</td>\n",
       "                        <td id=\"T_9265ad74_f5bd_11ec_9048_fa9776767f0drow3_col2\" class=\"data row3 col2\" >$41.22</td>\n",
       "            </tr>\n",
       "            <tr>\n",
       "                        <th id=\"T_9265ad74_f5bd_11ec_9048_fa9776767f0dlevel0_row4\" class=\"row_heading level0 row4\" >103</th>\n",
       "                        <th id=\"T_9265ad74_f5bd_11ec_9048_fa9776767f0dlevel1_row4\" class=\"row_heading level1 row4\" >Singed Scalpel</th>\n",
       "                        <td id=\"T_9265ad74_f5bd_11ec_9048_fa9776767f0drow4_col0\" class=\"data row4 col0\" >8</td>\n",
       "                        <td id=\"T_9265ad74_f5bd_11ec_9048_fa9776767f0drow4_col1\" class=\"data row4 col1\" >$4.35</td>\n",
       "                        <td id=\"T_9265ad74_f5bd_11ec_9048_fa9776767f0drow4_col2\" class=\"data row4 col2\" >$34.80</td>\n",
       "            </tr>\n",
       "    </tbody></table>"
      ],
      "text/plain": [
       "<pandas.io.formats.style.Styler at 0x28a6b55e288>"
      ]
     },
     "execution_count": 98,
     "metadata": {},
     "output_type": "execute_result"
    }
   ],
   "source": [
    "Most_Popular_Items_df[\"Total Purchase Value\"] = Most_Popular_Items_df[\"Total Purchase Value\"].map(\"${:,.2f}\".format)\n",
    "Most_Popular_Items_df.head().style.set_table_styles([{'selector': 'td', 'props': [('text-align', 'left')]},\n",
    "                           {'selector': '.col_heading', 'props': [('text-align', 'left')]},\n",
    "                           {'selector': '.row_heading', 'props': [('text-align', 'left')]}])"
   ]
  },
  {
   "cell_type": "code",
   "execution_count": null,
   "id": "6871bd27",
   "metadata": {},
   "outputs": [],
   "source": []
  }
 ],
 "metadata": {
  "kernelspec": {
   "display_name": "PythonData",
   "language": "python",
   "name": "pythondata"
  },
  "language_info": {
   "codemirror_mode": {
    "name": "ipython",
    "version": 3
   },
   "file_extension": ".py",
   "mimetype": "text/x-python",
   "name": "python",
   "nbconvert_exporter": "python",
   "pygments_lexer": "ipython3",
   "version": "3.7.7"
  }
 },
 "nbformat": 4,
 "nbformat_minor": 5
}
