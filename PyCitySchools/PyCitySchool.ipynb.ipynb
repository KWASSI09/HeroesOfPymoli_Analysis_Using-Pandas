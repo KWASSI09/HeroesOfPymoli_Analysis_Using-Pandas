{
 "cells": [
  {
   "cell_type": "code",
   "execution_count": 4,
   "id": "29adf310",
   "metadata": {},
   "outputs": [],
   "source": [
    "##PyCity Schools Analysis"
   ]
  },
  {
   "cell_type": "code",
   "execution_count": null,
   "id": "cfb2e981",
   "metadata": {},
   "outputs": [],
   "source": [
    "Few observations can be made from the data retrieved from the PycitySchool analysis. \n",
    "Firstly, the top five performing schools are all from the charter school type, with a percentage of overall passing scores in math and reading above 95%. Cabrera High school is the best on this list, with an overall passing score of 95.58%.\n",
    "On the contrary, Ford High school is the worst among the top five performing schools, with an overall passing score of 73.80%.\n",
    "\n",
    "Secondly, the data also highlights that the performance in math and reading is higher in the lowest spending ranges (per student).\n",
    "\n",
    "And Thirdly, the small and medium school sizes dramatically out-perform the large ones with an overall passing score of 94.82% and 95.20%, respectively. In comparison, the large ones have a performance of 76.36%. "
   ]
  },
  {
   "cell_type": "code",
   "execution_count": null,
   "id": "c436add1",
   "metadata": {},
   "outputs": [],
   "source": []
  },
  {
   "cell_type": "code",
   "execution_count": 127,
   "id": "cf833669",
   "metadata": {},
   "outputs": [],
   "source": [
    "import pandas as pd\n",
    "import numpy as np"
   ]
  },
  {
   "cell_type": "code",
   "execution_count": 128,
   "id": "2e6d35dc",
   "metadata": {},
   "outputs": [],
   "source": [
    "#District_Summary\n",
    "\n",
    "school_data_to_load = \"Resources/schools_complete.csv\"\n",
    "student_data_to_load = \"Resources/students_complete.csv\""
   ]
  },
  {
   "cell_type": "code",
   "execution_count": 129,
   "id": "1490eb7d",
   "metadata": {},
   "outputs": [],
   "source": [
    "school_data = pd.read_csv(school_data_to_load)\n",
    "student_data = pd.read_csv(student_data_to_load)"
   ]
  },
  {
   "cell_type": "code",
   "execution_count": 130,
   "id": "1e2e8a65",
   "metadata": {},
   "outputs": [
    {
     "data": {
      "text/html": [
       "<div>\n",
       "<style scoped>\n",
       "    .dataframe tbody tr th:only-of-type {\n",
       "        vertical-align: middle;\n",
       "    }\n",
       "\n",
       "    .dataframe tbody tr th {\n",
       "        vertical-align: top;\n",
       "    }\n",
       "\n",
       "    .dataframe thead th {\n",
       "        text-align: right;\n",
       "    }\n",
       "</style>\n",
       "<table border=\"1\" class=\"dataframe\">\n",
       "  <thead>\n",
       "    <tr style=\"text-align: right;\">\n",
       "      <th></th>\n",
       "      <th>School ID</th>\n",
       "      <th>school_name</th>\n",
       "      <th>type</th>\n",
       "      <th>size</th>\n",
       "      <th>budget</th>\n",
       "    </tr>\n",
       "  </thead>\n",
       "  <tbody>\n",
       "    <tr>\n",
       "      <th>0</th>\n",
       "      <td>0</td>\n",
       "      <td>Huang High School</td>\n",
       "      <td>District</td>\n",
       "      <td>2917</td>\n",
       "      <td>1910635</td>\n",
       "    </tr>\n",
       "    <tr>\n",
       "      <th>1</th>\n",
       "      <td>1</td>\n",
       "      <td>Figueroa High School</td>\n",
       "      <td>District</td>\n",
       "      <td>2949</td>\n",
       "      <td>1884411</td>\n",
       "    </tr>\n",
       "    <tr>\n",
       "      <th>2</th>\n",
       "      <td>2</td>\n",
       "      <td>Shelton High School</td>\n",
       "      <td>Charter</td>\n",
       "      <td>1761</td>\n",
       "      <td>1056600</td>\n",
       "    </tr>\n",
       "    <tr>\n",
       "      <th>3</th>\n",
       "      <td>3</td>\n",
       "      <td>Hernandez High School</td>\n",
       "      <td>District</td>\n",
       "      <td>4635</td>\n",
       "      <td>3022020</td>\n",
       "    </tr>\n",
       "    <tr>\n",
       "      <th>4</th>\n",
       "      <td>4</td>\n",
       "      <td>Griffin High School</td>\n",
       "      <td>Charter</td>\n",
       "      <td>1468</td>\n",
       "      <td>917500</td>\n",
       "    </tr>\n",
       "    <tr>\n",
       "      <th>5</th>\n",
       "      <td>5</td>\n",
       "      <td>Wilson High School</td>\n",
       "      <td>Charter</td>\n",
       "      <td>2283</td>\n",
       "      <td>1319574</td>\n",
       "    </tr>\n",
       "    <tr>\n",
       "      <th>6</th>\n",
       "      <td>6</td>\n",
       "      <td>Cabrera High School</td>\n",
       "      <td>Charter</td>\n",
       "      <td>1858</td>\n",
       "      <td>1081356</td>\n",
       "    </tr>\n",
       "    <tr>\n",
       "      <th>7</th>\n",
       "      <td>7</td>\n",
       "      <td>Bailey High School</td>\n",
       "      <td>District</td>\n",
       "      <td>4976</td>\n",
       "      <td>3124928</td>\n",
       "    </tr>\n",
       "    <tr>\n",
       "      <th>8</th>\n",
       "      <td>8</td>\n",
       "      <td>Holden High School</td>\n",
       "      <td>Charter</td>\n",
       "      <td>427</td>\n",
       "      <td>248087</td>\n",
       "    </tr>\n",
       "    <tr>\n",
       "      <th>9</th>\n",
       "      <td>9</td>\n",
       "      <td>Pena High School</td>\n",
       "      <td>Charter</td>\n",
       "      <td>962</td>\n",
       "      <td>585858</td>\n",
       "    </tr>\n",
       "    <tr>\n",
       "      <th>10</th>\n",
       "      <td>10</td>\n",
       "      <td>Wright High School</td>\n",
       "      <td>Charter</td>\n",
       "      <td>1800</td>\n",
       "      <td>1049400</td>\n",
       "    </tr>\n",
       "    <tr>\n",
       "      <th>11</th>\n",
       "      <td>11</td>\n",
       "      <td>Rodriguez High School</td>\n",
       "      <td>District</td>\n",
       "      <td>3999</td>\n",
       "      <td>2547363</td>\n",
       "    </tr>\n",
       "    <tr>\n",
       "      <th>12</th>\n",
       "      <td>12</td>\n",
       "      <td>Johnson High School</td>\n",
       "      <td>District</td>\n",
       "      <td>4761</td>\n",
       "      <td>3094650</td>\n",
       "    </tr>\n",
       "    <tr>\n",
       "      <th>13</th>\n",
       "      <td>13</td>\n",
       "      <td>Ford High School</td>\n",
       "      <td>District</td>\n",
       "      <td>2739</td>\n",
       "      <td>1763916</td>\n",
       "    </tr>\n",
       "    <tr>\n",
       "      <th>14</th>\n",
       "      <td>14</td>\n",
       "      <td>Thomas High School</td>\n",
       "      <td>Charter</td>\n",
       "      <td>1635</td>\n",
       "      <td>1043130</td>\n",
       "    </tr>\n",
       "  </tbody>\n",
       "</table>\n",
       "</div>"
      ],
      "text/plain": [
       "    School ID            school_name      type  size   budget\n",
       "0           0      Huang High School  District  2917  1910635\n",
       "1           1   Figueroa High School  District  2949  1884411\n",
       "2           2    Shelton High School   Charter  1761  1056600\n",
       "3           3  Hernandez High School  District  4635  3022020\n",
       "4           4    Griffin High School   Charter  1468   917500\n",
       "5           5     Wilson High School   Charter  2283  1319574\n",
       "6           6    Cabrera High School   Charter  1858  1081356\n",
       "7           7     Bailey High School  District  4976  3124928\n",
       "8           8     Holden High School   Charter   427   248087\n",
       "9           9       Pena High School   Charter   962   585858\n",
       "10         10     Wright High School   Charter  1800  1049400\n",
       "11         11  Rodriguez High School  District  3999  2547363\n",
       "12         12    Johnson High School  District  4761  3094650\n",
       "13         13       Ford High School  District  2739  1763916\n",
       "14         14     Thomas High School   Charter  1635  1043130"
      ]
     },
     "execution_count": 130,
     "metadata": {},
     "output_type": "execute_result"
    }
   ],
   "source": [
    "school_data"
   ]
  },
  {
   "cell_type": "code",
   "execution_count": 131,
   "id": "9addfd05",
   "metadata": {},
   "outputs": [
    {
     "data": {
      "text/html": [
       "<div>\n",
       "<style scoped>\n",
       "    .dataframe tbody tr th:only-of-type {\n",
       "        vertical-align: middle;\n",
       "    }\n",
       "\n",
       "    .dataframe tbody tr th {\n",
       "        vertical-align: top;\n",
       "    }\n",
       "\n",
       "    .dataframe thead th {\n",
       "        text-align: right;\n",
       "    }\n",
       "</style>\n",
       "<table border=\"1\" class=\"dataframe\">\n",
       "  <thead>\n",
       "    <tr style=\"text-align: right;\">\n",
       "      <th></th>\n",
       "      <th>Student ID</th>\n",
       "      <th>student_name</th>\n",
       "      <th>gender</th>\n",
       "      <th>grade</th>\n",
       "      <th>school_name</th>\n",
       "      <th>reading_score</th>\n",
       "      <th>math_score</th>\n",
       "    </tr>\n",
       "  </thead>\n",
       "  <tbody>\n",
       "    <tr>\n",
       "      <th>0</th>\n",
       "      <td>0</td>\n",
       "      <td>Paul Bradley</td>\n",
       "      <td>M</td>\n",
       "      <td>9th</td>\n",
       "      <td>Huang High School</td>\n",
       "      <td>66</td>\n",
       "      <td>79</td>\n",
       "    </tr>\n",
       "    <tr>\n",
       "      <th>1</th>\n",
       "      <td>1</td>\n",
       "      <td>Victor Smith</td>\n",
       "      <td>M</td>\n",
       "      <td>12th</td>\n",
       "      <td>Huang High School</td>\n",
       "      <td>94</td>\n",
       "      <td>61</td>\n",
       "    </tr>\n",
       "    <tr>\n",
       "      <th>2</th>\n",
       "      <td>2</td>\n",
       "      <td>Kevin Rodriguez</td>\n",
       "      <td>M</td>\n",
       "      <td>12th</td>\n",
       "      <td>Huang High School</td>\n",
       "      <td>90</td>\n",
       "      <td>60</td>\n",
       "    </tr>\n",
       "    <tr>\n",
       "      <th>3</th>\n",
       "      <td>3</td>\n",
       "      <td>Dr. Richard Scott</td>\n",
       "      <td>M</td>\n",
       "      <td>12th</td>\n",
       "      <td>Huang High School</td>\n",
       "      <td>67</td>\n",
       "      <td>58</td>\n",
       "    </tr>\n",
       "    <tr>\n",
       "      <th>4</th>\n",
       "      <td>4</td>\n",
       "      <td>Bonnie Ray</td>\n",
       "      <td>F</td>\n",
       "      <td>9th</td>\n",
       "      <td>Huang High School</td>\n",
       "      <td>97</td>\n",
       "      <td>84</td>\n",
       "    </tr>\n",
       "    <tr>\n",
       "      <th>...</th>\n",
       "      <td>...</td>\n",
       "      <td>...</td>\n",
       "      <td>...</td>\n",
       "      <td>...</td>\n",
       "      <td>...</td>\n",
       "      <td>...</td>\n",
       "      <td>...</td>\n",
       "    </tr>\n",
       "    <tr>\n",
       "      <th>39165</th>\n",
       "      <td>39165</td>\n",
       "      <td>Donna Howard</td>\n",
       "      <td>F</td>\n",
       "      <td>12th</td>\n",
       "      <td>Thomas High School</td>\n",
       "      <td>99</td>\n",
       "      <td>90</td>\n",
       "    </tr>\n",
       "    <tr>\n",
       "      <th>39166</th>\n",
       "      <td>39166</td>\n",
       "      <td>Dawn Bell</td>\n",
       "      <td>F</td>\n",
       "      <td>10th</td>\n",
       "      <td>Thomas High School</td>\n",
       "      <td>95</td>\n",
       "      <td>70</td>\n",
       "    </tr>\n",
       "    <tr>\n",
       "      <th>39167</th>\n",
       "      <td>39167</td>\n",
       "      <td>Rebecca Tanner</td>\n",
       "      <td>F</td>\n",
       "      <td>9th</td>\n",
       "      <td>Thomas High School</td>\n",
       "      <td>73</td>\n",
       "      <td>84</td>\n",
       "    </tr>\n",
       "    <tr>\n",
       "      <th>39168</th>\n",
       "      <td>39168</td>\n",
       "      <td>Desiree Kidd</td>\n",
       "      <td>F</td>\n",
       "      <td>10th</td>\n",
       "      <td>Thomas High School</td>\n",
       "      <td>99</td>\n",
       "      <td>90</td>\n",
       "    </tr>\n",
       "    <tr>\n",
       "      <th>39169</th>\n",
       "      <td>39169</td>\n",
       "      <td>Carolyn Jackson</td>\n",
       "      <td>F</td>\n",
       "      <td>11th</td>\n",
       "      <td>Thomas High School</td>\n",
       "      <td>95</td>\n",
       "      <td>75</td>\n",
       "    </tr>\n",
       "  </tbody>\n",
       "</table>\n",
       "<p>39170 rows × 7 columns</p>\n",
       "</div>"
      ],
      "text/plain": [
       "       Student ID       student_name gender grade         school_name  \\\n",
       "0               0       Paul Bradley      M   9th   Huang High School   \n",
       "1               1       Victor Smith      M  12th   Huang High School   \n",
       "2               2    Kevin Rodriguez      M  12th   Huang High School   \n",
       "3               3  Dr. Richard Scott      M  12th   Huang High School   \n",
       "4               4         Bonnie Ray      F   9th   Huang High School   \n",
       "...           ...                ...    ...   ...                 ...   \n",
       "39165       39165       Donna Howard      F  12th  Thomas High School   \n",
       "39166       39166          Dawn Bell      F  10th  Thomas High School   \n",
       "39167       39167     Rebecca Tanner      F   9th  Thomas High School   \n",
       "39168       39168       Desiree Kidd      F  10th  Thomas High School   \n",
       "39169       39169    Carolyn Jackson      F  11th  Thomas High School   \n",
       "\n",
       "       reading_score  math_score  \n",
       "0                 66          79  \n",
       "1                 94          61  \n",
       "2                 90          60  \n",
       "3                 67          58  \n",
       "4                 97          84  \n",
       "...              ...         ...  \n",
       "39165             99          90  \n",
       "39166             95          70  \n",
       "39167             73          84  \n",
       "39168             99          90  \n",
       "39169             95          75  \n",
       "\n",
       "[39170 rows x 7 columns]"
      ]
     },
     "execution_count": 131,
     "metadata": {},
     "output_type": "execute_result"
    }
   ],
   "source": [
    "student_data"
   ]
  },
  {
   "cell_type": "code",
   "execution_count": 132,
   "id": "a93aa78b",
   "metadata": {},
   "outputs": [
    {
     "data": {
      "text/html": [
       "<div>\n",
       "<style scoped>\n",
       "    .dataframe tbody tr th:only-of-type {\n",
       "        vertical-align: middle;\n",
       "    }\n",
       "\n",
       "    .dataframe tbody tr th {\n",
       "        vertical-align: top;\n",
       "    }\n",
       "\n",
       "    .dataframe thead th {\n",
       "        text-align: right;\n",
       "    }\n",
       "</style>\n",
       "<table border=\"1\" class=\"dataframe\">\n",
       "  <thead>\n",
       "    <tr style=\"text-align: right;\">\n",
       "      <th></th>\n",
       "      <th>Student ID</th>\n",
       "      <th>student_name</th>\n",
       "      <th>gender</th>\n",
       "      <th>grade</th>\n",
       "      <th>school_name</th>\n",
       "      <th>reading_score</th>\n",
       "      <th>math_score</th>\n",
       "      <th>School ID</th>\n",
       "      <th>type</th>\n",
       "      <th>size</th>\n",
       "      <th>budget</th>\n",
       "    </tr>\n",
       "  </thead>\n",
       "  <tbody>\n",
       "    <tr>\n",
       "      <th>0</th>\n",
       "      <td>0</td>\n",
       "      <td>Paul Bradley</td>\n",
       "      <td>M</td>\n",
       "      <td>9th</td>\n",
       "      <td>Huang High School</td>\n",
       "      <td>66</td>\n",
       "      <td>79</td>\n",
       "      <td>0</td>\n",
       "      <td>District</td>\n",
       "      <td>2917</td>\n",
       "      <td>1910635</td>\n",
       "    </tr>\n",
       "    <tr>\n",
       "      <th>1</th>\n",
       "      <td>1</td>\n",
       "      <td>Victor Smith</td>\n",
       "      <td>M</td>\n",
       "      <td>12th</td>\n",
       "      <td>Huang High School</td>\n",
       "      <td>94</td>\n",
       "      <td>61</td>\n",
       "      <td>0</td>\n",
       "      <td>District</td>\n",
       "      <td>2917</td>\n",
       "      <td>1910635</td>\n",
       "    </tr>\n",
       "    <tr>\n",
       "      <th>2</th>\n",
       "      <td>2</td>\n",
       "      <td>Kevin Rodriguez</td>\n",
       "      <td>M</td>\n",
       "      <td>12th</td>\n",
       "      <td>Huang High School</td>\n",
       "      <td>90</td>\n",
       "      <td>60</td>\n",
       "      <td>0</td>\n",
       "      <td>District</td>\n",
       "      <td>2917</td>\n",
       "      <td>1910635</td>\n",
       "    </tr>\n",
       "    <tr>\n",
       "      <th>3</th>\n",
       "      <td>3</td>\n",
       "      <td>Dr. Richard Scott</td>\n",
       "      <td>M</td>\n",
       "      <td>12th</td>\n",
       "      <td>Huang High School</td>\n",
       "      <td>67</td>\n",
       "      <td>58</td>\n",
       "      <td>0</td>\n",
       "      <td>District</td>\n",
       "      <td>2917</td>\n",
       "      <td>1910635</td>\n",
       "    </tr>\n",
       "    <tr>\n",
       "      <th>4</th>\n",
       "      <td>4</td>\n",
       "      <td>Bonnie Ray</td>\n",
       "      <td>F</td>\n",
       "      <td>9th</td>\n",
       "      <td>Huang High School</td>\n",
       "      <td>97</td>\n",
       "      <td>84</td>\n",
       "      <td>0</td>\n",
       "      <td>District</td>\n",
       "      <td>2917</td>\n",
       "      <td>1910635</td>\n",
       "    </tr>\n",
       "    <tr>\n",
       "      <th>...</th>\n",
       "      <td>...</td>\n",
       "      <td>...</td>\n",
       "      <td>...</td>\n",
       "      <td>...</td>\n",
       "      <td>...</td>\n",
       "      <td>...</td>\n",
       "      <td>...</td>\n",
       "      <td>...</td>\n",
       "      <td>...</td>\n",
       "      <td>...</td>\n",
       "      <td>...</td>\n",
       "    </tr>\n",
       "    <tr>\n",
       "      <th>39165</th>\n",
       "      <td>39165</td>\n",
       "      <td>Donna Howard</td>\n",
       "      <td>F</td>\n",
       "      <td>12th</td>\n",
       "      <td>Thomas High School</td>\n",
       "      <td>99</td>\n",
       "      <td>90</td>\n",
       "      <td>14</td>\n",
       "      <td>Charter</td>\n",
       "      <td>1635</td>\n",
       "      <td>1043130</td>\n",
       "    </tr>\n",
       "    <tr>\n",
       "      <th>39166</th>\n",
       "      <td>39166</td>\n",
       "      <td>Dawn Bell</td>\n",
       "      <td>F</td>\n",
       "      <td>10th</td>\n",
       "      <td>Thomas High School</td>\n",
       "      <td>95</td>\n",
       "      <td>70</td>\n",
       "      <td>14</td>\n",
       "      <td>Charter</td>\n",
       "      <td>1635</td>\n",
       "      <td>1043130</td>\n",
       "    </tr>\n",
       "    <tr>\n",
       "      <th>39167</th>\n",
       "      <td>39167</td>\n",
       "      <td>Rebecca Tanner</td>\n",
       "      <td>F</td>\n",
       "      <td>9th</td>\n",
       "      <td>Thomas High School</td>\n",
       "      <td>73</td>\n",
       "      <td>84</td>\n",
       "      <td>14</td>\n",
       "      <td>Charter</td>\n",
       "      <td>1635</td>\n",
       "      <td>1043130</td>\n",
       "    </tr>\n",
       "    <tr>\n",
       "      <th>39168</th>\n",
       "      <td>39168</td>\n",
       "      <td>Desiree Kidd</td>\n",
       "      <td>F</td>\n",
       "      <td>10th</td>\n",
       "      <td>Thomas High School</td>\n",
       "      <td>99</td>\n",
       "      <td>90</td>\n",
       "      <td>14</td>\n",
       "      <td>Charter</td>\n",
       "      <td>1635</td>\n",
       "      <td>1043130</td>\n",
       "    </tr>\n",
       "    <tr>\n",
       "      <th>39169</th>\n",
       "      <td>39169</td>\n",
       "      <td>Carolyn Jackson</td>\n",
       "      <td>F</td>\n",
       "      <td>11th</td>\n",
       "      <td>Thomas High School</td>\n",
       "      <td>95</td>\n",
       "      <td>75</td>\n",
       "      <td>14</td>\n",
       "      <td>Charter</td>\n",
       "      <td>1635</td>\n",
       "      <td>1043130</td>\n",
       "    </tr>\n",
       "  </tbody>\n",
       "</table>\n",
       "<p>39170 rows × 11 columns</p>\n",
       "</div>"
      ],
      "text/plain": [
       "       Student ID       student_name gender grade         school_name  \\\n",
       "0               0       Paul Bradley      M   9th   Huang High School   \n",
       "1               1       Victor Smith      M  12th   Huang High School   \n",
       "2               2    Kevin Rodriguez      M  12th   Huang High School   \n",
       "3               3  Dr. Richard Scott      M  12th   Huang High School   \n",
       "4               4         Bonnie Ray      F   9th   Huang High School   \n",
       "...           ...                ...    ...   ...                 ...   \n",
       "39165       39165       Donna Howard      F  12th  Thomas High School   \n",
       "39166       39166          Dawn Bell      F  10th  Thomas High School   \n",
       "39167       39167     Rebecca Tanner      F   9th  Thomas High School   \n",
       "39168       39168       Desiree Kidd      F  10th  Thomas High School   \n",
       "39169       39169    Carolyn Jackson      F  11th  Thomas High School   \n",
       "\n",
       "       reading_score  math_score  School ID      type  size   budget  \n",
       "0                 66          79          0  District  2917  1910635  \n",
       "1                 94          61          0  District  2917  1910635  \n",
       "2                 90          60          0  District  2917  1910635  \n",
       "3                 67          58          0  District  2917  1910635  \n",
       "4                 97          84          0  District  2917  1910635  \n",
       "...              ...         ...        ...       ...   ...      ...  \n",
       "39165             99          90         14   Charter  1635  1043130  \n",
       "39166             95          70         14   Charter  1635  1043130  \n",
       "39167             73          84         14   Charter  1635  1043130  \n",
       "39168             99          90         14   Charter  1635  1043130  \n",
       "39169             95          75         14   Charter  1635  1043130  \n",
       "\n",
       "[39170 rows x 11 columns]"
      ]
     },
     "execution_count": 132,
     "metadata": {},
     "output_type": "execute_result"
    }
   ],
   "source": [
    "school_data_complete = pd.merge(student_data, school_data, how=\"left\", on=[\"school_name\", \"school_name\"])\n",
    "school_data_complete"
   ]
  },
  {
   "cell_type": "code",
   "execution_count": 133,
   "id": "024f6409",
   "metadata": {},
   "outputs": [
    {
     "data": {
      "text/plain": [
       "15"
      ]
     },
     "execution_count": 133,
     "metadata": {},
     "output_type": "execute_result"
    }
   ],
   "source": [
    "total_schools = school_data_complete[\"school_name\"].nunique()\n",
    "total_schools"
   ]
  },
  {
   "cell_type": "code",
   "execution_count": 134,
   "id": "0c095c9c",
   "metadata": {},
   "outputs": [
    {
     "data": {
      "text/plain": [
       "39170"
      ]
     },
     "execution_count": 134,
     "metadata": {},
     "output_type": "execute_result"
    }
   ],
   "source": [
    "total_students = school_data_complete[\"Student ID\"].nunique()\n",
    "total_students"
   ]
  },
  {
   "cell_type": "code",
   "execution_count": 135,
   "id": "9ee7f059",
   "metadata": {},
   "outputs": [
    {
     "data": {
      "text/plain": [
       "24649428"
      ]
     },
     "execution_count": 135,
     "metadata": {},
     "output_type": "execute_result"
    }
   ],
   "source": [
    "total_budget = school_data[\"budget\"].sum()\n",
    "total_budget"
   ]
  },
  {
   "cell_type": "code",
   "execution_count": 136,
   "id": "495ed33d",
   "metadata": {},
   "outputs": [
    {
     "data": {
      "text/plain": [
       "78.98537145774827"
      ]
     },
     "execution_count": 136,
     "metadata": {},
     "output_type": "execute_result"
    }
   ],
   "source": [
    "avg_math_score = school_data_complete[\"math_score\"].mean()\n",
    "avg_math_score"
   ]
  },
  {
   "cell_type": "code",
   "execution_count": 137,
   "id": "6a8e79ac",
   "metadata": {},
   "outputs": [
    {
     "data": {
      "text/plain": [
       "81.87784018381414"
      ]
     },
     "execution_count": 137,
     "metadata": {},
     "output_type": "execute_result"
    }
   ],
   "source": [
    "avg_reading_score = school_data_complete[\"reading_score\"].mean()\n",
    "avg_reading_score"
   ]
  },
  {
   "cell_type": "code",
   "execution_count": 138,
   "id": "ee9a75e5",
   "metadata": {},
   "outputs": [
    {
     "data": {
      "text/plain": [
       "29370"
      ]
     },
     "execution_count": 138,
     "metadata": {},
     "output_type": "execute_result"
    }
   ],
   "source": [
    "passing_math = len(school_data_complete[school_data_complete[\"math_score\"]>=70])\n",
    "passing_math"
   ]
  },
  {
   "cell_type": "code",
   "execution_count": 139,
   "id": "1b457936",
   "metadata": {},
   "outputs": [
    {
     "data": {
      "text/plain": [
       "33610"
      ]
     },
     "execution_count": 139,
     "metadata": {},
     "output_type": "execute_result"
    }
   ],
   "source": [
    "passing_reading = len(school_data_complete[school_data_complete[\"reading_score\"]>=70])\n",
    "passing_reading"
   ]
  },
  {
   "cell_type": "code",
   "execution_count": 140,
   "id": "82362d35",
   "metadata": {},
   "outputs": [
    {
     "data": {
      "text/plain": [
       "74.9808526933878"
      ]
     },
     "execution_count": 140,
     "metadata": {},
     "output_type": "execute_result"
    }
   ],
   "source": [
    "percentage_overall_math = (passing_math/total_students)*100\n",
    "percentage_overall_math"
   ]
  },
  {
   "cell_type": "code",
   "execution_count": 141,
   "id": "9efcdaf0",
   "metadata": {},
   "outputs": [
    {
     "data": {
      "text/plain": [
       "85.80546336482001"
      ]
     },
     "execution_count": 141,
     "metadata": {},
     "output_type": "execute_result"
    }
   ],
   "source": [
    "percentage_overall_reading = (passing_reading/total_students)*100\n",
    "percentage_overall_reading"
   ]
  },
  {
   "cell_type": "code",
   "execution_count": 142,
   "id": "868a50aa",
   "metadata": {},
   "outputs": [
    {
     "data": {
      "text/plain": [
       "80.43160582078121"
      ]
     },
     "execution_count": 142,
     "metadata": {},
     "output_type": "execute_result"
    }
   ],
   "source": [
    "percentage_overall_passing = (avg_math_score + avg_reading_score )/2\n",
    "percentage_overall_passing"
   ]
  },
  {
   "cell_type": "code",
   "execution_count": 143,
   "id": "106d0829",
   "metadata": {},
   "outputs": [],
   "source": [
    "District_Summary_df = pd.DataFrame({\n",
    "    \"Total Schools\":[total_schools],\n",
    "    \"Total Students\":[total_students],\n",
    "    \"Total Budget\":[total_budget],\n",
    "    \"Average Math Score\":[avg_math_score],\n",
    "    \"Average Reading Score\":[avg_reading_score],\n",
    "    \"% Passing Math\":[percentage_overall_math],\n",
    "    \"% Passing Reading\":[percentage_overall_reading],\n",
    "    \"% Overall Passing\":[percentage_overall_passing]\n",
    "    \n",
    "})"
   ]
  },
  {
   "cell_type": "code",
   "execution_count": 144,
   "id": "0db3990e",
   "metadata": {},
   "outputs": [],
   "source": [
    "District_Summary_df[\"Total Budget\"] = District_Summary_df[\"Total Budget\"].map(\"${:,.2f}\".format)"
   ]
  },
  {
   "cell_type": "code",
   "execution_count": 145,
   "id": "44e5dd1e",
   "metadata": {},
   "outputs": [],
   "source": [
    "District_Summary_df[\"Total Students\"] = District_Summary_df[\"Total Students\"].map(\"{:,.0f}\".format)"
   ]
  },
  {
   "cell_type": "code",
   "execution_count": 146,
   "id": "b6351be5",
   "metadata": {},
   "outputs": [
    {
     "data": {
      "text/html": [
       "<div>\n",
       "<style scoped>\n",
       "    .dataframe tbody tr th:only-of-type {\n",
       "        vertical-align: middle;\n",
       "    }\n",
       "\n",
       "    .dataframe tbody tr th {\n",
       "        vertical-align: top;\n",
       "    }\n",
       "\n",
       "    .dataframe thead th {\n",
       "        text-align: right;\n",
       "    }\n",
       "</style>\n",
       "<table border=\"1\" class=\"dataframe\">\n",
       "  <thead>\n",
       "    <tr style=\"text-align: right;\">\n",
       "      <th></th>\n",
       "      <th>Total Schools</th>\n",
       "      <th>Total Students</th>\n",
       "      <th>Total Budget</th>\n",
       "      <th>Average Math Score</th>\n",
       "      <th>Average Reading Score</th>\n",
       "      <th>% Passing Math</th>\n",
       "      <th>% Passing Reading</th>\n",
       "      <th>% Overall Passing</th>\n",
       "    </tr>\n",
       "  </thead>\n",
       "  <tbody>\n",
       "    <tr>\n",
       "      <th>0</th>\n",
       "      <td>15</td>\n",
       "      <td>39,170</td>\n",
       "      <td>$24,649,428.00</td>\n",
       "      <td>78.985371</td>\n",
       "      <td>81.87784</td>\n",
       "      <td>74.980853</td>\n",
       "      <td>85.805463</td>\n",
       "      <td>80.431606</td>\n",
       "    </tr>\n",
       "  </tbody>\n",
       "</table>\n",
       "</div>"
      ],
      "text/plain": [
       "   Total Schools Total Students    Total Budget  Average Math Score  \\\n",
       "0             15         39,170  $24,649,428.00           78.985371   \n",
       "\n",
       "   Average Reading Score  % Passing Math  % Passing Reading  % Overall Passing  \n",
       "0               81.87784       74.980853          85.805463          80.431606  "
      ]
     },
     "execution_count": 146,
     "metadata": {},
     "output_type": "execute_result"
    }
   ],
   "source": [
    "District_Summary_df[[\"Total Schools\",\n",
    "      \"Total Students\",\n",
    "      \"Total Budget\",\n",
    "      \"Average Math Score\",\n",
    "      \"Average Reading Score\",\n",
    "      \"% Passing Math\",\n",
    "      \"% Passing Reading\",\n",
    "      \"% Overall Passing\"]]"
   ]
  },
  {
   "cell_type": "code",
   "execution_count": 147,
   "id": "a524fc9e",
   "metadata": {},
   "outputs": [],
   "source": [
    "# School Summary"
   ]
  },
  {
   "cell_type": "code",
   "execution_count": 150,
   "id": "d0ea876b",
   "metadata": {},
   "outputs": [],
   "source": [
    "grouped_school_df = school_data_complete.groupby([\"school_name\"])"
   ]
  },
  {
   "cell_type": "code",
   "execution_count": 151,
   "id": "20f9acfa",
   "metadata": {},
   "outputs": [],
   "source": [
    "School_Type = grouped_school_df[\"type\"].first()"
   ]
  },
  {
   "cell_type": "code",
   "execution_count": 152,
   "id": "3b2ae51f",
   "metadata": {},
   "outputs": [],
   "source": [
    "Total_Students = grouped_school_df[\"Student ID\"].count()"
   ]
  },
  {
   "cell_type": "code",
   "execution_count": 82,
   "id": "7c5a2c3d",
   "metadata": {},
   "outputs": [],
   "source": [
    "Total_School_Budget = grouped_school_df[\"budget\"].first()"
   ]
  },
  {
   "cell_type": "code",
   "execution_count": 153,
   "id": "3f49470d",
   "metadata": {},
   "outputs": [],
   "source": [
    "Per_Student_Budget = Total_School_Budget / Total_Students"
   ]
  },
  {
   "cell_type": "code",
   "execution_count": 154,
   "id": "139fd5ac",
   "metadata": {},
   "outputs": [],
   "source": [
    "avg_Math_Score = grouped_school_df[\"math_score\"].mean()"
   ]
  },
  {
   "cell_type": "code",
   "execution_count": 155,
   "id": "7f57727f",
   "metadata": {},
   "outputs": [],
   "source": [
    "avg_Reading_Score = grouped_school_df[\"reading_score\"].mean()"
   ]
  },
  {
   "cell_type": "code",
   "execution_count": 156,
   "id": "bb103771",
   "metadata": {},
   "outputs": [],
   "source": [
    "passing_math = school_data_complete[school_data_complete[\"math_score\"] >= 70].groupby([\"school_name\"])[\"math_score\"].count()"
   ]
  },
  {
   "cell_type": "code",
   "execution_count": 157,
   "id": "86dc96db",
   "metadata": {},
   "outputs": [],
   "source": [
    "percentage_overall_math = (passing_math / Total_Students) * 100"
   ]
  },
  {
   "cell_type": "code",
   "execution_count": 158,
   "id": "4674ff1a",
   "metadata": {},
   "outputs": [],
   "source": [
    "passing_reading = school_data_complete[school_data_complete[\"reading_score\"] >= 70].groupby([\"school_name\"])[\"reading_score\"].count()"
   ]
  },
  {
   "cell_type": "code",
   "execution_count": 159,
   "id": "a226ee6d",
   "metadata": {},
   "outputs": [],
   "source": [
    "percentage_overall_reading = (passing_reading / Total_Students) * 100"
   ]
  },
  {
   "cell_type": "code",
   "execution_count": 160,
   "id": "57fe980e",
   "metadata": {},
   "outputs": [],
   "source": [
    "percentage_overall_passing = (percentage_overall_math + percentage_overall_reading)/2"
   ]
  },
  {
   "cell_type": "code",
   "execution_count": 219,
   "id": "8ce0633c",
   "metadata": {},
   "outputs": [],
   "source": [
    "School_Summary_df = pd.DataFrame({\"School Type\" : School_Type,\n",
    "      \"Total Students\" : Total_Students,\n",
    "      \"Total School Budget\" : Total_School_Budget,\n",
    "      \"Per Student Budget\" : Per_Student_Budget,\n",
    "      \"Average Math Score\" : avg_Math_Score,\n",
    "      \"Average Reading Score\" : avg_Reading_Score,\n",
    "      \"% Passing Math\" : percentage_overall_math,\n",
    "      \"% Passing Reading\" : percentage_overall_reading,\n",
    "      \"% Overall Passing\" : percentage_overall_passing})"
   ]
  },
  {
   "cell_type": "code",
   "execution_count": 220,
   "id": "4b306fbe",
   "metadata": {},
   "outputs": [],
   "source": [
    "School_Summary_df[\"Total School Budget\"] = School_Summary_df[\"Total School Budget\"].map(\"${:,.2f}\".format)\n",
    "School_Summary_df[\"Per Student Budget\"] = School_Summary_df[\"Per Student Budget\"].map(\"${:,.2f}\".format)"
   ]
  },
  {
   "cell_type": "code",
   "execution_count": 221,
   "id": "e5968e51",
   "metadata": {},
   "outputs": [
    {
     "data": {
      "text/html": [
       "<style  type=\"text/css\" >\n",
       "    #T_6c130342_f5b8_11ec_a626_fa9776767f0d td {\n",
       "          text-align: center;\n",
       "    }    #T_6c130342_f5b8_11ec_a626_fa9776767f0d .col_heading {\n",
       "          text-align: center;\n",
       "    }    #T_6c130342_f5b8_11ec_a626_fa9776767f0d .row_heading {\n",
       "          text-align: left;\n",
       "    }</style><table id=\"T_6c130342_f5b8_11ec_a626_fa9776767f0d\" ><thead>    <tr>        <th class=\"blank level0\" ></th>        <th class=\"col_heading level0 col0\" >School Type</th>        <th class=\"col_heading level0 col1\" >Total Students</th>        <th class=\"col_heading level0 col2\" >Total School Budget</th>        <th class=\"col_heading level0 col3\" >Per Student Budget</th>        <th class=\"col_heading level0 col4\" >Average Math Score</th>        <th class=\"col_heading level0 col5\" >Average Reading Score</th>        <th class=\"col_heading level0 col6\" >% Passing Math</th>        <th class=\"col_heading level0 col7\" >% Passing Reading</th>        <th class=\"col_heading level0 col8\" >% Overall Passing</th>    </tr>    <tr>        <th class=\"index_name level0\" >school_name</th>        <th class=\"blank\" ></th>        <th class=\"blank\" ></th>        <th class=\"blank\" ></th>        <th class=\"blank\" ></th>        <th class=\"blank\" ></th>        <th class=\"blank\" ></th>        <th class=\"blank\" ></th>        <th class=\"blank\" ></th>        <th class=\"blank\" ></th>    </tr></thead><tbody>\n",
       "                <tr>\n",
       "                        <th id=\"T_6c130342_f5b8_11ec_a626_fa9776767f0dlevel0_row0\" class=\"row_heading level0 row0\" >Bailey High School</th>\n",
       "                        <td id=\"T_6c130342_f5b8_11ec_a626_fa9776767f0drow0_col0\" class=\"data row0 col0\" >District</td>\n",
       "                        <td id=\"T_6c130342_f5b8_11ec_a626_fa9776767f0drow0_col1\" class=\"data row0 col1\" >4976</td>\n",
       "                        <td id=\"T_6c130342_f5b8_11ec_a626_fa9776767f0drow0_col2\" class=\"data row0 col2\" >$3,124,928.00</td>\n",
       "                        <td id=\"T_6c130342_f5b8_11ec_a626_fa9776767f0drow0_col3\" class=\"data row0 col3\" >$628.00</td>\n",
       "                        <td id=\"T_6c130342_f5b8_11ec_a626_fa9776767f0drow0_col4\" class=\"data row0 col4\" >77.048432</td>\n",
       "                        <td id=\"T_6c130342_f5b8_11ec_a626_fa9776767f0drow0_col5\" class=\"data row0 col5\" >81.033963</td>\n",
       "                        <td id=\"T_6c130342_f5b8_11ec_a626_fa9776767f0drow0_col6\" class=\"data row0 col6\" >66.680064</td>\n",
       "                        <td id=\"T_6c130342_f5b8_11ec_a626_fa9776767f0drow0_col7\" class=\"data row0 col7\" >81.933280</td>\n",
       "                        <td id=\"T_6c130342_f5b8_11ec_a626_fa9776767f0drow0_col8\" class=\"data row0 col8\" >74.306672</td>\n",
       "            </tr>\n",
       "            <tr>\n",
       "                        <th id=\"T_6c130342_f5b8_11ec_a626_fa9776767f0dlevel0_row1\" class=\"row_heading level0 row1\" >Cabrera High School</th>\n",
       "                        <td id=\"T_6c130342_f5b8_11ec_a626_fa9776767f0drow1_col0\" class=\"data row1 col0\" >Charter</td>\n",
       "                        <td id=\"T_6c130342_f5b8_11ec_a626_fa9776767f0drow1_col1\" class=\"data row1 col1\" >1858</td>\n",
       "                        <td id=\"T_6c130342_f5b8_11ec_a626_fa9776767f0drow1_col2\" class=\"data row1 col2\" >$1,081,356.00</td>\n",
       "                        <td id=\"T_6c130342_f5b8_11ec_a626_fa9776767f0drow1_col3\" class=\"data row1 col3\" >$582.00</td>\n",
       "                        <td id=\"T_6c130342_f5b8_11ec_a626_fa9776767f0drow1_col4\" class=\"data row1 col4\" >83.061895</td>\n",
       "                        <td id=\"T_6c130342_f5b8_11ec_a626_fa9776767f0drow1_col5\" class=\"data row1 col5\" >83.975780</td>\n",
       "                        <td id=\"T_6c130342_f5b8_11ec_a626_fa9776767f0drow1_col6\" class=\"data row1 col6\" >94.133477</td>\n",
       "                        <td id=\"T_6c130342_f5b8_11ec_a626_fa9776767f0drow1_col7\" class=\"data row1 col7\" >97.039828</td>\n",
       "                        <td id=\"T_6c130342_f5b8_11ec_a626_fa9776767f0drow1_col8\" class=\"data row1 col8\" >95.586652</td>\n",
       "            </tr>\n",
       "            <tr>\n",
       "                        <th id=\"T_6c130342_f5b8_11ec_a626_fa9776767f0dlevel0_row2\" class=\"row_heading level0 row2\" >Figueroa High School</th>\n",
       "                        <td id=\"T_6c130342_f5b8_11ec_a626_fa9776767f0drow2_col0\" class=\"data row2 col0\" >District</td>\n",
       "                        <td id=\"T_6c130342_f5b8_11ec_a626_fa9776767f0drow2_col1\" class=\"data row2 col1\" >2949</td>\n",
       "                        <td id=\"T_6c130342_f5b8_11ec_a626_fa9776767f0drow2_col2\" class=\"data row2 col2\" >$1,884,411.00</td>\n",
       "                        <td id=\"T_6c130342_f5b8_11ec_a626_fa9776767f0drow2_col3\" class=\"data row2 col3\" >$639.00</td>\n",
       "                        <td id=\"T_6c130342_f5b8_11ec_a626_fa9776767f0drow2_col4\" class=\"data row2 col4\" >76.711767</td>\n",
       "                        <td id=\"T_6c130342_f5b8_11ec_a626_fa9776767f0drow2_col5\" class=\"data row2 col5\" >81.158020</td>\n",
       "                        <td id=\"T_6c130342_f5b8_11ec_a626_fa9776767f0drow2_col6\" class=\"data row2 col6\" >65.988471</td>\n",
       "                        <td id=\"T_6c130342_f5b8_11ec_a626_fa9776767f0drow2_col7\" class=\"data row2 col7\" >80.739234</td>\n",
       "                        <td id=\"T_6c130342_f5b8_11ec_a626_fa9776767f0drow2_col8\" class=\"data row2 col8\" >73.363852</td>\n",
       "            </tr>\n",
       "            <tr>\n",
       "                        <th id=\"T_6c130342_f5b8_11ec_a626_fa9776767f0dlevel0_row3\" class=\"row_heading level0 row3\" >Ford High School</th>\n",
       "                        <td id=\"T_6c130342_f5b8_11ec_a626_fa9776767f0drow3_col0\" class=\"data row3 col0\" >District</td>\n",
       "                        <td id=\"T_6c130342_f5b8_11ec_a626_fa9776767f0drow3_col1\" class=\"data row3 col1\" >2739</td>\n",
       "                        <td id=\"T_6c130342_f5b8_11ec_a626_fa9776767f0drow3_col2\" class=\"data row3 col2\" >$1,763,916.00</td>\n",
       "                        <td id=\"T_6c130342_f5b8_11ec_a626_fa9776767f0drow3_col3\" class=\"data row3 col3\" >$644.00</td>\n",
       "                        <td id=\"T_6c130342_f5b8_11ec_a626_fa9776767f0drow3_col4\" class=\"data row3 col4\" >77.102592</td>\n",
       "                        <td id=\"T_6c130342_f5b8_11ec_a626_fa9776767f0drow3_col5\" class=\"data row3 col5\" >80.746258</td>\n",
       "                        <td id=\"T_6c130342_f5b8_11ec_a626_fa9776767f0drow3_col6\" class=\"data row3 col6\" >68.309602</td>\n",
       "                        <td id=\"T_6c130342_f5b8_11ec_a626_fa9776767f0drow3_col7\" class=\"data row3 col7\" >79.299014</td>\n",
       "                        <td id=\"T_6c130342_f5b8_11ec_a626_fa9776767f0drow3_col8\" class=\"data row3 col8\" >73.804308</td>\n",
       "            </tr>\n",
       "            <tr>\n",
       "                        <th id=\"T_6c130342_f5b8_11ec_a626_fa9776767f0dlevel0_row4\" class=\"row_heading level0 row4\" >Griffin High School</th>\n",
       "                        <td id=\"T_6c130342_f5b8_11ec_a626_fa9776767f0drow4_col0\" class=\"data row4 col0\" >Charter</td>\n",
       "                        <td id=\"T_6c130342_f5b8_11ec_a626_fa9776767f0drow4_col1\" class=\"data row4 col1\" >1468</td>\n",
       "                        <td id=\"T_6c130342_f5b8_11ec_a626_fa9776767f0drow4_col2\" class=\"data row4 col2\" >$917,500.00</td>\n",
       "                        <td id=\"T_6c130342_f5b8_11ec_a626_fa9776767f0drow4_col3\" class=\"data row4 col3\" >$625.00</td>\n",
       "                        <td id=\"T_6c130342_f5b8_11ec_a626_fa9776767f0drow4_col4\" class=\"data row4 col4\" >83.351499</td>\n",
       "                        <td id=\"T_6c130342_f5b8_11ec_a626_fa9776767f0drow4_col5\" class=\"data row4 col5\" >83.816757</td>\n",
       "                        <td id=\"T_6c130342_f5b8_11ec_a626_fa9776767f0drow4_col6\" class=\"data row4 col6\" >93.392371</td>\n",
       "                        <td id=\"T_6c130342_f5b8_11ec_a626_fa9776767f0drow4_col7\" class=\"data row4 col7\" >97.138965</td>\n",
       "                        <td id=\"T_6c130342_f5b8_11ec_a626_fa9776767f0drow4_col8\" class=\"data row4 col8\" >95.265668</td>\n",
       "            </tr>\n",
       "            <tr>\n",
       "                        <th id=\"T_6c130342_f5b8_11ec_a626_fa9776767f0dlevel0_row5\" class=\"row_heading level0 row5\" >Hernandez High School</th>\n",
       "                        <td id=\"T_6c130342_f5b8_11ec_a626_fa9776767f0drow5_col0\" class=\"data row5 col0\" >District</td>\n",
       "                        <td id=\"T_6c130342_f5b8_11ec_a626_fa9776767f0drow5_col1\" class=\"data row5 col1\" >4635</td>\n",
       "                        <td id=\"T_6c130342_f5b8_11ec_a626_fa9776767f0drow5_col2\" class=\"data row5 col2\" >$3,022,020.00</td>\n",
       "                        <td id=\"T_6c130342_f5b8_11ec_a626_fa9776767f0drow5_col3\" class=\"data row5 col3\" >$652.00</td>\n",
       "                        <td id=\"T_6c130342_f5b8_11ec_a626_fa9776767f0drow5_col4\" class=\"data row5 col4\" >77.289752</td>\n",
       "                        <td id=\"T_6c130342_f5b8_11ec_a626_fa9776767f0drow5_col5\" class=\"data row5 col5\" >80.934412</td>\n",
       "                        <td id=\"T_6c130342_f5b8_11ec_a626_fa9776767f0drow5_col6\" class=\"data row5 col6\" >66.752967</td>\n",
       "                        <td id=\"T_6c130342_f5b8_11ec_a626_fa9776767f0drow5_col7\" class=\"data row5 col7\" >80.862999</td>\n",
       "                        <td id=\"T_6c130342_f5b8_11ec_a626_fa9776767f0drow5_col8\" class=\"data row5 col8\" >73.807983</td>\n",
       "            </tr>\n",
       "            <tr>\n",
       "                        <th id=\"T_6c130342_f5b8_11ec_a626_fa9776767f0dlevel0_row6\" class=\"row_heading level0 row6\" >Holden High School</th>\n",
       "                        <td id=\"T_6c130342_f5b8_11ec_a626_fa9776767f0drow6_col0\" class=\"data row6 col0\" >Charter</td>\n",
       "                        <td id=\"T_6c130342_f5b8_11ec_a626_fa9776767f0drow6_col1\" class=\"data row6 col1\" >427</td>\n",
       "                        <td id=\"T_6c130342_f5b8_11ec_a626_fa9776767f0drow6_col2\" class=\"data row6 col2\" >$248,087.00</td>\n",
       "                        <td id=\"T_6c130342_f5b8_11ec_a626_fa9776767f0drow6_col3\" class=\"data row6 col3\" >$581.00</td>\n",
       "                        <td id=\"T_6c130342_f5b8_11ec_a626_fa9776767f0drow6_col4\" class=\"data row6 col4\" >83.803279</td>\n",
       "                        <td id=\"T_6c130342_f5b8_11ec_a626_fa9776767f0drow6_col5\" class=\"data row6 col5\" >83.814988</td>\n",
       "                        <td id=\"T_6c130342_f5b8_11ec_a626_fa9776767f0drow6_col6\" class=\"data row6 col6\" >92.505855</td>\n",
       "                        <td id=\"T_6c130342_f5b8_11ec_a626_fa9776767f0drow6_col7\" class=\"data row6 col7\" >96.252927</td>\n",
       "                        <td id=\"T_6c130342_f5b8_11ec_a626_fa9776767f0drow6_col8\" class=\"data row6 col8\" >94.379391</td>\n",
       "            </tr>\n",
       "            <tr>\n",
       "                        <th id=\"T_6c130342_f5b8_11ec_a626_fa9776767f0dlevel0_row7\" class=\"row_heading level0 row7\" >Huang High School</th>\n",
       "                        <td id=\"T_6c130342_f5b8_11ec_a626_fa9776767f0drow7_col0\" class=\"data row7 col0\" >District</td>\n",
       "                        <td id=\"T_6c130342_f5b8_11ec_a626_fa9776767f0drow7_col1\" class=\"data row7 col1\" >2917</td>\n",
       "                        <td id=\"T_6c130342_f5b8_11ec_a626_fa9776767f0drow7_col2\" class=\"data row7 col2\" >$1,910,635.00</td>\n",
       "                        <td id=\"T_6c130342_f5b8_11ec_a626_fa9776767f0drow7_col3\" class=\"data row7 col3\" >$655.00</td>\n",
       "                        <td id=\"T_6c130342_f5b8_11ec_a626_fa9776767f0drow7_col4\" class=\"data row7 col4\" >76.629414</td>\n",
       "                        <td id=\"T_6c130342_f5b8_11ec_a626_fa9776767f0drow7_col5\" class=\"data row7 col5\" >81.182722</td>\n",
       "                        <td id=\"T_6c130342_f5b8_11ec_a626_fa9776767f0drow7_col6\" class=\"data row7 col6\" >65.683922</td>\n",
       "                        <td id=\"T_6c130342_f5b8_11ec_a626_fa9776767f0drow7_col7\" class=\"data row7 col7\" >81.316421</td>\n",
       "                        <td id=\"T_6c130342_f5b8_11ec_a626_fa9776767f0drow7_col8\" class=\"data row7 col8\" >73.500171</td>\n",
       "            </tr>\n",
       "            <tr>\n",
       "                        <th id=\"T_6c130342_f5b8_11ec_a626_fa9776767f0dlevel0_row8\" class=\"row_heading level0 row8\" >Johnson High School</th>\n",
       "                        <td id=\"T_6c130342_f5b8_11ec_a626_fa9776767f0drow8_col0\" class=\"data row8 col0\" >District</td>\n",
       "                        <td id=\"T_6c130342_f5b8_11ec_a626_fa9776767f0drow8_col1\" class=\"data row8 col1\" >4761</td>\n",
       "                        <td id=\"T_6c130342_f5b8_11ec_a626_fa9776767f0drow8_col2\" class=\"data row8 col2\" >$3,094,650.00</td>\n",
       "                        <td id=\"T_6c130342_f5b8_11ec_a626_fa9776767f0drow8_col3\" class=\"data row8 col3\" >$650.00</td>\n",
       "                        <td id=\"T_6c130342_f5b8_11ec_a626_fa9776767f0drow8_col4\" class=\"data row8 col4\" >77.072464</td>\n",
       "                        <td id=\"T_6c130342_f5b8_11ec_a626_fa9776767f0drow8_col5\" class=\"data row8 col5\" >80.966394</td>\n",
       "                        <td id=\"T_6c130342_f5b8_11ec_a626_fa9776767f0drow8_col6\" class=\"data row8 col6\" >66.057551</td>\n",
       "                        <td id=\"T_6c130342_f5b8_11ec_a626_fa9776767f0drow8_col7\" class=\"data row8 col7\" >81.222432</td>\n",
       "                        <td id=\"T_6c130342_f5b8_11ec_a626_fa9776767f0drow8_col8\" class=\"data row8 col8\" >73.639992</td>\n",
       "            </tr>\n",
       "            <tr>\n",
       "                        <th id=\"T_6c130342_f5b8_11ec_a626_fa9776767f0dlevel0_row9\" class=\"row_heading level0 row9\" >Pena High School</th>\n",
       "                        <td id=\"T_6c130342_f5b8_11ec_a626_fa9776767f0drow9_col0\" class=\"data row9 col0\" >Charter</td>\n",
       "                        <td id=\"T_6c130342_f5b8_11ec_a626_fa9776767f0drow9_col1\" class=\"data row9 col1\" >962</td>\n",
       "                        <td id=\"T_6c130342_f5b8_11ec_a626_fa9776767f0drow9_col2\" class=\"data row9 col2\" >$585,858.00</td>\n",
       "                        <td id=\"T_6c130342_f5b8_11ec_a626_fa9776767f0drow9_col3\" class=\"data row9 col3\" >$609.00</td>\n",
       "                        <td id=\"T_6c130342_f5b8_11ec_a626_fa9776767f0drow9_col4\" class=\"data row9 col4\" >83.839917</td>\n",
       "                        <td id=\"T_6c130342_f5b8_11ec_a626_fa9776767f0drow9_col5\" class=\"data row9 col5\" >84.044699</td>\n",
       "                        <td id=\"T_6c130342_f5b8_11ec_a626_fa9776767f0drow9_col6\" class=\"data row9 col6\" >94.594595</td>\n",
       "                        <td id=\"T_6c130342_f5b8_11ec_a626_fa9776767f0drow9_col7\" class=\"data row9 col7\" >95.945946</td>\n",
       "                        <td id=\"T_6c130342_f5b8_11ec_a626_fa9776767f0drow9_col8\" class=\"data row9 col8\" >95.270270</td>\n",
       "            </tr>\n",
       "            <tr>\n",
       "                        <th id=\"T_6c130342_f5b8_11ec_a626_fa9776767f0dlevel0_row10\" class=\"row_heading level0 row10\" >Rodriguez High School</th>\n",
       "                        <td id=\"T_6c130342_f5b8_11ec_a626_fa9776767f0drow10_col0\" class=\"data row10 col0\" >District</td>\n",
       "                        <td id=\"T_6c130342_f5b8_11ec_a626_fa9776767f0drow10_col1\" class=\"data row10 col1\" >3999</td>\n",
       "                        <td id=\"T_6c130342_f5b8_11ec_a626_fa9776767f0drow10_col2\" class=\"data row10 col2\" >$2,547,363.00</td>\n",
       "                        <td id=\"T_6c130342_f5b8_11ec_a626_fa9776767f0drow10_col3\" class=\"data row10 col3\" >$637.00</td>\n",
       "                        <td id=\"T_6c130342_f5b8_11ec_a626_fa9776767f0drow10_col4\" class=\"data row10 col4\" >76.842711</td>\n",
       "                        <td id=\"T_6c130342_f5b8_11ec_a626_fa9776767f0drow10_col5\" class=\"data row10 col5\" >80.744686</td>\n",
       "                        <td id=\"T_6c130342_f5b8_11ec_a626_fa9776767f0drow10_col6\" class=\"data row10 col6\" >66.366592</td>\n",
       "                        <td id=\"T_6c130342_f5b8_11ec_a626_fa9776767f0drow10_col7\" class=\"data row10 col7\" >80.220055</td>\n",
       "                        <td id=\"T_6c130342_f5b8_11ec_a626_fa9776767f0drow10_col8\" class=\"data row10 col8\" >73.293323</td>\n",
       "            </tr>\n",
       "            <tr>\n",
       "                        <th id=\"T_6c130342_f5b8_11ec_a626_fa9776767f0dlevel0_row11\" class=\"row_heading level0 row11\" >Shelton High School</th>\n",
       "                        <td id=\"T_6c130342_f5b8_11ec_a626_fa9776767f0drow11_col0\" class=\"data row11 col0\" >Charter</td>\n",
       "                        <td id=\"T_6c130342_f5b8_11ec_a626_fa9776767f0drow11_col1\" class=\"data row11 col1\" >1761</td>\n",
       "                        <td id=\"T_6c130342_f5b8_11ec_a626_fa9776767f0drow11_col2\" class=\"data row11 col2\" >$1,056,600.00</td>\n",
       "                        <td id=\"T_6c130342_f5b8_11ec_a626_fa9776767f0drow11_col3\" class=\"data row11 col3\" >$600.00</td>\n",
       "                        <td id=\"T_6c130342_f5b8_11ec_a626_fa9776767f0drow11_col4\" class=\"data row11 col4\" >83.359455</td>\n",
       "                        <td id=\"T_6c130342_f5b8_11ec_a626_fa9776767f0drow11_col5\" class=\"data row11 col5\" >83.725724</td>\n",
       "                        <td id=\"T_6c130342_f5b8_11ec_a626_fa9776767f0drow11_col6\" class=\"data row11 col6\" >93.867121</td>\n",
       "                        <td id=\"T_6c130342_f5b8_11ec_a626_fa9776767f0drow11_col7\" class=\"data row11 col7\" >95.854628</td>\n",
       "                        <td id=\"T_6c130342_f5b8_11ec_a626_fa9776767f0drow11_col8\" class=\"data row11 col8\" >94.860875</td>\n",
       "            </tr>\n",
       "            <tr>\n",
       "                        <th id=\"T_6c130342_f5b8_11ec_a626_fa9776767f0dlevel0_row12\" class=\"row_heading level0 row12\" >Thomas High School</th>\n",
       "                        <td id=\"T_6c130342_f5b8_11ec_a626_fa9776767f0drow12_col0\" class=\"data row12 col0\" >Charter</td>\n",
       "                        <td id=\"T_6c130342_f5b8_11ec_a626_fa9776767f0drow12_col1\" class=\"data row12 col1\" >1635</td>\n",
       "                        <td id=\"T_6c130342_f5b8_11ec_a626_fa9776767f0drow12_col2\" class=\"data row12 col2\" >$1,043,130.00</td>\n",
       "                        <td id=\"T_6c130342_f5b8_11ec_a626_fa9776767f0drow12_col3\" class=\"data row12 col3\" >$638.00</td>\n",
       "                        <td id=\"T_6c130342_f5b8_11ec_a626_fa9776767f0drow12_col4\" class=\"data row12 col4\" >83.418349</td>\n",
       "                        <td id=\"T_6c130342_f5b8_11ec_a626_fa9776767f0drow12_col5\" class=\"data row12 col5\" >83.848930</td>\n",
       "                        <td id=\"T_6c130342_f5b8_11ec_a626_fa9776767f0drow12_col6\" class=\"data row12 col6\" >93.272171</td>\n",
       "                        <td id=\"T_6c130342_f5b8_11ec_a626_fa9776767f0drow12_col7\" class=\"data row12 col7\" >97.308869</td>\n",
       "                        <td id=\"T_6c130342_f5b8_11ec_a626_fa9776767f0drow12_col8\" class=\"data row12 col8\" >95.290520</td>\n",
       "            </tr>\n",
       "            <tr>\n",
       "                        <th id=\"T_6c130342_f5b8_11ec_a626_fa9776767f0dlevel0_row13\" class=\"row_heading level0 row13\" >Wilson High School</th>\n",
       "                        <td id=\"T_6c130342_f5b8_11ec_a626_fa9776767f0drow13_col0\" class=\"data row13 col0\" >Charter</td>\n",
       "                        <td id=\"T_6c130342_f5b8_11ec_a626_fa9776767f0drow13_col1\" class=\"data row13 col1\" >2283</td>\n",
       "                        <td id=\"T_6c130342_f5b8_11ec_a626_fa9776767f0drow13_col2\" class=\"data row13 col2\" >$1,319,574.00</td>\n",
       "                        <td id=\"T_6c130342_f5b8_11ec_a626_fa9776767f0drow13_col3\" class=\"data row13 col3\" >$578.00</td>\n",
       "                        <td id=\"T_6c130342_f5b8_11ec_a626_fa9776767f0drow13_col4\" class=\"data row13 col4\" >83.274201</td>\n",
       "                        <td id=\"T_6c130342_f5b8_11ec_a626_fa9776767f0drow13_col5\" class=\"data row13 col5\" >83.989488</td>\n",
       "                        <td id=\"T_6c130342_f5b8_11ec_a626_fa9776767f0drow13_col6\" class=\"data row13 col6\" >93.867718</td>\n",
       "                        <td id=\"T_6c130342_f5b8_11ec_a626_fa9776767f0drow13_col7\" class=\"data row13 col7\" >96.539641</td>\n",
       "                        <td id=\"T_6c130342_f5b8_11ec_a626_fa9776767f0drow13_col8\" class=\"data row13 col8\" >95.203679</td>\n",
       "            </tr>\n",
       "            <tr>\n",
       "                        <th id=\"T_6c130342_f5b8_11ec_a626_fa9776767f0dlevel0_row14\" class=\"row_heading level0 row14\" >Wright High School</th>\n",
       "                        <td id=\"T_6c130342_f5b8_11ec_a626_fa9776767f0drow14_col0\" class=\"data row14 col0\" >Charter</td>\n",
       "                        <td id=\"T_6c130342_f5b8_11ec_a626_fa9776767f0drow14_col1\" class=\"data row14 col1\" >1800</td>\n",
       "                        <td id=\"T_6c130342_f5b8_11ec_a626_fa9776767f0drow14_col2\" class=\"data row14 col2\" >$1,049,400.00</td>\n",
       "                        <td id=\"T_6c130342_f5b8_11ec_a626_fa9776767f0drow14_col3\" class=\"data row14 col3\" >$583.00</td>\n",
       "                        <td id=\"T_6c130342_f5b8_11ec_a626_fa9776767f0drow14_col4\" class=\"data row14 col4\" >83.682222</td>\n",
       "                        <td id=\"T_6c130342_f5b8_11ec_a626_fa9776767f0drow14_col5\" class=\"data row14 col5\" >83.955000</td>\n",
       "                        <td id=\"T_6c130342_f5b8_11ec_a626_fa9776767f0drow14_col6\" class=\"data row14 col6\" >93.333333</td>\n",
       "                        <td id=\"T_6c130342_f5b8_11ec_a626_fa9776767f0drow14_col7\" class=\"data row14 col7\" >96.611111</td>\n",
       "                        <td id=\"T_6c130342_f5b8_11ec_a626_fa9776767f0drow14_col8\" class=\"data row14 col8\" >94.972222</td>\n",
       "            </tr>\n",
       "    </tbody></table>"
      ],
      "text/plain": [
       "<pandas.io.formats.style.Styler at 0x1c239f22288>"
      ]
     },
     "execution_count": 221,
     "metadata": {},
     "output_type": "execute_result"
    }
   ],
   "source": [
    "School_Summary_df.style.set_table_styles([{'selector': 'td', 'props': [('text-align', 'center')]},\n",
    "                           {'selector': '.col_heading', 'props': [('text-align', 'center')]},\n",
    "                           {'selector': '.row_heading', 'props': [('text-align', 'left')]}])"
   ]
  },
  {
   "cell_type": "code",
   "execution_count": 222,
   "id": "60e4f6de",
   "metadata": {},
   "outputs": [],
   "source": [
    "#Top five Performing Schools (By % Overall Passing)\n",
    "School_Summary_df = School_Summary_df.sort_values([\"% Overall Passing\"], ascending=False)"
   ]
  },
  {
   "cell_type": "code",
   "execution_count": 223,
   "id": "d0294426",
   "metadata": {},
   "outputs": [
    {
     "data": {
      "text/html": [
       "<style  type=\"text/css\" >\n",
       "    #T_6c7c3e8c_f5b8_11ec_85b7_fa9776767f0d td {\n",
       "          text-align: center;\n",
       "    }    #T_6c7c3e8c_f5b8_11ec_85b7_fa9776767f0d .col_heading {\n",
       "          text-align: center;\n",
       "    }    #T_6c7c3e8c_f5b8_11ec_85b7_fa9776767f0d .row_heading {\n",
       "          text-align: left;\n",
       "    }</style><table id=\"T_6c7c3e8c_f5b8_11ec_85b7_fa9776767f0d\" ><thead>    <tr>        <th class=\"blank level0\" ></th>        <th class=\"col_heading level0 col0\" >School Type</th>        <th class=\"col_heading level0 col1\" >Total Students</th>        <th class=\"col_heading level0 col2\" >Total School Budget</th>        <th class=\"col_heading level0 col3\" >Per Student Budget</th>        <th class=\"col_heading level0 col4\" >Average Math Score</th>        <th class=\"col_heading level0 col5\" >Average Reading Score</th>        <th class=\"col_heading level0 col6\" >% Passing Math</th>        <th class=\"col_heading level0 col7\" >% Passing Reading</th>        <th class=\"col_heading level0 col8\" >% Overall Passing</th>    </tr>    <tr>        <th class=\"index_name level0\" >school_name</th>        <th class=\"blank\" ></th>        <th class=\"blank\" ></th>        <th class=\"blank\" ></th>        <th class=\"blank\" ></th>        <th class=\"blank\" ></th>        <th class=\"blank\" ></th>        <th class=\"blank\" ></th>        <th class=\"blank\" ></th>        <th class=\"blank\" ></th>    </tr></thead><tbody>\n",
       "                <tr>\n",
       "                        <th id=\"T_6c7c3e8c_f5b8_11ec_85b7_fa9776767f0dlevel0_row0\" class=\"row_heading level0 row0\" >Cabrera High School</th>\n",
       "                        <td id=\"T_6c7c3e8c_f5b8_11ec_85b7_fa9776767f0drow0_col0\" class=\"data row0 col0\" >Charter</td>\n",
       "                        <td id=\"T_6c7c3e8c_f5b8_11ec_85b7_fa9776767f0drow0_col1\" class=\"data row0 col1\" >1858</td>\n",
       "                        <td id=\"T_6c7c3e8c_f5b8_11ec_85b7_fa9776767f0drow0_col2\" class=\"data row0 col2\" >$1,081,356.00</td>\n",
       "                        <td id=\"T_6c7c3e8c_f5b8_11ec_85b7_fa9776767f0drow0_col3\" class=\"data row0 col3\" >$582.00</td>\n",
       "                        <td id=\"T_6c7c3e8c_f5b8_11ec_85b7_fa9776767f0drow0_col4\" class=\"data row0 col4\" >83.061895</td>\n",
       "                        <td id=\"T_6c7c3e8c_f5b8_11ec_85b7_fa9776767f0drow0_col5\" class=\"data row0 col5\" >83.975780</td>\n",
       "                        <td id=\"T_6c7c3e8c_f5b8_11ec_85b7_fa9776767f0drow0_col6\" class=\"data row0 col6\" >94.133477</td>\n",
       "                        <td id=\"T_6c7c3e8c_f5b8_11ec_85b7_fa9776767f0drow0_col7\" class=\"data row0 col7\" >97.039828</td>\n",
       "                        <td id=\"T_6c7c3e8c_f5b8_11ec_85b7_fa9776767f0drow0_col8\" class=\"data row0 col8\" >95.586652</td>\n",
       "            </tr>\n",
       "            <tr>\n",
       "                        <th id=\"T_6c7c3e8c_f5b8_11ec_85b7_fa9776767f0dlevel0_row1\" class=\"row_heading level0 row1\" >Thomas High School</th>\n",
       "                        <td id=\"T_6c7c3e8c_f5b8_11ec_85b7_fa9776767f0drow1_col0\" class=\"data row1 col0\" >Charter</td>\n",
       "                        <td id=\"T_6c7c3e8c_f5b8_11ec_85b7_fa9776767f0drow1_col1\" class=\"data row1 col1\" >1635</td>\n",
       "                        <td id=\"T_6c7c3e8c_f5b8_11ec_85b7_fa9776767f0drow1_col2\" class=\"data row1 col2\" >$1,043,130.00</td>\n",
       "                        <td id=\"T_6c7c3e8c_f5b8_11ec_85b7_fa9776767f0drow1_col3\" class=\"data row1 col3\" >$638.00</td>\n",
       "                        <td id=\"T_6c7c3e8c_f5b8_11ec_85b7_fa9776767f0drow1_col4\" class=\"data row1 col4\" >83.418349</td>\n",
       "                        <td id=\"T_6c7c3e8c_f5b8_11ec_85b7_fa9776767f0drow1_col5\" class=\"data row1 col5\" >83.848930</td>\n",
       "                        <td id=\"T_6c7c3e8c_f5b8_11ec_85b7_fa9776767f0drow1_col6\" class=\"data row1 col6\" >93.272171</td>\n",
       "                        <td id=\"T_6c7c3e8c_f5b8_11ec_85b7_fa9776767f0drow1_col7\" class=\"data row1 col7\" >97.308869</td>\n",
       "                        <td id=\"T_6c7c3e8c_f5b8_11ec_85b7_fa9776767f0drow1_col8\" class=\"data row1 col8\" >95.290520</td>\n",
       "            </tr>\n",
       "            <tr>\n",
       "                        <th id=\"T_6c7c3e8c_f5b8_11ec_85b7_fa9776767f0dlevel0_row2\" class=\"row_heading level0 row2\" >Pena High School</th>\n",
       "                        <td id=\"T_6c7c3e8c_f5b8_11ec_85b7_fa9776767f0drow2_col0\" class=\"data row2 col0\" >Charter</td>\n",
       "                        <td id=\"T_6c7c3e8c_f5b8_11ec_85b7_fa9776767f0drow2_col1\" class=\"data row2 col1\" >962</td>\n",
       "                        <td id=\"T_6c7c3e8c_f5b8_11ec_85b7_fa9776767f0drow2_col2\" class=\"data row2 col2\" >$585,858.00</td>\n",
       "                        <td id=\"T_6c7c3e8c_f5b8_11ec_85b7_fa9776767f0drow2_col3\" class=\"data row2 col3\" >$609.00</td>\n",
       "                        <td id=\"T_6c7c3e8c_f5b8_11ec_85b7_fa9776767f0drow2_col4\" class=\"data row2 col4\" >83.839917</td>\n",
       "                        <td id=\"T_6c7c3e8c_f5b8_11ec_85b7_fa9776767f0drow2_col5\" class=\"data row2 col5\" >84.044699</td>\n",
       "                        <td id=\"T_6c7c3e8c_f5b8_11ec_85b7_fa9776767f0drow2_col6\" class=\"data row2 col6\" >94.594595</td>\n",
       "                        <td id=\"T_6c7c3e8c_f5b8_11ec_85b7_fa9776767f0drow2_col7\" class=\"data row2 col7\" >95.945946</td>\n",
       "                        <td id=\"T_6c7c3e8c_f5b8_11ec_85b7_fa9776767f0drow2_col8\" class=\"data row2 col8\" >95.270270</td>\n",
       "            </tr>\n",
       "            <tr>\n",
       "                        <th id=\"T_6c7c3e8c_f5b8_11ec_85b7_fa9776767f0dlevel0_row3\" class=\"row_heading level0 row3\" >Griffin High School</th>\n",
       "                        <td id=\"T_6c7c3e8c_f5b8_11ec_85b7_fa9776767f0drow3_col0\" class=\"data row3 col0\" >Charter</td>\n",
       "                        <td id=\"T_6c7c3e8c_f5b8_11ec_85b7_fa9776767f0drow3_col1\" class=\"data row3 col1\" >1468</td>\n",
       "                        <td id=\"T_6c7c3e8c_f5b8_11ec_85b7_fa9776767f0drow3_col2\" class=\"data row3 col2\" >$917,500.00</td>\n",
       "                        <td id=\"T_6c7c3e8c_f5b8_11ec_85b7_fa9776767f0drow3_col3\" class=\"data row3 col3\" >$625.00</td>\n",
       "                        <td id=\"T_6c7c3e8c_f5b8_11ec_85b7_fa9776767f0drow3_col4\" class=\"data row3 col4\" >83.351499</td>\n",
       "                        <td id=\"T_6c7c3e8c_f5b8_11ec_85b7_fa9776767f0drow3_col5\" class=\"data row3 col5\" >83.816757</td>\n",
       "                        <td id=\"T_6c7c3e8c_f5b8_11ec_85b7_fa9776767f0drow3_col6\" class=\"data row3 col6\" >93.392371</td>\n",
       "                        <td id=\"T_6c7c3e8c_f5b8_11ec_85b7_fa9776767f0drow3_col7\" class=\"data row3 col7\" >97.138965</td>\n",
       "                        <td id=\"T_6c7c3e8c_f5b8_11ec_85b7_fa9776767f0drow3_col8\" class=\"data row3 col8\" >95.265668</td>\n",
       "            </tr>\n",
       "            <tr>\n",
       "                        <th id=\"T_6c7c3e8c_f5b8_11ec_85b7_fa9776767f0dlevel0_row4\" class=\"row_heading level0 row4\" >Wilson High School</th>\n",
       "                        <td id=\"T_6c7c3e8c_f5b8_11ec_85b7_fa9776767f0drow4_col0\" class=\"data row4 col0\" >Charter</td>\n",
       "                        <td id=\"T_6c7c3e8c_f5b8_11ec_85b7_fa9776767f0drow4_col1\" class=\"data row4 col1\" >2283</td>\n",
       "                        <td id=\"T_6c7c3e8c_f5b8_11ec_85b7_fa9776767f0drow4_col2\" class=\"data row4 col2\" >$1,319,574.00</td>\n",
       "                        <td id=\"T_6c7c3e8c_f5b8_11ec_85b7_fa9776767f0drow4_col3\" class=\"data row4 col3\" >$578.00</td>\n",
       "                        <td id=\"T_6c7c3e8c_f5b8_11ec_85b7_fa9776767f0drow4_col4\" class=\"data row4 col4\" >83.274201</td>\n",
       "                        <td id=\"T_6c7c3e8c_f5b8_11ec_85b7_fa9776767f0drow4_col5\" class=\"data row4 col5\" >83.989488</td>\n",
       "                        <td id=\"T_6c7c3e8c_f5b8_11ec_85b7_fa9776767f0drow4_col6\" class=\"data row4 col6\" >93.867718</td>\n",
       "                        <td id=\"T_6c7c3e8c_f5b8_11ec_85b7_fa9776767f0drow4_col7\" class=\"data row4 col7\" >96.539641</td>\n",
       "                        <td id=\"T_6c7c3e8c_f5b8_11ec_85b7_fa9776767f0drow4_col8\" class=\"data row4 col8\" >95.203679</td>\n",
       "            </tr>\n",
       "    </tbody></table>"
      ],
      "text/plain": [
       "<pandas.io.formats.style.Styler at 0x1c239ee0a88>"
      ]
     },
     "execution_count": 223,
     "metadata": {},
     "output_type": "execute_result"
    }
   ],
   "source": [
    "School_Summary_df[[\"School Type\",\n",
    "      \"Total Students\",\n",
    "      \"Total School Budget\",\n",
    "      \"Per Student Budget\",\n",
    "      \"Average Math Score\",\n",
    "      \"Average Reading Score\",\n",
    "      \"% Passing Math\",\n",
    "      \"% Passing Reading\",\n",
    "      \"% Overall Passing\"]]\n",
    "School_Summary_df.head().style.set_table_styles([{'selector': 'td', 'props': [('text-align', 'center')]},\n",
    "                           {'selector': '.col_heading', 'props': [('text-align', 'center')]},\n",
    "                           {'selector': '.row_heading', 'props': [('text-align', 'left')]}])"
   ]
  },
  {
   "cell_type": "code",
   "execution_count": 224,
   "id": "9a2f16b0",
   "metadata": {},
   "outputs": [],
   "source": [
    "#Bottom five Performing Schools (By % Overall Passing)\n",
    "School_Summary_df = School_Summary_df.sort_values([\"% Overall Passing\"], ascending=True)"
   ]
  },
  {
   "cell_type": "code",
   "execution_count": 225,
   "id": "7c6dedcd",
   "metadata": {},
   "outputs": [
    {
     "data": {
      "text/html": [
       "<style  type=\"text/css\" >\n",
       "    #T_6ce300b0_f5b8_11ec_8e40_fa9776767f0d td {\n",
       "          text-align: center;\n",
       "    }    #T_6ce300b0_f5b8_11ec_8e40_fa9776767f0d .col_heading {\n",
       "          text-align: center;\n",
       "    }    #T_6ce300b0_f5b8_11ec_8e40_fa9776767f0d .row_heading {\n",
       "          text-align: left;\n",
       "    }</style><table id=\"T_6ce300b0_f5b8_11ec_8e40_fa9776767f0d\" ><thead>    <tr>        <th class=\"blank level0\" ></th>        <th class=\"col_heading level0 col0\" >School Type</th>        <th class=\"col_heading level0 col1\" >Total Students</th>        <th class=\"col_heading level0 col2\" >Total School Budget</th>        <th class=\"col_heading level0 col3\" >Per Student Budget</th>        <th class=\"col_heading level0 col4\" >Average Math Score</th>        <th class=\"col_heading level0 col5\" >Average Reading Score</th>        <th class=\"col_heading level0 col6\" >% Passing Math</th>        <th class=\"col_heading level0 col7\" >% Passing Reading</th>        <th class=\"col_heading level0 col8\" >% Overall Passing</th>    </tr>    <tr>        <th class=\"index_name level0\" >school_name</th>        <th class=\"blank\" ></th>        <th class=\"blank\" ></th>        <th class=\"blank\" ></th>        <th class=\"blank\" ></th>        <th class=\"blank\" ></th>        <th class=\"blank\" ></th>        <th class=\"blank\" ></th>        <th class=\"blank\" ></th>        <th class=\"blank\" ></th>    </tr></thead><tbody>\n",
       "                <tr>\n",
       "                        <th id=\"T_6ce300b0_f5b8_11ec_8e40_fa9776767f0dlevel0_row0\" class=\"row_heading level0 row0\" >Rodriguez High School</th>\n",
       "                        <td id=\"T_6ce300b0_f5b8_11ec_8e40_fa9776767f0drow0_col0\" class=\"data row0 col0\" >District</td>\n",
       "                        <td id=\"T_6ce300b0_f5b8_11ec_8e40_fa9776767f0drow0_col1\" class=\"data row0 col1\" >3999</td>\n",
       "                        <td id=\"T_6ce300b0_f5b8_11ec_8e40_fa9776767f0drow0_col2\" class=\"data row0 col2\" >$2,547,363.00</td>\n",
       "                        <td id=\"T_6ce300b0_f5b8_11ec_8e40_fa9776767f0drow0_col3\" class=\"data row0 col3\" >$637.00</td>\n",
       "                        <td id=\"T_6ce300b0_f5b8_11ec_8e40_fa9776767f0drow0_col4\" class=\"data row0 col4\" >76.842711</td>\n",
       "                        <td id=\"T_6ce300b0_f5b8_11ec_8e40_fa9776767f0drow0_col5\" class=\"data row0 col5\" >80.744686</td>\n",
       "                        <td id=\"T_6ce300b0_f5b8_11ec_8e40_fa9776767f0drow0_col6\" class=\"data row0 col6\" >66.366592</td>\n",
       "                        <td id=\"T_6ce300b0_f5b8_11ec_8e40_fa9776767f0drow0_col7\" class=\"data row0 col7\" >80.220055</td>\n",
       "                        <td id=\"T_6ce300b0_f5b8_11ec_8e40_fa9776767f0drow0_col8\" class=\"data row0 col8\" >73.293323</td>\n",
       "            </tr>\n",
       "            <tr>\n",
       "                        <th id=\"T_6ce300b0_f5b8_11ec_8e40_fa9776767f0dlevel0_row1\" class=\"row_heading level0 row1\" >Figueroa High School</th>\n",
       "                        <td id=\"T_6ce300b0_f5b8_11ec_8e40_fa9776767f0drow1_col0\" class=\"data row1 col0\" >District</td>\n",
       "                        <td id=\"T_6ce300b0_f5b8_11ec_8e40_fa9776767f0drow1_col1\" class=\"data row1 col1\" >2949</td>\n",
       "                        <td id=\"T_6ce300b0_f5b8_11ec_8e40_fa9776767f0drow1_col2\" class=\"data row1 col2\" >$1,884,411.00</td>\n",
       "                        <td id=\"T_6ce300b0_f5b8_11ec_8e40_fa9776767f0drow1_col3\" class=\"data row1 col3\" >$639.00</td>\n",
       "                        <td id=\"T_6ce300b0_f5b8_11ec_8e40_fa9776767f0drow1_col4\" class=\"data row1 col4\" >76.711767</td>\n",
       "                        <td id=\"T_6ce300b0_f5b8_11ec_8e40_fa9776767f0drow1_col5\" class=\"data row1 col5\" >81.158020</td>\n",
       "                        <td id=\"T_6ce300b0_f5b8_11ec_8e40_fa9776767f0drow1_col6\" class=\"data row1 col6\" >65.988471</td>\n",
       "                        <td id=\"T_6ce300b0_f5b8_11ec_8e40_fa9776767f0drow1_col7\" class=\"data row1 col7\" >80.739234</td>\n",
       "                        <td id=\"T_6ce300b0_f5b8_11ec_8e40_fa9776767f0drow1_col8\" class=\"data row1 col8\" >73.363852</td>\n",
       "            </tr>\n",
       "            <tr>\n",
       "                        <th id=\"T_6ce300b0_f5b8_11ec_8e40_fa9776767f0dlevel0_row2\" class=\"row_heading level0 row2\" >Huang High School</th>\n",
       "                        <td id=\"T_6ce300b0_f5b8_11ec_8e40_fa9776767f0drow2_col0\" class=\"data row2 col0\" >District</td>\n",
       "                        <td id=\"T_6ce300b0_f5b8_11ec_8e40_fa9776767f0drow2_col1\" class=\"data row2 col1\" >2917</td>\n",
       "                        <td id=\"T_6ce300b0_f5b8_11ec_8e40_fa9776767f0drow2_col2\" class=\"data row2 col2\" >$1,910,635.00</td>\n",
       "                        <td id=\"T_6ce300b0_f5b8_11ec_8e40_fa9776767f0drow2_col3\" class=\"data row2 col3\" >$655.00</td>\n",
       "                        <td id=\"T_6ce300b0_f5b8_11ec_8e40_fa9776767f0drow2_col4\" class=\"data row2 col4\" >76.629414</td>\n",
       "                        <td id=\"T_6ce300b0_f5b8_11ec_8e40_fa9776767f0drow2_col5\" class=\"data row2 col5\" >81.182722</td>\n",
       "                        <td id=\"T_6ce300b0_f5b8_11ec_8e40_fa9776767f0drow2_col6\" class=\"data row2 col6\" >65.683922</td>\n",
       "                        <td id=\"T_6ce300b0_f5b8_11ec_8e40_fa9776767f0drow2_col7\" class=\"data row2 col7\" >81.316421</td>\n",
       "                        <td id=\"T_6ce300b0_f5b8_11ec_8e40_fa9776767f0drow2_col8\" class=\"data row2 col8\" >73.500171</td>\n",
       "            </tr>\n",
       "            <tr>\n",
       "                        <th id=\"T_6ce300b0_f5b8_11ec_8e40_fa9776767f0dlevel0_row3\" class=\"row_heading level0 row3\" >Johnson High School</th>\n",
       "                        <td id=\"T_6ce300b0_f5b8_11ec_8e40_fa9776767f0drow3_col0\" class=\"data row3 col0\" >District</td>\n",
       "                        <td id=\"T_6ce300b0_f5b8_11ec_8e40_fa9776767f0drow3_col1\" class=\"data row3 col1\" >4761</td>\n",
       "                        <td id=\"T_6ce300b0_f5b8_11ec_8e40_fa9776767f0drow3_col2\" class=\"data row3 col2\" >$3,094,650.00</td>\n",
       "                        <td id=\"T_6ce300b0_f5b8_11ec_8e40_fa9776767f0drow3_col3\" class=\"data row3 col3\" >$650.00</td>\n",
       "                        <td id=\"T_6ce300b0_f5b8_11ec_8e40_fa9776767f0drow3_col4\" class=\"data row3 col4\" >77.072464</td>\n",
       "                        <td id=\"T_6ce300b0_f5b8_11ec_8e40_fa9776767f0drow3_col5\" class=\"data row3 col5\" >80.966394</td>\n",
       "                        <td id=\"T_6ce300b0_f5b8_11ec_8e40_fa9776767f0drow3_col6\" class=\"data row3 col6\" >66.057551</td>\n",
       "                        <td id=\"T_6ce300b0_f5b8_11ec_8e40_fa9776767f0drow3_col7\" class=\"data row3 col7\" >81.222432</td>\n",
       "                        <td id=\"T_6ce300b0_f5b8_11ec_8e40_fa9776767f0drow3_col8\" class=\"data row3 col8\" >73.639992</td>\n",
       "            </tr>\n",
       "            <tr>\n",
       "                        <th id=\"T_6ce300b0_f5b8_11ec_8e40_fa9776767f0dlevel0_row4\" class=\"row_heading level0 row4\" >Ford High School</th>\n",
       "                        <td id=\"T_6ce300b0_f5b8_11ec_8e40_fa9776767f0drow4_col0\" class=\"data row4 col0\" >District</td>\n",
       "                        <td id=\"T_6ce300b0_f5b8_11ec_8e40_fa9776767f0drow4_col1\" class=\"data row4 col1\" >2739</td>\n",
       "                        <td id=\"T_6ce300b0_f5b8_11ec_8e40_fa9776767f0drow4_col2\" class=\"data row4 col2\" >$1,763,916.00</td>\n",
       "                        <td id=\"T_6ce300b0_f5b8_11ec_8e40_fa9776767f0drow4_col3\" class=\"data row4 col3\" >$644.00</td>\n",
       "                        <td id=\"T_6ce300b0_f5b8_11ec_8e40_fa9776767f0drow4_col4\" class=\"data row4 col4\" >77.102592</td>\n",
       "                        <td id=\"T_6ce300b0_f5b8_11ec_8e40_fa9776767f0drow4_col5\" class=\"data row4 col5\" >80.746258</td>\n",
       "                        <td id=\"T_6ce300b0_f5b8_11ec_8e40_fa9776767f0drow4_col6\" class=\"data row4 col6\" >68.309602</td>\n",
       "                        <td id=\"T_6ce300b0_f5b8_11ec_8e40_fa9776767f0drow4_col7\" class=\"data row4 col7\" >79.299014</td>\n",
       "                        <td id=\"T_6ce300b0_f5b8_11ec_8e40_fa9776767f0drow4_col8\" class=\"data row4 col8\" >73.804308</td>\n",
       "            </tr>\n",
       "    </tbody></table>"
      ],
      "text/plain": [
       "<pandas.io.formats.style.Styler at 0x1c239f09c08>"
      ]
     },
     "execution_count": 225,
     "metadata": {},
     "output_type": "execute_result"
    }
   ],
   "source": [
    "School_Summary_df[[\"School Type\",\n",
    "      \"Total Students\",\n",
    "      \"Total School Budget\",\n",
    "      \"Per Student Budget\",\n",
    "      \"Average Math Score\",\n",
    "      \"Average Reading Score\",\n",
    "      \"% Passing Math\",\n",
    "      \"% Passing Reading\",\n",
    "      \"% Overall Passing\"]]\n",
    "School_Summary_df.head().style.set_table_styles([{'selector': 'td', 'props': [('text-align', 'center')]},\n",
    "                           {'selector': '.col_heading', 'props': [('text-align', 'center')]},\n",
    "                           {'selector': '.row_heading', 'props': [('text-align', 'left')]}])"
   ]
  },
  {
   "cell_type": "code",
   "execution_count": 226,
   "id": "5b4945bf",
   "metadata": {},
   "outputs": [],
   "source": [
    "#Math Scores by Grade"
   ]
  },
  {
   "cell_type": "code",
   "execution_count": 227,
   "id": "dfd57e65",
   "metadata": {},
   "outputs": [
    {
     "data": {
      "text/plain": [
       "school_name\n",
       "Bailey High School       77.083676\n",
       "Cabrera High School      83.094697\n",
       "Figueroa High School     76.403037\n",
       "Ford High School         77.361345\n",
       "Griffin High School      82.044010\n",
       "Hernandez High School    77.438495\n",
       "Holden High School       83.787402\n",
       "Huang High School        77.027251\n",
       "Johnson High School      77.187857\n",
       "Pena High School         83.625455\n",
       "Rodriguez High School    76.859966\n",
       "Shelton High School      83.420755\n",
       "Thomas High School       83.590022\n",
       "Wilson High School       83.085578\n",
       "Wright High School       83.264706\n",
       "Name: math_score, dtype: float64"
      ]
     },
     "execution_count": 227,
     "metadata": {},
     "output_type": "execute_result"
    }
   ],
   "source": [
    "math_grade_9th = school_data_complete.loc[school_data_complete[\"grade\"] == \"9th\"].groupby([\"school_name\"])[\"math_score\"].mean()\n",
    "math_grade_9th"
   ]
  },
  {
   "cell_type": "code",
   "execution_count": 228,
   "id": "56775407",
   "metadata": {},
   "outputs": [
    {
     "data": {
      "text/plain": [
       "school_name\n",
       "Bailey High School       76.996772\n",
       "Cabrera High School      83.154506\n",
       "Figueroa High School     76.539974\n",
       "Ford High School         77.672316\n",
       "Griffin High School      84.229064\n",
       "Hernandez High School    77.337408\n",
       "Holden High School       83.429825\n",
       "Huang High School        75.908735\n",
       "Johnson High School      76.691117\n",
       "Pena High School         83.372000\n",
       "Rodriguez High School    76.612500\n",
       "Shelton High School      82.917411\n",
       "Thomas High School       83.087886\n",
       "Wilson High School       83.724422\n",
       "Wright High School       84.010288\n",
       "Name: math_score, dtype: float64"
      ]
     },
     "execution_count": 228,
     "metadata": {},
     "output_type": "execute_result"
    }
   ],
   "source": [
    "math_grade_10th = school_data_complete.loc[school_data_complete[\"grade\"] == \"10th\"].groupby([\"school_name\"])[\"math_score\"].mean()\n",
    "math_grade_10th"
   ]
  },
  {
   "cell_type": "code",
   "execution_count": 229,
   "id": "dcef4054",
   "metadata": {},
   "outputs": [
    {
     "data": {
      "text/plain": [
       "school_name\n",
       "Bailey High School       77.515588\n",
       "Cabrera High School      82.765560\n",
       "Figueroa High School     76.884344\n",
       "Ford High School         76.918058\n",
       "Griffin High School      83.842105\n",
       "Hernandez High School    77.136029\n",
       "Holden High School       85.000000\n",
       "Huang High School        76.446602\n",
       "Johnson High School      77.491653\n",
       "Pena High School         84.328125\n",
       "Rodriguez High School    76.395626\n",
       "Shelton High School      83.383495\n",
       "Thomas High School       83.498795\n",
       "Wilson High School       83.195326\n",
       "Wright High School       83.836782\n",
       "Name: math_score, dtype: float64"
      ]
     },
     "execution_count": 229,
     "metadata": {},
     "output_type": "execute_result"
    }
   ],
   "source": [
    "math_grade_11th = school_data_complete.loc[school_data_complete[\"grade\"] == \"11th\"].groupby([\"school_name\"])[\"math_score\"].mean()\n",
    "math_grade_11th"
   ]
  },
  {
   "cell_type": "code",
   "execution_count": 230,
   "id": "7ef14165",
   "metadata": {},
   "outputs": [
    {
     "data": {
      "text/plain": [
       "school_name\n",
       "Bailey High School       76.492218\n",
       "Cabrera High School      83.277487\n",
       "Figueroa High School     77.151369\n",
       "Ford High School         76.179963\n",
       "Griffin High School      83.356164\n",
       "Hernandez High School    77.186567\n",
       "Holden High School       82.855422\n",
       "Huang High School        77.225641\n",
       "Johnson High School      76.863248\n",
       "Pena High School         84.121547\n",
       "Rodriguez High School    77.690748\n",
       "Shelton High School      83.778976\n",
       "Thomas High School       83.497041\n",
       "Wilson High School       83.035794\n",
       "Wright High School       83.644986\n",
       "Name: math_score, dtype: float64"
      ]
     },
     "execution_count": 230,
     "metadata": {},
     "output_type": "execute_result"
    }
   ],
   "source": [
    "math_grade_12th = school_data_complete.loc[school_data_complete[\"grade\"] == \"12th\"].groupby([\"school_name\"])[\"math_score\"].mean()\n",
    "math_grade_12th"
   ]
  },
  {
   "cell_type": "code",
   "execution_count": 231,
   "id": "479ed2e6",
   "metadata": {},
   "outputs": [
    {
     "data": {
      "text/html": [
       "<style  type=\"text/css\" >\n",
       "    #T_6e5365a8_f5b8_11ec_ad36_fa9776767f0d td {\n",
       "          text-align: center;\n",
       "    }    #T_6e5365a8_f5b8_11ec_ad36_fa9776767f0d .col_heading {\n",
       "          text-align: center;\n",
       "    }    #T_6e5365a8_f5b8_11ec_ad36_fa9776767f0d .row_heading {\n",
       "          text-align: left;\n",
       "    }</style><table id=\"T_6e5365a8_f5b8_11ec_ad36_fa9776767f0d\" ><thead>    <tr>        <th class=\"blank level0\" ></th>        <th class=\"col_heading level0 col0\" >9th</th>        <th class=\"col_heading level0 col1\" >10th</th>        <th class=\"col_heading level0 col2\" >11th</th>        <th class=\"col_heading level0 col3\" >12th</th>    </tr>    <tr>        <th class=\"index_name level0\" >school_name</th>        <th class=\"blank\" ></th>        <th class=\"blank\" ></th>        <th class=\"blank\" ></th>        <th class=\"blank\" ></th>    </tr></thead><tbody>\n",
       "                <tr>\n",
       "                        <th id=\"T_6e5365a8_f5b8_11ec_ad36_fa9776767f0dlevel0_row0\" class=\"row_heading level0 row0\" >Bailey High School</th>\n",
       "                        <td id=\"T_6e5365a8_f5b8_11ec_ad36_fa9776767f0drow0_col0\" class=\"data row0 col0\" >77.083676</td>\n",
       "                        <td id=\"T_6e5365a8_f5b8_11ec_ad36_fa9776767f0drow0_col1\" class=\"data row0 col1\" >76.996772</td>\n",
       "                        <td id=\"T_6e5365a8_f5b8_11ec_ad36_fa9776767f0drow0_col2\" class=\"data row0 col2\" >77.515588</td>\n",
       "                        <td id=\"T_6e5365a8_f5b8_11ec_ad36_fa9776767f0drow0_col3\" class=\"data row0 col3\" >76.492218</td>\n",
       "            </tr>\n",
       "            <tr>\n",
       "                        <th id=\"T_6e5365a8_f5b8_11ec_ad36_fa9776767f0dlevel0_row1\" class=\"row_heading level0 row1\" >Cabrera High School</th>\n",
       "                        <td id=\"T_6e5365a8_f5b8_11ec_ad36_fa9776767f0drow1_col0\" class=\"data row1 col0\" >83.094697</td>\n",
       "                        <td id=\"T_6e5365a8_f5b8_11ec_ad36_fa9776767f0drow1_col1\" class=\"data row1 col1\" >83.154506</td>\n",
       "                        <td id=\"T_6e5365a8_f5b8_11ec_ad36_fa9776767f0drow1_col2\" class=\"data row1 col2\" >82.765560</td>\n",
       "                        <td id=\"T_6e5365a8_f5b8_11ec_ad36_fa9776767f0drow1_col3\" class=\"data row1 col3\" >83.277487</td>\n",
       "            </tr>\n",
       "            <tr>\n",
       "                        <th id=\"T_6e5365a8_f5b8_11ec_ad36_fa9776767f0dlevel0_row2\" class=\"row_heading level0 row2\" >Figueroa High School</th>\n",
       "                        <td id=\"T_6e5365a8_f5b8_11ec_ad36_fa9776767f0drow2_col0\" class=\"data row2 col0\" >76.403037</td>\n",
       "                        <td id=\"T_6e5365a8_f5b8_11ec_ad36_fa9776767f0drow2_col1\" class=\"data row2 col1\" >76.539974</td>\n",
       "                        <td id=\"T_6e5365a8_f5b8_11ec_ad36_fa9776767f0drow2_col2\" class=\"data row2 col2\" >76.884344</td>\n",
       "                        <td id=\"T_6e5365a8_f5b8_11ec_ad36_fa9776767f0drow2_col3\" class=\"data row2 col3\" >77.151369</td>\n",
       "            </tr>\n",
       "            <tr>\n",
       "                        <th id=\"T_6e5365a8_f5b8_11ec_ad36_fa9776767f0dlevel0_row3\" class=\"row_heading level0 row3\" >Ford High School</th>\n",
       "                        <td id=\"T_6e5365a8_f5b8_11ec_ad36_fa9776767f0drow3_col0\" class=\"data row3 col0\" >77.361345</td>\n",
       "                        <td id=\"T_6e5365a8_f5b8_11ec_ad36_fa9776767f0drow3_col1\" class=\"data row3 col1\" >77.672316</td>\n",
       "                        <td id=\"T_6e5365a8_f5b8_11ec_ad36_fa9776767f0drow3_col2\" class=\"data row3 col2\" >76.918058</td>\n",
       "                        <td id=\"T_6e5365a8_f5b8_11ec_ad36_fa9776767f0drow3_col3\" class=\"data row3 col3\" >76.179963</td>\n",
       "            </tr>\n",
       "            <tr>\n",
       "                        <th id=\"T_6e5365a8_f5b8_11ec_ad36_fa9776767f0dlevel0_row4\" class=\"row_heading level0 row4\" >Griffin High School</th>\n",
       "                        <td id=\"T_6e5365a8_f5b8_11ec_ad36_fa9776767f0drow4_col0\" class=\"data row4 col0\" >82.044010</td>\n",
       "                        <td id=\"T_6e5365a8_f5b8_11ec_ad36_fa9776767f0drow4_col1\" class=\"data row4 col1\" >84.229064</td>\n",
       "                        <td id=\"T_6e5365a8_f5b8_11ec_ad36_fa9776767f0drow4_col2\" class=\"data row4 col2\" >83.842105</td>\n",
       "                        <td id=\"T_6e5365a8_f5b8_11ec_ad36_fa9776767f0drow4_col3\" class=\"data row4 col3\" >83.356164</td>\n",
       "            </tr>\n",
       "            <tr>\n",
       "                        <th id=\"T_6e5365a8_f5b8_11ec_ad36_fa9776767f0dlevel0_row5\" class=\"row_heading level0 row5\" >Hernandez High School</th>\n",
       "                        <td id=\"T_6e5365a8_f5b8_11ec_ad36_fa9776767f0drow5_col0\" class=\"data row5 col0\" >77.438495</td>\n",
       "                        <td id=\"T_6e5365a8_f5b8_11ec_ad36_fa9776767f0drow5_col1\" class=\"data row5 col1\" >77.337408</td>\n",
       "                        <td id=\"T_6e5365a8_f5b8_11ec_ad36_fa9776767f0drow5_col2\" class=\"data row5 col2\" >77.136029</td>\n",
       "                        <td id=\"T_6e5365a8_f5b8_11ec_ad36_fa9776767f0drow5_col3\" class=\"data row5 col3\" >77.186567</td>\n",
       "            </tr>\n",
       "            <tr>\n",
       "                        <th id=\"T_6e5365a8_f5b8_11ec_ad36_fa9776767f0dlevel0_row6\" class=\"row_heading level0 row6\" >Holden High School</th>\n",
       "                        <td id=\"T_6e5365a8_f5b8_11ec_ad36_fa9776767f0drow6_col0\" class=\"data row6 col0\" >83.787402</td>\n",
       "                        <td id=\"T_6e5365a8_f5b8_11ec_ad36_fa9776767f0drow6_col1\" class=\"data row6 col1\" >83.429825</td>\n",
       "                        <td id=\"T_6e5365a8_f5b8_11ec_ad36_fa9776767f0drow6_col2\" class=\"data row6 col2\" >85.000000</td>\n",
       "                        <td id=\"T_6e5365a8_f5b8_11ec_ad36_fa9776767f0drow6_col3\" class=\"data row6 col3\" >82.855422</td>\n",
       "            </tr>\n",
       "            <tr>\n",
       "                        <th id=\"T_6e5365a8_f5b8_11ec_ad36_fa9776767f0dlevel0_row7\" class=\"row_heading level0 row7\" >Huang High School</th>\n",
       "                        <td id=\"T_6e5365a8_f5b8_11ec_ad36_fa9776767f0drow7_col0\" class=\"data row7 col0\" >77.027251</td>\n",
       "                        <td id=\"T_6e5365a8_f5b8_11ec_ad36_fa9776767f0drow7_col1\" class=\"data row7 col1\" >75.908735</td>\n",
       "                        <td id=\"T_6e5365a8_f5b8_11ec_ad36_fa9776767f0drow7_col2\" class=\"data row7 col2\" >76.446602</td>\n",
       "                        <td id=\"T_6e5365a8_f5b8_11ec_ad36_fa9776767f0drow7_col3\" class=\"data row7 col3\" >77.225641</td>\n",
       "            </tr>\n",
       "            <tr>\n",
       "                        <th id=\"T_6e5365a8_f5b8_11ec_ad36_fa9776767f0dlevel0_row8\" class=\"row_heading level0 row8\" >Johnson High School</th>\n",
       "                        <td id=\"T_6e5365a8_f5b8_11ec_ad36_fa9776767f0drow8_col0\" class=\"data row8 col0\" >77.187857</td>\n",
       "                        <td id=\"T_6e5365a8_f5b8_11ec_ad36_fa9776767f0drow8_col1\" class=\"data row8 col1\" >76.691117</td>\n",
       "                        <td id=\"T_6e5365a8_f5b8_11ec_ad36_fa9776767f0drow8_col2\" class=\"data row8 col2\" >77.491653</td>\n",
       "                        <td id=\"T_6e5365a8_f5b8_11ec_ad36_fa9776767f0drow8_col3\" class=\"data row8 col3\" >76.863248</td>\n",
       "            </tr>\n",
       "            <tr>\n",
       "                        <th id=\"T_6e5365a8_f5b8_11ec_ad36_fa9776767f0dlevel0_row9\" class=\"row_heading level0 row9\" >Pena High School</th>\n",
       "                        <td id=\"T_6e5365a8_f5b8_11ec_ad36_fa9776767f0drow9_col0\" class=\"data row9 col0\" >83.625455</td>\n",
       "                        <td id=\"T_6e5365a8_f5b8_11ec_ad36_fa9776767f0drow9_col1\" class=\"data row9 col1\" >83.372000</td>\n",
       "                        <td id=\"T_6e5365a8_f5b8_11ec_ad36_fa9776767f0drow9_col2\" class=\"data row9 col2\" >84.328125</td>\n",
       "                        <td id=\"T_6e5365a8_f5b8_11ec_ad36_fa9776767f0drow9_col3\" class=\"data row9 col3\" >84.121547</td>\n",
       "            </tr>\n",
       "            <tr>\n",
       "                        <th id=\"T_6e5365a8_f5b8_11ec_ad36_fa9776767f0dlevel0_row10\" class=\"row_heading level0 row10\" >Rodriguez High School</th>\n",
       "                        <td id=\"T_6e5365a8_f5b8_11ec_ad36_fa9776767f0drow10_col0\" class=\"data row10 col0\" >76.859966</td>\n",
       "                        <td id=\"T_6e5365a8_f5b8_11ec_ad36_fa9776767f0drow10_col1\" class=\"data row10 col1\" >76.612500</td>\n",
       "                        <td id=\"T_6e5365a8_f5b8_11ec_ad36_fa9776767f0drow10_col2\" class=\"data row10 col2\" >76.395626</td>\n",
       "                        <td id=\"T_6e5365a8_f5b8_11ec_ad36_fa9776767f0drow10_col3\" class=\"data row10 col3\" >77.690748</td>\n",
       "            </tr>\n",
       "            <tr>\n",
       "                        <th id=\"T_6e5365a8_f5b8_11ec_ad36_fa9776767f0dlevel0_row11\" class=\"row_heading level0 row11\" >Shelton High School</th>\n",
       "                        <td id=\"T_6e5365a8_f5b8_11ec_ad36_fa9776767f0drow11_col0\" class=\"data row11 col0\" >83.420755</td>\n",
       "                        <td id=\"T_6e5365a8_f5b8_11ec_ad36_fa9776767f0drow11_col1\" class=\"data row11 col1\" >82.917411</td>\n",
       "                        <td id=\"T_6e5365a8_f5b8_11ec_ad36_fa9776767f0drow11_col2\" class=\"data row11 col2\" >83.383495</td>\n",
       "                        <td id=\"T_6e5365a8_f5b8_11ec_ad36_fa9776767f0drow11_col3\" class=\"data row11 col3\" >83.778976</td>\n",
       "            </tr>\n",
       "            <tr>\n",
       "                        <th id=\"T_6e5365a8_f5b8_11ec_ad36_fa9776767f0dlevel0_row12\" class=\"row_heading level0 row12\" >Thomas High School</th>\n",
       "                        <td id=\"T_6e5365a8_f5b8_11ec_ad36_fa9776767f0drow12_col0\" class=\"data row12 col0\" >83.590022</td>\n",
       "                        <td id=\"T_6e5365a8_f5b8_11ec_ad36_fa9776767f0drow12_col1\" class=\"data row12 col1\" >83.087886</td>\n",
       "                        <td id=\"T_6e5365a8_f5b8_11ec_ad36_fa9776767f0drow12_col2\" class=\"data row12 col2\" >83.498795</td>\n",
       "                        <td id=\"T_6e5365a8_f5b8_11ec_ad36_fa9776767f0drow12_col3\" class=\"data row12 col3\" >83.497041</td>\n",
       "            </tr>\n",
       "            <tr>\n",
       "                        <th id=\"T_6e5365a8_f5b8_11ec_ad36_fa9776767f0dlevel0_row13\" class=\"row_heading level0 row13\" >Wilson High School</th>\n",
       "                        <td id=\"T_6e5365a8_f5b8_11ec_ad36_fa9776767f0drow13_col0\" class=\"data row13 col0\" >83.085578</td>\n",
       "                        <td id=\"T_6e5365a8_f5b8_11ec_ad36_fa9776767f0drow13_col1\" class=\"data row13 col1\" >83.724422</td>\n",
       "                        <td id=\"T_6e5365a8_f5b8_11ec_ad36_fa9776767f0drow13_col2\" class=\"data row13 col2\" >83.195326</td>\n",
       "                        <td id=\"T_6e5365a8_f5b8_11ec_ad36_fa9776767f0drow13_col3\" class=\"data row13 col3\" >83.035794</td>\n",
       "            </tr>\n",
       "            <tr>\n",
       "                        <th id=\"T_6e5365a8_f5b8_11ec_ad36_fa9776767f0dlevel0_row14\" class=\"row_heading level0 row14\" >Wright High School</th>\n",
       "                        <td id=\"T_6e5365a8_f5b8_11ec_ad36_fa9776767f0drow14_col0\" class=\"data row14 col0\" >83.264706</td>\n",
       "                        <td id=\"T_6e5365a8_f5b8_11ec_ad36_fa9776767f0drow14_col1\" class=\"data row14 col1\" >84.010288</td>\n",
       "                        <td id=\"T_6e5365a8_f5b8_11ec_ad36_fa9776767f0drow14_col2\" class=\"data row14 col2\" >83.836782</td>\n",
       "                        <td id=\"T_6e5365a8_f5b8_11ec_ad36_fa9776767f0drow14_col3\" class=\"data row14 col3\" >83.644986</td>\n",
       "            </tr>\n",
       "    </tbody></table>"
      ],
      "text/plain": [
       "<pandas.io.formats.style.Styler at 0x1c239f33188>"
      ]
     },
     "execution_count": 231,
     "metadata": {},
     "output_type": "execute_result"
    }
   ],
   "source": [
    "Math_Score_by_Grade_df = pd.DataFrame({\"9th\": math_grade_9th,\n",
    "      \"10th\": math_grade_10th,\n",
    "      \"11th\": math_grade_11th,\n",
    "      \"12th\": math_grade_12th})\n",
    "\n",
    "Math_Score_by_Grade_df[[\"9th\", \"10th\", \"11th\", \"12th\"]].style.set_table_styles([{'selector': 'td', 'props': [('text-align', 'center')]},\n",
    "                           {'selector': '.col_heading', 'props': [('text-align', 'center')]},\n",
    "                           {'selector': '.row_heading', 'props': [('text-align', 'left')]}])"
   ]
  },
  {
   "cell_type": "code",
   "execution_count": 232,
   "id": "c4ab79dc",
   "metadata": {},
   "outputs": [],
   "source": [
    "#Reading Score by Grade"
   ]
  },
  {
   "cell_type": "code",
   "execution_count": 233,
   "id": "04f92490",
   "metadata": {},
   "outputs": [],
   "source": [
    "reading_grade_9th = school_data_complete.loc[school_data_complete[\"grade\"] == \"9th\"].groupby([\"school_name\"])[\"reading_score\"].mean()"
   ]
  },
  {
   "cell_type": "code",
   "execution_count": 234,
   "id": "0f694ca2",
   "metadata": {},
   "outputs": [],
   "source": [
    "reading_grade_10th = school_data_complete.loc[school_data_complete[\"grade\"] == \"10th\"].groupby([\"school_name\"])[\"reading_score\"].mean()"
   ]
  },
  {
   "cell_type": "code",
   "execution_count": 235,
   "id": "d7b1c3d6",
   "metadata": {},
   "outputs": [],
   "source": [
    "reading_grade_11th = school_data_complete.loc[school_data_complete[\"grade\"] == \"11th\"].groupby([\"school_name\"])[\"reading_score\"].mean()"
   ]
  },
  {
   "cell_type": "code",
   "execution_count": 236,
   "id": "7a15bbc4",
   "metadata": {},
   "outputs": [],
   "source": [
    "reading_grade_12th = school_data_complete.loc[school_data_complete[\"grade\"] == \"12th\"].groupby([\"school_name\"])[\"reading_score\"].mean()"
   ]
  },
  {
   "cell_type": "code",
   "execution_count": 237,
   "id": "291a3cbd",
   "metadata": {},
   "outputs": [
    {
     "data": {
      "text/html": [
       "<style  type=\"text/css\" >\n",
       "    #T_71d2d2c2_f5b8_11ec_827f_fa9776767f0d td {\n",
       "          text-align: center;\n",
       "    }    #T_71d2d2c2_f5b8_11ec_827f_fa9776767f0d .col_heading {\n",
       "          text-align: center;\n",
       "    }    #T_71d2d2c2_f5b8_11ec_827f_fa9776767f0d .row_heading {\n",
       "          text-align: left;\n",
       "    }</style><table id=\"T_71d2d2c2_f5b8_11ec_827f_fa9776767f0d\" ><thead>    <tr>        <th class=\"blank level0\" ></th>        <th class=\"col_heading level0 col0\" >9th</th>        <th class=\"col_heading level0 col1\" >10th</th>        <th class=\"col_heading level0 col2\" >11th</th>        <th class=\"col_heading level0 col3\" >12th</th>    </tr>    <tr>        <th class=\"index_name level0\" >school_name</th>        <th class=\"blank\" ></th>        <th class=\"blank\" ></th>        <th class=\"blank\" ></th>        <th class=\"blank\" ></th>    </tr></thead><tbody>\n",
       "                <tr>\n",
       "                        <th id=\"T_71d2d2c2_f5b8_11ec_827f_fa9776767f0dlevel0_row0\" class=\"row_heading level0 row0\" >Bailey High School</th>\n",
       "                        <td id=\"T_71d2d2c2_f5b8_11ec_827f_fa9776767f0drow0_col0\" class=\"data row0 col0\" >81.303155</td>\n",
       "                        <td id=\"T_71d2d2c2_f5b8_11ec_827f_fa9776767f0drow0_col1\" class=\"data row0 col1\" >80.907183</td>\n",
       "                        <td id=\"T_71d2d2c2_f5b8_11ec_827f_fa9776767f0drow0_col2\" class=\"data row0 col2\" >80.945643</td>\n",
       "                        <td id=\"T_71d2d2c2_f5b8_11ec_827f_fa9776767f0drow0_col3\" class=\"data row0 col3\" >80.912451</td>\n",
       "            </tr>\n",
       "            <tr>\n",
       "                        <th id=\"T_71d2d2c2_f5b8_11ec_827f_fa9776767f0dlevel0_row1\" class=\"row_heading level0 row1\" >Cabrera High School</th>\n",
       "                        <td id=\"T_71d2d2c2_f5b8_11ec_827f_fa9776767f0drow1_col0\" class=\"data row1 col0\" >83.676136</td>\n",
       "                        <td id=\"T_71d2d2c2_f5b8_11ec_827f_fa9776767f0drow1_col1\" class=\"data row1 col1\" >84.253219</td>\n",
       "                        <td id=\"T_71d2d2c2_f5b8_11ec_827f_fa9776767f0drow1_col2\" class=\"data row1 col2\" >83.788382</td>\n",
       "                        <td id=\"T_71d2d2c2_f5b8_11ec_827f_fa9776767f0drow1_col3\" class=\"data row1 col3\" >84.287958</td>\n",
       "            </tr>\n",
       "            <tr>\n",
       "                        <th id=\"T_71d2d2c2_f5b8_11ec_827f_fa9776767f0dlevel0_row2\" class=\"row_heading level0 row2\" >Figueroa High School</th>\n",
       "                        <td id=\"T_71d2d2c2_f5b8_11ec_827f_fa9776767f0drow2_col0\" class=\"data row2 col0\" >81.198598</td>\n",
       "                        <td id=\"T_71d2d2c2_f5b8_11ec_827f_fa9776767f0drow2_col1\" class=\"data row2 col1\" >81.408912</td>\n",
       "                        <td id=\"T_71d2d2c2_f5b8_11ec_827f_fa9776767f0drow2_col2\" class=\"data row2 col2\" >80.640339</td>\n",
       "                        <td id=\"T_71d2d2c2_f5b8_11ec_827f_fa9776767f0drow2_col3\" class=\"data row2 col3\" >81.384863</td>\n",
       "            </tr>\n",
       "            <tr>\n",
       "                        <th id=\"T_71d2d2c2_f5b8_11ec_827f_fa9776767f0dlevel0_row3\" class=\"row_heading level0 row3\" >Ford High School</th>\n",
       "                        <td id=\"T_71d2d2c2_f5b8_11ec_827f_fa9776767f0drow3_col0\" class=\"data row3 col0\" >80.632653</td>\n",
       "                        <td id=\"T_71d2d2c2_f5b8_11ec_827f_fa9776767f0drow3_col1\" class=\"data row3 col1\" >81.262712</td>\n",
       "                        <td id=\"T_71d2d2c2_f5b8_11ec_827f_fa9776767f0drow3_col2\" class=\"data row3 col2\" >80.403642</td>\n",
       "                        <td id=\"T_71d2d2c2_f5b8_11ec_827f_fa9776767f0drow3_col3\" class=\"data row3 col3\" >80.662338</td>\n",
       "            </tr>\n",
       "            <tr>\n",
       "                        <th id=\"T_71d2d2c2_f5b8_11ec_827f_fa9776767f0dlevel0_row4\" class=\"row_heading level0 row4\" >Griffin High School</th>\n",
       "                        <td id=\"T_71d2d2c2_f5b8_11ec_827f_fa9776767f0drow4_col0\" class=\"data row4 col0\" >83.369193</td>\n",
       "                        <td id=\"T_71d2d2c2_f5b8_11ec_827f_fa9776767f0drow4_col1\" class=\"data row4 col1\" >83.706897</td>\n",
       "                        <td id=\"T_71d2d2c2_f5b8_11ec_827f_fa9776767f0drow4_col2\" class=\"data row4 col2\" >84.288089</td>\n",
       "                        <td id=\"T_71d2d2c2_f5b8_11ec_827f_fa9776767f0drow4_col3\" class=\"data row4 col3\" >84.013699</td>\n",
       "            </tr>\n",
       "            <tr>\n",
       "                        <th id=\"T_71d2d2c2_f5b8_11ec_827f_fa9776767f0dlevel0_row5\" class=\"row_heading level0 row5\" >Hernandez High School</th>\n",
       "                        <td id=\"T_71d2d2c2_f5b8_11ec_827f_fa9776767f0drow5_col0\" class=\"data row5 col0\" >80.866860</td>\n",
       "                        <td id=\"T_71d2d2c2_f5b8_11ec_827f_fa9776767f0drow5_col1\" class=\"data row5 col1\" >80.660147</td>\n",
       "                        <td id=\"T_71d2d2c2_f5b8_11ec_827f_fa9776767f0drow5_col2\" class=\"data row5 col2\" >81.396140</td>\n",
       "                        <td id=\"T_71d2d2c2_f5b8_11ec_827f_fa9776767f0drow5_col3\" class=\"data row5 col3\" >80.857143</td>\n",
       "            </tr>\n",
       "            <tr>\n",
       "                        <th id=\"T_71d2d2c2_f5b8_11ec_827f_fa9776767f0dlevel0_row6\" class=\"row_heading level0 row6\" >Holden High School</th>\n",
       "                        <td id=\"T_71d2d2c2_f5b8_11ec_827f_fa9776767f0drow6_col0\" class=\"data row6 col0\" >83.677165</td>\n",
       "                        <td id=\"T_71d2d2c2_f5b8_11ec_827f_fa9776767f0drow6_col1\" class=\"data row6 col1\" >83.324561</td>\n",
       "                        <td id=\"T_71d2d2c2_f5b8_11ec_827f_fa9776767f0drow6_col2\" class=\"data row6 col2\" >83.815534</td>\n",
       "                        <td id=\"T_71d2d2c2_f5b8_11ec_827f_fa9776767f0drow6_col3\" class=\"data row6 col3\" >84.698795</td>\n",
       "            </tr>\n",
       "            <tr>\n",
       "                        <th id=\"T_71d2d2c2_f5b8_11ec_827f_fa9776767f0dlevel0_row7\" class=\"row_heading level0 row7\" >Huang High School</th>\n",
       "                        <td id=\"T_71d2d2c2_f5b8_11ec_827f_fa9776767f0drow7_col0\" class=\"data row7 col0\" >81.290284</td>\n",
       "                        <td id=\"T_71d2d2c2_f5b8_11ec_827f_fa9776767f0drow7_col1\" class=\"data row7 col1\" >81.512386</td>\n",
       "                        <td id=\"T_71d2d2c2_f5b8_11ec_827f_fa9776767f0drow7_col2\" class=\"data row7 col2\" >81.417476</td>\n",
       "                        <td id=\"T_71d2d2c2_f5b8_11ec_827f_fa9776767f0drow7_col3\" class=\"data row7 col3\" >80.305983</td>\n",
       "            </tr>\n",
       "            <tr>\n",
       "                        <th id=\"T_71d2d2c2_f5b8_11ec_827f_fa9776767f0dlevel0_row8\" class=\"row_heading level0 row8\" >Johnson High School</th>\n",
       "                        <td id=\"T_71d2d2c2_f5b8_11ec_827f_fa9776767f0drow8_col0\" class=\"data row8 col0\" >81.260714</td>\n",
       "                        <td id=\"T_71d2d2c2_f5b8_11ec_827f_fa9776767f0drow8_col1\" class=\"data row8 col1\" >80.773431</td>\n",
       "                        <td id=\"T_71d2d2c2_f5b8_11ec_827f_fa9776767f0drow8_col2\" class=\"data row8 col2\" >80.616027</td>\n",
       "                        <td id=\"T_71d2d2c2_f5b8_11ec_827f_fa9776767f0drow8_col3\" class=\"data row8 col3\" >81.227564</td>\n",
       "            </tr>\n",
       "            <tr>\n",
       "                        <th id=\"T_71d2d2c2_f5b8_11ec_827f_fa9776767f0dlevel0_row9\" class=\"row_heading level0 row9\" >Pena High School</th>\n",
       "                        <td id=\"T_71d2d2c2_f5b8_11ec_827f_fa9776767f0drow9_col0\" class=\"data row9 col0\" >83.807273</td>\n",
       "                        <td id=\"T_71d2d2c2_f5b8_11ec_827f_fa9776767f0drow9_col1\" class=\"data row9 col1\" >83.612000</td>\n",
       "                        <td id=\"T_71d2d2c2_f5b8_11ec_827f_fa9776767f0drow9_col2\" class=\"data row9 col2\" >84.335938</td>\n",
       "                        <td id=\"T_71d2d2c2_f5b8_11ec_827f_fa9776767f0drow9_col3\" class=\"data row9 col3\" >84.591160</td>\n",
       "            </tr>\n",
       "            <tr>\n",
       "                        <th id=\"T_71d2d2c2_f5b8_11ec_827f_fa9776767f0dlevel0_row10\" class=\"row_heading level0 row10\" >Rodriguez High School</th>\n",
       "                        <td id=\"T_71d2d2c2_f5b8_11ec_827f_fa9776767f0drow10_col0\" class=\"data row10 col0\" >80.993127</td>\n",
       "                        <td id=\"T_71d2d2c2_f5b8_11ec_827f_fa9776767f0drow10_col1\" class=\"data row10 col1\" >80.629808</td>\n",
       "                        <td id=\"T_71d2d2c2_f5b8_11ec_827f_fa9776767f0drow10_col2\" class=\"data row10 col2\" >80.864811</td>\n",
       "                        <td id=\"T_71d2d2c2_f5b8_11ec_827f_fa9776767f0drow10_col3\" class=\"data row10 col3\" >80.376426</td>\n",
       "            </tr>\n",
       "            <tr>\n",
       "                        <th id=\"T_71d2d2c2_f5b8_11ec_827f_fa9776767f0dlevel0_row11\" class=\"row_heading level0 row11\" >Shelton High School</th>\n",
       "                        <td id=\"T_71d2d2c2_f5b8_11ec_827f_fa9776767f0drow11_col0\" class=\"data row11 col0\" >84.122642</td>\n",
       "                        <td id=\"T_71d2d2c2_f5b8_11ec_827f_fa9776767f0drow11_col1\" class=\"data row11 col1\" >83.441964</td>\n",
       "                        <td id=\"T_71d2d2c2_f5b8_11ec_827f_fa9776767f0drow11_col2\" class=\"data row11 col2\" >84.373786</td>\n",
       "                        <td id=\"T_71d2d2c2_f5b8_11ec_827f_fa9776767f0drow11_col3\" class=\"data row11 col3\" >82.781671</td>\n",
       "            </tr>\n",
       "            <tr>\n",
       "                        <th id=\"T_71d2d2c2_f5b8_11ec_827f_fa9776767f0dlevel0_row12\" class=\"row_heading level0 row12\" >Thomas High School</th>\n",
       "                        <td id=\"T_71d2d2c2_f5b8_11ec_827f_fa9776767f0drow12_col0\" class=\"data row12 col0\" >83.728850</td>\n",
       "                        <td id=\"T_71d2d2c2_f5b8_11ec_827f_fa9776767f0drow12_col1\" class=\"data row12 col1\" >84.254157</td>\n",
       "                        <td id=\"T_71d2d2c2_f5b8_11ec_827f_fa9776767f0drow12_col2\" class=\"data row12 col2\" >83.585542</td>\n",
       "                        <td id=\"T_71d2d2c2_f5b8_11ec_827f_fa9776767f0drow12_col3\" class=\"data row12 col3\" >83.831361</td>\n",
       "            </tr>\n",
       "            <tr>\n",
       "                        <th id=\"T_71d2d2c2_f5b8_11ec_827f_fa9776767f0dlevel0_row13\" class=\"row_heading level0 row13\" >Wilson High School</th>\n",
       "                        <td id=\"T_71d2d2c2_f5b8_11ec_827f_fa9776767f0drow13_col0\" class=\"data row13 col0\" >83.939778</td>\n",
       "                        <td id=\"T_71d2d2c2_f5b8_11ec_827f_fa9776767f0drow13_col1\" class=\"data row13 col1\" >84.021452</td>\n",
       "                        <td id=\"T_71d2d2c2_f5b8_11ec_827f_fa9776767f0drow13_col2\" class=\"data row13 col2\" >83.764608</td>\n",
       "                        <td id=\"T_71d2d2c2_f5b8_11ec_827f_fa9776767f0drow13_col3\" class=\"data row13 col3\" >84.317673</td>\n",
       "            </tr>\n",
       "            <tr>\n",
       "                        <th id=\"T_71d2d2c2_f5b8_11ec_827f_fa9776767f0dlevel0_row14\" class=\"row_heading level0 row14\" >Wright High School</th>\n",
       "                        <td id=\"T_71d2d2c2_f5b8_11ec_827f_fa9776767f0drow14_col0\" class=\"data row14 col0\" >83.833333</td>\n",
       "                        <td id=\"T_71d2d2c2_f5b8_11ec_827f_fa9776767f0drow14_col1\" class=\"data row14 col1\" >83.812757</td>\n",
       "                        <td id=\"T_71d2d2c2_f5b8_11ec_827f_fa9776767f0drow14_col2\" class=\"data row14 col2\" >84.156322</td>\n",
       "                        <td id=\"T_71d2d2c2_f5b8_11ec_827f_fa9776767f0drow14_col3\" class=\"data row14 col3\" >84.073171</td>\n",
       "            </tr>\n",
       "    </tbody></table>"
      ],
      "text/plain": [
       "<pandas.io.formats.style.Styler at 0x1c239f42308>"
      ]
     },
     "execution_count": 237,
     "metadata": {},
     "output_type": "execute_result"
    }
   ],
   "source": [
    "Reading_Score_by_Grade_df = pd.DataFrame({\"9th\": reading_grade_9th,\n",
    "      \"10th\": reading_grade_10th,\n",
    "      \"11th\": reading_grade_11th,\n",
    "      \"12th\": reading_grade_12th})\n",
    "\n",
    "Reading_Score_by_Grade_df[[\"9th\", \"10th\", \"11th\", \"12th\"]].style.set_table_styles([{'selector': 'td', 'props': [('text-align', 'center')]},\n",
    "                           {'selector': '.col_heading', 'props': [('text-align', 'center')]},\n",
    "                           {'selector': '.row_heading', 'props': [('text-align', 'left')]}])"
   ]
  },
  {
   "cell_type": "code",
   "execution_count": 238,
   "id": "a0ef10b5",
   "metadata": {},
   "outputs": [],
   "source": [
    "# Scores by School Spending"
   ]
  },
  {
   "cell_type": "code",
   "execution_count": 239,
   "id": "492774ca",
   "metadata": {},
   "outputs": [],
   "source": [
    "bins = [0, 585, 630, 645, 680]"
   ]
  },
  {
   "cell_type": "code",
   "execution_count": 240,
   "id": "cebdc882",
   "metadata": {},
   "outputs": [],
   "source": [
    "spending_groups = [\"<$585\", \"$585-630\", \"$630-645\", \"$645-680\"]"
   ]
  },
  {
   "cell_type": "code",
   "execution_count": 241,
   "id": "7acb953b",
   "metadata": {},
   "outputs": [],
   "source": [
    "School_Summary_df[\"Per Student Budget\"] = School_Summary_df[\"Per Student Budget\"].apply(lambda x: x.replace('$','').replace(',' ,'')).astype('float')"
   ]
  },
  {
   "cell_type": "code",
   "execution_count": 242,
   "id": "e0befd8a",
   "metadata": {},
   "outputs": [],
   "source": [
    "School_Summary_df[\"Spending Ranges (Per Student)\"] = pd.cut(School_Summary_df[\"Per Student Budget\"], bins, labels = spending_groups)"
   ]
  },
  {
   "cell_type": "code",
   "execution_count": 246,
   "id": "35443b96",
   "metadata": {},
   "outputs": [],
   "source": [
    "grouped_spending_df = School_Summary_df.groupby([\"Spending Ranges (Per Student)\"])"
   ]
  },
  {
   "cell_type": "code",
   "execution_count": 247,
   "id": "619c2320",
   "metadata": {},
   "outputs": [],
   "source": [
    "School_Spending_Summary_df = grouped_spending_df.mean()"
   ]
  },
  {
   "cell_type": "code",
   "execution_count": 248,
   "id": "ae463103",
   "metadata": {},
   "outputs": [],
   "source": [
    "School_Spending_Summary_df[\"Average Math Score\"] = School_Spending_Summary_df[\"Average Math Score\"].map(\"{:,.2f}\".format)\n",
    "School_Spending_Summary_df[\"Average Reading Score\"] = School_Spending_Summary_df[\"Average Reading Score\"].map(\"{:,.2f}\".format)\n",
    "School_Spending_Summary_df[\"% Passing Math\"] = School_Spending_Summary_df[\"% Passing Math\"].map(\"{:,.2f}\".format)\n",
    "School_Spending_Summary_df[\"% Passing Reading\"] = School_Spending_Summary_df[\"% Passing Reading\"].map(\"{:,.2f}\".format)\n",
    "School_Spending_Summary_df[\"% Overall Passing\"] = School_Spending_Summary_df[\"% Overall Passing\"].map(\"{:,.2f}\".format)"
   ]
  },
  {
   "cell_type": "code",
   "execution_count": 249,
   "id": "e916fc01",
   "metadata": {},
   "outputs": [
    {
     "data": {
      "text/html": [
       "<style  type=\"text/css\" >\n",
       "    #T_9f8c3346_f5b8_11ec_bc81_fa9776767f0d td {\n",
       "          text-align: center;\n",
       "    }    #T_9f8c3346_f5b8_11ec_bc81_fa9776767f0d .col_heading {\n",
       "          text-align: center;\n",
       "    }    #T_9f8c3346_f5b8_11ec_bc81_fa9776767f0d .row_heading {\n",
       "          text-align: left;\n",
       "    }</style><table id=\"T_9f8c3346_f5b8_11ec_bc81_fa9776767f0d\" ><thead>    <tr>        <th class=\"blank level0\" ></th>        <th class=\"col_heading level0 col0\" >Average Math Score</th>        <th class=\"col_heading level0 col1\" >Average Reading Score</th>        <th class=\"col_heading level0 col2\" >% Passing Math</th>        <th class=\"col_heading level0 col3\" >% Passing Reading</th>        <th class=\"col_heading level0 col4\" >% Overall Passing</th>    </tr>    <tr>        <th class=\"index_name level0\" >Spending Ranges (Per Student)</th>        <th class=\"blank\" ></th>        <th class=\"blank\" ></th>        <th class=\"blank\" ></th>        <th class=\"blank\" ></th>        <th class=\"blank\" ></th>    </tr></thead><tbody>\n",
       "                <tr>\n",
       "                        <th id=\"T_9f8c3346_f5b8_11ec_bc81_fa9776767f0dlevel0_row0\" class=\"row_heading level0 row0\" ><$585</th>\n",
       "                        <td id=\"T_9f8c3346_f5b8_11ec_bc81_fa9776767f0drow0_col0\" class=\"data row0 col0\" >83.46</td>\n",
       "                        <td id=\"T_9f8c3346_f5b8_11ec_bc81_fa9776767f0drow0_col1\" class=\"data row0 col1\" >83.93</td>\n",
       "                        <td id=\"T_9f8c3346_f5b8_11ec_bc81_fa9776767f0drow0_col2\" class=\"data row0 col2\" >93.46</td>\n",
       "                        <td id=\"T_9f8c3346_f5b8_11ec_bc81_fa9776767f0drow0_col3\" class=\"data row0 col3\" >96.61</td>\n",
       "                        <td id=\"T_9f8c3346_f5b8_11ec_bc81_fa9776767f0drow0_col4\" class=\"data row0 col4\" >95.04</td>\n",
       "            </tr>\n",
       "            <tr>\n",
       "                        <th id=\"T_9f8c3346_f5b8_11ec_bc81_fa9776767f0dlevel0_row1\" class=\"row_heading level0 row1\" >$585-630</th>\n",
       "                        <td id=\"T_9f8c3346_f5b8_11ec_bc81_fa9776767f0drow1_col0\" class=\"data row1 col0\" >81.90</td>\n",
       "                        <td id=\"T_9f8c3346_f5b8_11ec_bc81_fa9776767f0drow1_col1\" class=\"data row1 col1\" >83.16</td>\n",
       "                        <td id=\"T_9f8c3346_f5b8_11ec_bc81_fa9776767f0drow1_col2\" class=\"data row1 col2\" >87.13</td>\n",
       "                        <td id=\"T_9f8c3346_f5b8_11ec_bc81_fa9776767f0drow1_col3\" class=\"data row1 col3\" >92.72</td>\n",
       "                        <td id=\"T_9f8c3346_f5b8_11ec_bc81_fa9776767f0drow1_col4\" class=\"data row1 col4\" >89.93</td>\n",
       "            </tr>\n",
       "            <tr>\n",
       "                        <th id=\"T_9f8c3346_f5b8_11ec_bc81_fa9776767f0dlevel0_row2\" class=\"row_heading level0 row2\" >$630-645</th>\n",
       "                        <td id=\"T_9f8c3346_f5b8_11ec_bc81_fa9776767f0drow2_col0\" class=\"data row2 col0\" >78.52</td>\n",
       "                        <td id=\"T_9f8c3346_f5b8_11ec_bc81_fa9776767f0drow2_col1\" class=\"data row2 col1\" >81.62</td>\n",
       "                        <td id=\"T_9f8c3346_f5b8_11ec_bc81_fa9776767f0drow2_col2\" class=\"data row2 col2\" >73.48</td>\n",
       "                        <td id=\"T_9f8c3346_f5b8_11ec_bc81_fa9776767f0drow2_col3\" class=\"data row2 col3\" >84.39</td>\n",
       "                        <td id=\"T_9f8c3346_f5b8_11ec_bc81_fa9776767f0drow2_col4\" class=\"data row2 col4\" >78.94</td>\n",
       "            </tr>\n",
       "            <tr>\n",
       "                        <th id=\"T_9f8c3346_f5b8_11ec_bc81_fa9776767f0dlevel0_row3\" class=\"row_heading level0 row3\" >$645-680</th>\n",
       "                        <td id=\"T_9f8c3346_f5b8_11ec_bc81_fa9776767f0drow3_col0\" class=\"data row3 col0\" >77.00</td>\n",
       "                        <td id=\"T_9f8c3346_f5b8_11ec_bc81_fa9776767f0drow3_col1\" class=\"data row3 col1\" >81.03</td>\n",
       "                        <td id=\"T_9f8c3346_f5b8_11ec_bc81_fa9776767f0drow3_col2\" class=\"data row3 col2\" >66.16</td>\n",
       "                        <td id=\"T_9f8c3346_f5b8_11ec_bc81_fa9776767f0drow3_col3\" class=\"data row3 col3\" >81.13</td>\n",
       "                        <td id=\"T_9f8c3346_f5b8_11ec_bc81_fa9776767f0drow3_col4\" class=\"data row3 col4\" >73.65</td>\n",
       "            </tr>\n",
       "    </tbody></table>"
      ],
      "text/plain": [
       "<pandas.io.formats.style.Styler at 0x1c239f59bc8>"
      ]
     },
     "execution_count": 249,
     "metadata": {},
     "output_type": "execute_result"
    }
   ],
   "source": [
    "School_Spending_Summary_df[[\"Average Math Score\",\n",
    "      \"Average Reading Score\",\n",
    "      \"% Passing Math\",\n",
    "      \"% Passing Reading\",\n",
    "      \"% Overall Passing\"]].style.set_table_styles([{'selector': 'td', 'props': [('text-align', 'center')]},\n",
    "                           {'selector': '.col_heading', 'props': [('text-align', 'center')]},\n",
    "                           {'selector': '.row_heading', 'props': [('text-align', 'left')]}])"
   ]
  },
  {
   "cell_type": "code",
   "execution_count": 250,
   "id": "cf251fbe",
   "metadata": {},
   "outputs": [],
   "source": [
    "#Scores by School Size"
   ]
  },
  {
   "cell_type": "code",
   "execution_count": 251,
   "id": "151a62ea",
   "metadata": {},
   "outputs": [],
   "source": [
    "bins = [0, 1000, 2000, 5000]"
   ]
  },
  {
   "cell_type": "code",
   "execution_count": 252,
   "id": "402aac91",
   "metadata": {},
   "outputs": [],
   "source": [
    "group_size = [\"Small (<1000)\", \"Medium (1000-2000)\", \"Large (2000-5000)\"]"
   ]
  },
  {
   "cell_type": "code",
   "execution_count": 254,
   "id": "af522f0e",
   "metadata": {},
   "outputs": [],
   "source": [
    "School_Summary_df[\"School Size\"] = pd.cut(School_Summary_df[\"Total Students\"], bins, labels = group_size)"
   ]
  },
  {
   "cell_type": "code",
   "execution_count": 256,
   "id": "e906a597",
   "metadata": {},
   "outputs": [],
   "source": [
    "school_size_score_df = School_Summary_df.groupby([\"School Size\"]) "
   ]
  },
  {
   "cell_type": "code",
   "execution_count": 257,
   "id": "c4b8c0db",
   "metadata": {},
   "outputs": [],
   "source": [
    "school_size_score_summary_df = school_size_score_df.mean()"
   ]
  },
  {
   "cell_type": "code",
   "execution_count": 258,
   "id": "c2add927",
   "metadata": {},
   "outputs": [
    {
     "data": {
      "text/html": [
       "<style  type=\"text/css\" >\n",
       "    #T_8286815c_f5ba_11ec_bf9f_fa9776767f0d td {\n",
       "          text-align: center;\n",
       "    }    #T_8286815c_f5ba_11ec_bf9f_fa9776767f0d .col_heading {\n",
       "          text-align: center;\n",
       "    }    #T_8286815c_f5ba_11ec_bf9f_fa9776767f0d .row_heading {\n",
       "          text-align: left;\n",
       "    }</style><table id=\"T_8286815c_f5ba_11ec_bf9f_fa9776767f0d\" ><thead>    <tr>        <th class=\"blank level0\" ></th>        <th class=\"col_heading level0 col0\" >Average Math Score</th>        <th class=\"col_heading level0 col1\" >Average Reading Score</th>        <th class=\"col_heading level0 col2\" >% Passing Math</th>        <th class=\"col_heading level0 col3\" >% Passing Reading</th>        <th class=\"col_heading level0 col4\" >% Overall Passing</th>    </tr>    <tr>        <th class=\"index_name level0\" >School Size</th>        <th class=\"blank\" ></th>        <th class=\"blank\" ></th>        <th class=\"blank\" ></th>        <th class=\"blank\" ></th>        <th class=\"blank\" ></th>    </tr></thead><tbody>\n",
       "                <tr>\n",
       "                        <th id=\"T_8286815c_f5ba_11ec_bf9f_fa9776767f0dlevel0_row0\" class=\"row_heading level0 row0\" >Small (<1000)</th>\n",
       "                        <td id=\"T_8286815c_f5ba_11ec_bf9f_fa9776767f0drow0_col0\" class=\"data row0 col0\" >83.821598</td>\n",
       "                        <td id=\"T_8286815c_f5ba_11ec_bf9f_fa9776767f0drow0_col1\" class=\"data row0 col1\" >83.929843</td>\n",
       "                        <td id=\"T_8286815c_f5ba_11ec_bf9f_fa9776767f0drow0_col2\" class=\"data row0 col2\" >93.550225</td>\n",
       "                        <td id=\"T_8286815c_f5ba_11ec_bf9f_fa9776767f0drow0_col3\" class=\"data row0 col3\" >96.099437</td>\n",
       "                        <td id=\"T_8286815c_f5ba_11ec_bf9f_fa9776767f0drow0_col4\" class=\"data row0 col4\" >94.824831</td>\n",
       "            </tr>\n",
       "            <tr>\n",
       "                        <th id=\"T_8286815c_f5ba_11ec_bf9f_fa9776767f0dlevel0_row1\" class=\"row_heading level0 row1\" >Medium (1000-2000)</th>\n",
       "                        <td id=\"T_8286815c_f5ba_11ec_bf9f_fa9776767f0drow1_col0\" class=\"data row1 col0\" >83.374684</td>\n",
       "                        <td id=\"T_8286815c_f5ba_11ec_bf9f_fa9776767f0drow1_col1\" class=\"data row1 col1\" >83.864438</td>\n",
       "                        <td id=\"T_8286815c_f5ba_11ec_bf9f_fa9776767f0drow1_col2\" class=\"data row1 col2\" >93.599695</td>\n",
       "                        <td id=\"T_8286815c_f5ba_11ec_bf9f_fa9776767f0drow1_col3\" class=\"data row1 col3\" >96.790680</td>\n",
       "                        <td id=\"T_8286815c_f5ba_11ec_bf9f_fa9776767f0drow1_col4\" class=\"data row1 col4\" >95.195187</td>\n",
       "            </tr>\n",
       "            <tr>\n",
       "                        <th id=\"T_8286815c_f5ba_11ec_bf9f_fa9776767f0dlevel0_row2\" class=\"row_heading level0 row2\" >Large (2000-5000)</th>\n",
       "                        <td id=\"T_8286815c_f5ba_11ec_bf9f_fa9776767f0drow2_col0\" class=\"data row2 col0\" >77.746417</td>\n",
       "                        <td id=\"T_8286815c_f5ba_11ec_bf9f_fa9776767f0drow2_col1\" class=\"data row2 col1\" >81.344493</td>\n",
       "                        <td id=\"T_8286815c_f5ba_11ec_bf9f_fa9776767f0drow2_col2\" class=\"data row2 col2\" >69.963361</td>\n",
       "                        <td id=\"T_8286815c_f5ba_11ec_bf9f_fa9776767f0drow2_col3\" class=\"data row2 col3\" >82.766634</td>\n",
       "                        <td id=\"T_8286815c_f5ba_11ec_bf9f_fa9776767f0drow2_col4\" class=\"data row2 col4\" >76.364998</td>\n",
       "            </tr>\n",
       "    </tbody></table>"
      ],
      "text/plain": [
       "<pandas.io.formats.style.Styler at 0x1c23b9f40c8>"
      ]
     },
     "execution_count": 258,
     "metadata": {},
     "output_type": "execute_result"
    }
   ],
   "source": [
    "school_size_score_summary_df[[\"Average Math Score\",\n",
    "      \"Average Reading Score\",\n",
    "      \"% Passing Math\",\n",
    "      \"% Passing Reading\",\n",
    "      \"% Overall Passing\"]].style.set_table_styles([{'selector': 'td', 'props': [('text-align', 'center')]},\n",
    "                           {'selector': '.col_heading', 'props': [('text-align', 'center')]},\n",
    "                           {'selector': '.row_heading', 'props': [('text-align', 'left')]}])"
   ]
  },
  {
   "cell_type": "code",
   "execution_count": 259,
   "id": "561585aa",
   "metadata": {},
   "outputs": [],
   "source": [
    "#Scores by School Type"
   ]
  },
  {
   "cell_type": "code",
   "execution_count": 264,
   "id": "6f5a29c0",
   "metadata": {},
   "outputs": [],
   "source": [
    "school_type_score_df = School_Summary_df.groupby([\"School Type\"])"
   ]
  },
  {
   "cell_type": "code",
   "execution_count": 265,
   "id": "a63d07d4",
   "metadata": {},
   "outputs": [],
   "source": [
    "school_type_score_summary_df = school_type_score_df.mean()"
   ]
  },
  {
   "cell_type": "code",
   "execution_count": 267,
   "id": "8f540ac8",
   "metadata": {},
   "outputs": [
    {
     "data": {
      "text/html": [
       "<style  type=\"text/css\" >\n",
       "    #T_aae351c0_f5bb_11ec_b59a_fa9776767f0d td {\n",
       "          text-align: center;\n",
       "    }    #T_aae351c0_f5bb_11ec_b59a_fa9776767f0d .col_heading {\n",
       "          text-align: center;\n",
       "    }    #T_aae351c0_f5bb_11ec_b59a_fa9776767f0d .row_heading {\n",
       "          text-align: left;\n",
       "    }</style><table id=\"T_aae351c0_f5bb_11ec_b59a_fa9776767f0d\" ><thead>    <tr>        <th class=\"blank level0\" ></th>        <th class=\"col_heading level0 col0\" >Average Math Score</th>        <th class=\"col_heading level0 col1\" >Average Reading Score</th>        <th class=\"col_heading level0 col2\" >% Passing Math</th>        <th class=\"col_heading level0 col3\" >% Passing Reading</th>        <th class=\"col_heading level0 col4\" >% Overall Passing</th>    </tr>    <tr>        <th class=\"index_name level0\" >School Type</th>        <th class=\"blank\" ></th>        <th class=\"blank\" ></th>        <th class=\"blank\" ></th>        <th class=\"blank\" ></th>        <th class=\"blank\" ></th>    </tr></thead><tbody>\n",
       "                <tr>\n",
       "                        <th id=\"T_aae351c0_f5bb_11ec_b59a_fa9776767f0dlevel0_row0\" class=\"row_heading level0 row0\" >Charter</th>\n",
       "                        <td id=\"T_aae351c0_f5bb_11ec_b59a_fa9776767f0drow0_col0\" class=\"data row0 col0\" >83.473852</td>\n",
       "                        <td id=\"T_aae351c0_f5bb_11ec_b59a_fa9776767f0drow0_col1\" class=\"data row0 col1\" >83.896421</td>\n",
       "                        <td id=\"T_aae351c0_f5bb_11ec_b59a_fa9776767f0drow0_col2\" class=\"data row0 col2\" >93.620830</td>\n",
       "                        <td id=\"T_aae351c0_f5bb_11ec_b59a_fa9776767f0drow0_col3\" class=\"data row0 col3\" >96.586489</td>\n",
       "                        <td id=\"T_aae351c0_f5bb_11ec_b59a_fa9776767f0drow0_col4\" class=\"data row0 col4\" >95.103660</td>\n",
       "            </tr>\n",
       "            <tr>\n",
       "                        <th id=\"T_aae351c0_f5bb_11ec_b59a_fa9776767f0dlevel0_row1\" class=\"row_heading level0 row1\" >District</th>\n",
       "                        <td id=\"T_aae351c0_f5bb_11ec_b59a_fa9776767f0drow1_col0\" class=\"data row1 col0\" >76.956733</td>\n",
       "                        <td id=\"T_aae351c0_f5bb_11ec_b59a_fa9776767f0drow1_col1\" class=\"data row1 col1\" >80.966636</td>\n",
       "                        <td id=\"T_aae351c0_f5bb_11ec_b59a_fa9776767f0drow1_col2\" class=\"data row1 col2\" >66.548453</td>\n",
       "                        <td id=\"T_aae351c0_f5bb_11ec_b59a_fa9776767f0drow1_col3\" class=\"data row1 col3\" >80.799062</td>\n",
       "                        <td id=\"T_aae351c0_f5bb_11ec_b59a_fa9776767f0drow1_col4\" class=\"data row1 col4\" >73.673757</td>\n",
       "            </tr>\n",
       "    </tbody></table>"
      ],
      "text/plain": [
       "<pandas.io.formats.style.Styler at 0x1c23ba32a08>"
      ]
     },
     "execution_count": 267,
     "metadata": {},
     "output_type": "execute_result"
    }
   ],
   "source": [
    "school_type_score_summary_df[[\"Average Math Score\",\n",
    "      \"Average Reading Score\",\n",
    "      \"% Passing Math\",\n",
    "      \"% Passing Reading\",\n",
    "      \"% Overall Passing\"]].style.set_table_styles([{'selector': 'td', 'props': [('text-align', 'center')]},\n",
    "                           {'selector': '.col_heading', 'props': [('text-align', 'center')]},\n",
    "                           {'selector': '.row_heading', 'props': [('text-align', 'left')]}])"
   ]
  },
  {
   "cell_type": "code",
   "execution_count": null,
   "id": "dca8113f",
   "metadata": {},
   "outputs": [],
   "source": []
  }
 ],
 "metadata": {
  "kernelspec": {
   "display_name": "PythonData",
   "language": "python",
   "name": "pythondata"
  },
  "language_info": {
   "codemirror_mode": {
    "name": "ipython",
    "version": 3
   },
   "file_extension": ".py",
   "mimetype": "text/x-python",
   "name": "python",
   "nbconvert_exporter": "python",
   "pygments_lexer": "ipython3",
   "version": "3.7.7"
  }
 },
 "nbformat": 4,
 "nbformat_minor": 5
}
